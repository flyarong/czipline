{
 "cells": [
  {
   "cell_type": "code",
   "execution_count": 1,
   "metadata": {
    "ExecuteTime": {
     "end_time": "2018-06-29T17:08:58.339128Z",
     "start_time": "2018-06-29T17:08:56.006062Z"
    }
   },
   "outputs": [],
   "source": [
    "from zipline import get_calendar"
   ]
  },
  {
   "cell_type": "code",
   "execution_count": 2,
   "metadata": {
    "ExecuteTime": {
     "end_time": "2018-06-29T17:08:58.963466Z",
     "start_time": "2018-06-29T17:08:58.342911Z"
    }
   },
   "outputs": [],
   "source": [
    "c = get_calendar('SZSH')"
   ]
  },
  {
   "cell_type": "code",
   "execution_count": 3,
   "metadata": {
    "ExecuteTime": {
     "end_time": "2018-06-29T17:08:58.978967Z",
     "start_time": "2018-06-29T17:08:58.967289Z"
    }
   },
   "outputs": [
    {
     "data": {
      "text/plain": [
       "Timestamp('1990-12-19 00:00:00+0000', tz='UTC', freq='C')"
      ]
     },
     "execution_count": 3,
     "metadata": {},
     "output_type": "execute_result"
    }
   ],
   "source": [
    "c.first_session"
   ]
  },
  {
   "cell_type": "code",
   "execution_count": 4,
   "metadata": {
    "ExecuteTime": {
     "end_time": "2018-06-29T17:08:58.991653Z",
     "start_time": "2018-06-29T17:08:58.982777Z"
    }
   },
   "outputs": [
    {
     "data": {
      "text/plain": [
       "Timestamp('2018-06-29 00:00:00+0000', tz='UTC', freq='C')"
      ]
     },
     "execution_count": 4,
     "metadata": {},
     "output_type": "execute_result"
    }
   ],
   "source": [
    "c.actual_last_session"
   ]
  },
  {
   "cell_type": "code",
   "execution_count": 5,
   "metadata": {
    "ExecuteTime": {
     "end_time": "2018-06-29T17:08:58.999063Z",
     "start_time": "2018-06-29T17:08:58.995404Z"
    }
   },
   "outputs": [],
   "source": [
    "# 如果初始化数据后，可执行命令，完成ingest\n",
    "\n",
    "#! zipline ingest"
   ]
  }
 ],
 "metadata": {
  "kernelspec": {
   "display_name": "zipline23",
   "language": "python",
   "name": "zipline23"
  },
  "language_info": {
   "codemirror_mode": {
    "name": "ipython",
    "version": 3
   },
   "file_extension": ".py",
   "mimetype": "text/x-python",
   "name": "python",
   "nbconvert_exporter": "python",
   "pygments_lexer": "ipython3",
   "version": "3.6.5"
  },
  "toc": {
   "base_numbering": 1,
   "nav_menu": {},
   "number_sections": true,
   "sideBar": true,
   "skip_h1_title": false,
   "title_cell": "Table of Contents",
   "title_sidebar": "Contents",
   "toc_cell": false,
   "toc_position": {},
   "toc_section_display": true,
   "toc_window_display": false
  }
 },
 "nbformat": 4,
 "nbformat_minor": 2
}
