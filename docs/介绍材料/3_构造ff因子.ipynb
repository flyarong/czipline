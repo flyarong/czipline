{
 "cells": [
  {
   "cell_type": "markdown",
   "metadata": {},
   "source": [
    "生成`fama-french`因子（暂时只提供`empyrical`包`get_fama_french`中相应的数据，并非真正意义上的`三因子`或者`五因子`）"
   ]
  },
  {
   "cell_type": "markdown",
   "metadata": {},
   "source": [
    "数据按交易日每天生成，每次运行该命令，即从上次运行结束之日起的下一个交易日至当前最后一个有效交易日期。数据保存在本地，供`get_fama_french`函数调用。"
   ]
  },
  {
   "cell_type": "code",
   "execution_count": 1,
   "metadata": {
    "ExecuteTime": {
     "end_time": "2018-05-14T04:07:11.150608Z",
     "start_time": "2018-05-14T04:07:06.694230Z"
    }
   },
   "outputs": [
    {
     "name": "stdout",
     "output_type": "stream",
     "text": [
      "[2018-07-02 21:09:06.297438] INFO: 构建ff因子: 当前处理日期：2018-06-19\n",
      "[2018-07-02 21:09:07.068960] INFO: 构建ff因子: 当前处理日期：2018-06-20\n",
      "[2018-07-02 21:09:07.978391] INFO: 构建ff因子: 当前处理日期：2018-06-21\n",
      "[2018-07-02 21:09:08.826411] INFO: 构建ff因子: 当前处理日期：2018-06-22\n",
      "[2018-07-02 21:09:09.575762] INFO: 构建ff因子: 当前处理日期：2018-06-25\n",
      "[2018-07-02 21:09:10.335426] INFO: 构建ff因子: 当前处理日期：2018-06-26\n",
      "[2018-07-02 21:09:11.108492] INFO: 构建ff因子: 当前处理日期：2018-06-27\n",
      "[2018-07-02 21:09:11.850913] INFO: 构建ff因子: 当前处理日期：2018-06-28\n",
      "[2018-07-02 21:09:12.589731] INFO: 构建ff因子: 当前处理日期：2018-06-29\n",
      "[2018-07-02 21:09:13.431504] INFO: 构建ff因子: 当前处理日期：2018-07-02\n"
     ]
    }
   ],
   "source": [
    "!gen-ff-factors"
   ]
  }
 ],
 "metadata": {
  "kernelspec": {
   "display_name": "zipline",
   "language": "python",
   "name": "zipline"
  },
  "language_info": {
   "codemirror_mode": {
    "name": "ipython",
    "version": 3
   },
   "file_extension": ".py",
   "mimetype": "text/x-python",
   "name": "python",
   "nbconvert_exporter": "python",
   "pygments_lexer": "ipython3",
   "version": "3.6.5"
  },
  "toc": {
   "base_numbering": 1,
   "nav_menu": {},
   "number_sections": true,
   "sideBar": true,
   "skip_h1_title": false,
   "title_cell": "Table of Contents",
   "title_sidebar": "Contents",
   "toc_cell": false,
   "toc_position": {},
   "toc_section_display": true,
   "toc_window_display": false
  }
 },
 "nbformat": 4,
 "nbformat_minor": 2
}
