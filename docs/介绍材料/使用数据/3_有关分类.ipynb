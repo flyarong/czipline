{
 "cells": [
  {
   "cell_type": "markdown",
   "metadata": {},
   "source": [
    "## 地域分类"
   ]
  },
  {
   "cell_type": "code",
   "execution_count": 1,
   "metadata": {
    "ExecuteTime": {
     "end_time": "2018-07-01T02:57:58.896165Z",
     "start_time": "2018-07-01T02:57:54.819572Z"
    }
   },
   "outputs": [],
   "source": [
    "from zipline.research import run_pipeline, select_output_by\n",
    "from zipline.pipeline import Pipeline\n",
    "from zipline.pipeline.data import CNEquityPricing"
   ]
  },
  {
   "cell_type": "code",
   "execution_count": 2,
   "metadata": {
    "ExecuteTime": {
     "end_time": "2018-07-01T02:57:58.902053Z",
     "start_time": "2018-07-01T02:57:58.898928Z"
    }
   },
   "outputs": [],
   "source": [
    "from zipline.pipeline.fundamentals import Fundamentals"
   ]
  },
  {
   "cell_type": "markdown",
   "metadata": {},
   "source": [
    "### 映射表"
   ]
  },
  {
   "cell_type": "code",
   "execution_count": 3,
   "metadata": {
    "ExecuteTime": {
     "end_time": "2018-07-01T02:57:58.975765Z",
     "start_time": "2018-07-01T02:57:58.904902Z"
    }
   },
   "outputs": [
    {
     "data": {
      "text/plain": [
       "{'0': '上海其它',\n",
       " '1': '云南',\n",
       " '2': '内蒙古',\n",
       " '3': '北京',\n",
       " '4': '吉林',\n",
       " '5': '四川',\n",
       " '6': '天津',\n",
       " '7': '宁夏',\n",
       " '8': '安徽',\n",
       " '9': '山东',\n",
       " '10': '山西',\n",
       " '11': '广东其它',\n",
       " '12': '广西',\n",
       " '13': '新疆',\n",
       " '14': '江苏',\n",
       " '15': '江西',\n",
       " '16': '河北',\n",
       " '17': '河南',\n",
       " '18': '浙江',\n",
       " '19': '浦东',\n",
       " '20': '海南',\n",
       " '21': '深圳',\n",
       " '22': '湖北',\n",
       " '23': '湖南',\n",
       " '24': '甘肃',\n",
       " '25': '福建',\n",
       " '26': '西藏',\n",
       " '27': '贵州',\n",
       " '28': '辽宁',\n",
       " '29': '重庆',\n",
       " '30': '陕西',\n",
       " '31': '青海',\n",
       " '32': '黑龙江'}"
      ]
     },
     "execution_count": 3,
     "metadata": {},
     "output_type": "execute_result"
    }
   ],
   "source": [
    "Fundamentals.region_maps"
   ]
  },
  {
   "cell_type": "markdown",
   "metadata": {},
   "source": [
    "### 基础"
   ]
  },
  {
   "cell_type": "code",
   "execution_count": 4,
   "metadata": {
    "ExecuteTime": {
     "end_time": "2018-07-01T02:57:58.988057Z",
     "start_time": "2018-07-01T02:57:58.979710Z"
    }
   },
   "outputs": [],
   "source": [
    "def make_pipeline():\n",
    "\n",
    "    return Pipeline(\n",
    "        columns={\n",
    "            '地区编码': Fundamentals.info.region.latest,\n",
    "            '收盘价': CNEquityPricing.close.latest,\n",
    "        })"
   ]
  },
  {
   "cell_type": "code",
   "execution_count": 5,
   "metadata": {
    "ExecuteTime": {
     "end_time": "2018-07-01T02:58:01.582791Z",
     "start_time": "2018-07-01T02:57:58.990782Z"
    }
   },
   "outputs": [
    {
     "data": {
      "text/html": [
       "<div>\n",
       "<style scoped>\n",
       "    .dataframe tbody tr th:only-of-type {\n",
       "        vertical-align: middle;\n",
       "    }\n",
       "\n",
       "    .dataframe tbody tr th {\n",
       "        vertical-align: top;\n",
       "    }\n",
       "\n",
       "    .dataframe thead th {\n",
       "        text-align: right;\n",
       "    }\n",
       "</style>\n",
       "<table border=\"1\" class=\"dataframe\">\n",
       "  <thead>\n",
       "    <tr style=\"text-align: right;\">\n",
       "      <th></th>\n",
       "      <th></th>\n",
       "      <th>地区编码</th>\n",
       "      <th>收盘价</th>\n",
       "    </tr>\n",
       "  </thead>\n",
       "  <tbody>\n",
       "    <tr>\n",
       "      <th rowspan=\"5\" valign=\"top\">2018-04-10 00:00:00+00:00</th>\n",
       "      <th>平安银行(000001)</th>\n",
       "      <td>21</td>\n",
       "      <td>11.02</td>\n",
       "    </tr>\n",
       "    <tr>\n",
       "      <th>万 科Ａ(000002)</th>\n",
       "      <td>21</td>\n",
       "      <td>31.62</td>\n",
       "    </tr>\n",
       "    <tr>\n",
       "      <th>国农科技(000004)</th>\n",
       "      <td>21</td>\n",
       "      <td>22.58</td>\n",
       "    </tr>\n",
       "    <tr>\n",
       "      <th>世纪星源(000005)</th>\n",
       "      <td>21</td>\n",
       "      <td>3.76</td>\n",
       "    </tr>\n",
       "    <tr>\n",
       "      <th>深振业Ａ(000006)</th>\n",
       "      <td>21</td>\n",
       "      <td>7.19</td>\n",
       "    </tr>\n",
       "  </tbody>\n",
       "</table>\n",
       "</div>"
      ],
      "text/plain": [
       "                                        地区编码    收盘价\n",
       "2018-04-10 00:00:00+00:00 平安银行(000001)    21  11.02\n",
       "                          万 科Ａ(000002)    21  31.62\n",
       "                          国农科技(000004)    21  22.58\n",
       "                          世纪星源(000005)    21   3.76\n",
       "                          深振业Ａ(000006)    21   7.19"
      ]
     },
     "execution_count": 5,
     "metadata": {},
     "output_type": "execute_result"
    }
   ],
   "source": [
    "result = run_pipeline(make_pipeline(), '2018-04-10', '2018-04-10')\n",
    "result.head(5)"
   ]
  },
  {
   "cell_type": "markdown",
   "metadata": {},
   "source": [
    "### 编码含义"
   ]
  },
  {
   "cell_type": "code",
   "execution_count": 6,
   "metadata": {
    "ExecuteTime": {
     "end_time": "2018-07-01T02:58:01.667492Z",
     "start_time": "2018-07-01T02:58:01.586236Z"
    }
   },
   "outputs": [
    {
     "data": {
      "text/plain": [
       "'广东其它'"
      ]
     },
     "execution_count": 6,
     "metadata": {},
     "output_type": "execute_result"
    }
   ],
   "source": [
    "# 查询编码含义\n",
    "Fundamentals.region_cname(11)"
   ]
  },
  {
   "cell_type": "markdown",
   "metadata": {
    "ExecuteTime": {
     "end_time": "2018-05-01T08:37:27.278499Z",
     "start_time": "2018-05-01T08:37:27.272636Z"
    }
   },
   "source": [
    "### 模糊查询编码"
   ]
  },
  {
   "cell_type": "code",
   "execution_count": 7,
   "metadata": {
    "ExecuteTime": {
     "end_time": "2018-07-01T02:58:01.780983Z",
     "start_time": "2018-07-01T02:58:01.671022Z"
    }
   },
   "outputs": [
    {
     "data": {
      "text/plain": [
       "{'13': '新疆'}"
      ]
     },
     "execution_count": 7,
     "metadata": {},
     "output_type": "execute_result"
    }
   ],
   "source": [
    "Fundamentals.region_code('新疆')"
   ]
  },
  {
   "cell_type": "markdown",
   "metadata": {},
   "source": [
    "### 过滤器"
   ]
  },
  {
   "cell_type": "code",
   "execution_count": 8,
   "metadata": {
    "ExecuteTime": {
     "end_time": "2018-07-01T02:58:01.799188Z",
     "start_time": "2018-07-01T02:58:01.784877Z"
    }
   },
   "outputs": [],
   "source": [
    "def make_pipeline():\n",
    "    gd_filter = Fundamentals.info.region.latest.eq(13)\n",
    "    return Pipeline(\n",
    "        columns={\n",
    "            '地区编码': Fundamentals.info.region.latest,\n",
    "            '收盘价': CNEquityPricing.close.latest,\n",
    "        },\n",
    "        screen=gd_filter\n",
    "    )"
   ]
  },
  {
   "cell_type": "code",
   "execution_count": 9,
   "metadata": {
    "ExecuteTime": {
     "end_time": "2018-07-01T02:58:02.315704Z",
     "start_time": "2018-07-01T02:58:01.807674Z"
    }
   },
   "outputs": [
    {
     "data": {
      "text/html": [
       "<div>\n",
       "<style scoped>\n",
       "    .dataframe tbody tr th:only-of-type {\n",
       "        vertical-align: middle;\n",
       "    }\n",
       "\n",
       "    .dataframe tbody tr th {\n",
       "        vertical-align: top;\n",
       "    }\n",
       "\n",
       "    .dataframe thead th {\n",
       "        text-align: right;\n",
       "    }\n",
       "</style>\n",
       "<table border=\"1\" class=\"dataframe\">\n",
       "  <thead>\n",
       "    <tr style=\"text-align: right;\">\n",
       "      <th></th>\n",
       "      <th></th>\n",
       "      <th>地区编码</th>\n",
       "      <th>收盘价</th>\n",
       "    </tr>\n",
       "  </thead>\n",
       "  <tbody>\n",
       "    <tr>\n",
       "      <th rowspan=\"40\" valign=\"top\">2018-04-10 00:00:00+00:00</th>\n",
       "      <th>国际实业(000159)</th>\n",
       "      <td>13</td>\n",
       "      <td>4.490</td>\n",
       "    </tr>\n",
       "    <tr>\n",
       "      <th>申万宏源(000166)</th>\n",
       "      <td>13</td>\n",
       "      <td>4.870</td>\n",
       "    </tr>\n",
       "    <tr>\n",
       "      <th>中油资本(000617)</th>\n",
       "      <td>13</td>\n",
       "      <td>14.200</td>\n",
       "    </tr>\n",
       "    <tr>\n",
       "      <th>合金投资(000633)</th>\n",
       "      <td>13</td>\n",
       "      <td>8.260</td>\n",
       "    </tr>\n",
       "    <tr>\n",
       "      <th>德展健康(000813)</th>\n",
       "      <td>13</td>\n",
       "      <td>9.250</td>\n",
       "    </tr>\n",
       "    <tr>\n",
       "      <th>天山股份(000877)</th>\n",
       "      <td>13</td>\n",
       "      <td>10.240</td>\n",
       "    </tr>\n",
       "    <tr>\n",
       "      <th>中泰化学(002092)</th>\n",
       "      <td>13</td>\n",
       "      <td>11.800</td>\n",
       "    </tr>\n",
       "    <tr>\n",
       "      <th>国统股份(002205)</th>\n",
       "      <td>13</td>\n",
       "      <td>15.950</td>\n",
       "    </tr>\n",
       "    <tr>\n",
       "      <th>*ST准油(002207)</th>\n",
       "      <td>13</td>\n",
       "      <td>7.710</td>\n",
       "    </tr>\n",
       "    <tr>\n",
       "      <th>西部建设(002302)</th>\n",
       "      <td>13</td>\n",
       "      <td>15.610</td>\n",
       "    </tr>\n",
       "    <tr>\n",
       "      <th>北新路桥(002307)</th>\n",
       "      <td>13</td>\n",
       "      <td>10.460</td>\n",
       "    </tr>\n",
       "    <tr>\n",
       "      <th>光正集团(002524)</th>\n",
       "      <td>13</td>\n",
       "      <td>6.350</td>\n",
       "    </tr>\n",
       "    <tr>\n",
       "      <th>新疆浩源(002700)</th>\n",
       "      <td>13</td>\n",
       "      <td>8.050</td>\n",
       "    </tr>\n",
       "    <tr>\n",
       "      <th>天顺股份(002800)</th>\n",
       "      <td>13</td>\n",
       "      <td>27.600</td>\n",
       "    </tr>\n",
       "    <tr>\n",
       "      <th>西部牧业(300106)</th>\n",
       "      <td>13</td>\n",
       "      <td>6.770</td>\n",
       "    </tr>\n",
       "    <tr>\n",
       "      <th>新研股份(300159)</th>\n",
       "      <td>13</td>\n",
       "      <td>10.100</td>\n",
       "    </tr>\n",
       "    <tr>\n",
       "      <th>天山生物(300313)</th>\n",
       "      <td>13</td>\n",
       "      <td>10.200</td>\n",
       "    </tr>\n",
       "    <tr>\n",
       "      <th>熙菱信息(300588)</th>\n",
       "      <td>13</td>\n",
       "      <td>34.550</td>\n",
       "    </tr>\n",
       "    <tr>\n",
       "      <th>新疆天业(600075)</th>\n",
       "      <td>13</td>\n",
       "      <td>6.810</td>\n",
       "    </tr>\n",
       "    <tr>\n",
       "      <th>特变电工(600089)</th>\n",
       "      <td>13</td>\n",
       "      <td>8.650</td>\n",
       "    </tr>\n",
       "    <tr>\n",
       "      <th>同济堂(600090)</th>\n",
       "      <td>13</td>\n",
       "      <td>7.790</td>\n",
       "    </tr>\n",
       "    <tr>\n",
       "      <th>伊力特(600197)</th>\n",
       "      <td>13</td>\n",
       "      <td>19.250</td>\n",
       "    </tr>\n",
       "    <tr>\n",
       "      <th>冠农股份(600251)</th>\n",
       "      <td>13</td>\n",
       "      <td>7.420</td>\n",
       "    </tr>\n",
       "    <tr>\n",
       "      <th>广汇能源(600256)</th>\n",
       "      <td>13</td>\n",
       "      <td>4.190</td>\n",
       "    </tr>\n",
       "    <tr>\n",
       "      <th>美克家居(600337)</th>\n",
       "      <td>13</td>\n",
       "      <td>5.280</td>\n",
       "    </tr>\n",
       "    <tr>\n",
       "      <th>中油工程(600339)</th>\n",
       "      <td>13</td>\n",
       "      <td>4.019</td>\n",
       "    </tr>\n",
       "    <tr>\n",
       "      <th>新农开发(600359)</th>\n",
       "      <td>13</td>\n",
       "      <td>7.050</td>\n",
       "    </tr>\n",
       "    <tr>\n",
       "      <th>天润乳业(600419)</th>\n",
       "      <td>13</td>\n",
       "      <td>42.140</td>\n",
       "    </tr>\n",
       "    <tr>\n",
       "      <th>青松建化(600425)</th>\n",
       "      <td>13</td>\n",
       "      <td>3.670</td>\n",
       "    </tr>\n",
       "    <tr>\n",
       "      <th>天富能源(600509)</th>\n",
       "      <td>13</td>\n",
       "      <td>6.020</td>\n",
       "    </tr>\n",
       "    <tr>\n",
       "      <th>新赛股份(600540)</th>\n",
       "      <td>13</td>\n",
       "      <td>5.450</td>\n",
       "    </tr>\n",
       "    <tr>\n",
       "      <th>卓郎智能(600545)</th>\n",
       "      <td>13</td>\n",
       "      <td>8.980</td>\n",
       "    </tr>\n",
       "    <tr>\n",
       "      <th>百花村(600721)</th>\n",
       "      <td>13</td>\n",
       "      <td>10.190</td>\n",
       "    </tr>\n",
       "    <tr>\n",
       "      <th>中粮糖业(600737)</th>\n",
       "      <td>13</td>\n",
       "      <td>7.500</td>\n",
       "    </tr>\n",
       "    <tr>\n",
       "      <th>*ST友好(600778)</th>\n",
       "      <td>13</td>\n",
       "      <td>5.050</td>\n",
       "    </tr>\n",
       "    <tr>\n",
       "      <th>新疆众和(600888)</th>\n",
       "      <td>13</td>\n",
       "      <td>5.650</td>\n",
       "    </tr>\n",
       "    <tr>\n",
       "      <th>新疆火炬(603080)</th>\n",
       "      <td>13</td>\n",
       "      <td>40.740</td>\n",
       "    </tr>\n",
       "    <tr>\n",
       "      <th>汇嘉时代(603101)</th>\n",
       "      <td>13</td>\n",
       "      <td>14.150</td>\n",
       "    </tr>\n",
       "    <tr>\n",
       "      <th>雪峰科技(603227)</th>\n",
       "      <td>13</td>\n",
       "      <td>5.000</td>\n",
       "    </tr>\n",
       "    <tr>\n",
       "      <th>新天然气(603393)</th>\n",
       "      <td>13</td>\n",
       "      <td>32.390</td>\n",
       "    </tr>\n",
       "  </tbody>\n",
       "</table>\n",
       "</div>"
      ],
      "text/plain": [
       "                                         地区编码     收盘价\n",
       "2018-04-10 00:00:00+00:00 国际实业(000159)     13   4.490\n",
       "                          申万宏源(000166)     13   4.870\n",
       "                          中油资本(000617)     13  14.200\n",
       "                          合金投资(000633)     13   8.260\n",
       "                          德展健康(000813)     13   9.250\n",
       "                          天山股份(000877)     13  10.240\n",
       "                          中泰化学(002092)     13  11.800\n",
       "                          国统股份(002205)     13  15.950\n",
       "                          *ST准油(002207)    13   7.710\n",
       "                          西部建设(002302)     13  15.610\n",
       "                          北新路桥(002307)     13  10.460\n",
       "                          光正集团(002524)     13   6.350\n",
       "                          新疆浩源(002700)     13   8.050\n",
       "                          天顺股份(002800)     13  27.600\n",
       "                          西部牧业(300106)     13   6.770\n",
       "                          新研股份(300159)     13  10.100\n",
       "                          天山生物(300313)     13  10.200\n",
       "                          熙菱信息(300588)     13  34.550\n",
       "                          新疆天业(600075)     13   6.810\n",
       "                          特变电工(600089)     13   8.650\n",
       "                          同济堂(600090)      13   7.790\n",
       "                          伊力特(600197)      13  19.250\n",
       "                          冠农股份(600251)     13   7.420\n",
       "                          广汇能源(600256)     13   4.190\n",
       "                          美克家居(600337)     13   5.280\n",
       "                          中油工程(600339)     13   4.019\n",
       "                          新农开发(600359)     13   7.050\n",
       "                          天润乳业(600419)     13  42.140\n",
       "                          青松建化(600425)     13   3.670\n",
       "                          天富能源(600509)     13   6.020\n",
       "                          新赛股份(600540)     13   5.450\n",
       "                          卓郎智能(600545)     13   8.980\n",
       "                          百花村(600721)      13  10.190\n",
       "                          中粮糖业(600737)     13   7.500\n",
       "                          *ST友好(600778)    13   5.050\n",
       "                          新疆众和(600888)     13   5.650\n",
       "                          新疆火炬(603080)     13  40.740\n",
       "                          汇嘉时代(603101)     13  14.150\n",
       "                          雪峰科技(603227)     13   5.000\n",
       "                          新天然气(603393)     13  32.390"
      ]
     },
     "execution_count": 9,
     "metadata": {},
     "output_type": "execute_result"
    }
   ],
   "source": [
    "result = run_pipeline(make_pipeline(), '2018-04-10', '2018-04-10')\n",
    "result"
   ]
  },
  {
   "cell_type": "markdown",
   "metadata": {},
   "source": [
    "## 行业分类"
   ]
  },
  {
   "cell_type": "markdown",
   "metadata": {},
   "source": [
    "### 证监会行业分类"
   ]
  },
  {
   "cell_type": "markdown",
   "metadata": {},
   "source": [
    "#### 映射表"
   ]
  },
  {
   "cell_type": "code",
   "execution_count": 10,
   "metadata": {
    "ExecuteTime": {
     "end_time": "2018-07-01T02:58:02.397606Z",
     "start_time": "2018-07-01T02:58:02.318056Z"
    }
   },
   "outputs": [
    {
     "data": {
      "text/plain": [
       "{'0': '交通运输、仓储业',\n",
       " '1': '传播与文化产业',\n",
       " '2': '信息技术业',\n",
       " '3': '农、林、牧、渔业',\n",
       " '4': '制造业',\n",
       " '5': '建筑业',\n",
       " '6': '房地产业',\n",
       " '7': '批发和零售贸易',\n",
       " '8': '电力、煤气及水的生产和供应业',\n",
       " '9': '社会服务业',\n",
       " '10': '综合类',\n",
       " '11': '采掘业',\n",
       " '12': '金融、保险业'}"
      ]
     },
     "execution_count": 10,
     "metadata": {},
     "output_type": "execute_result"
    }
   ],
   "source": [
    "Fundamentals.csrc_industry_maps"
   ]
  },
  {
   "cell_type": "markdown",
   "metadata": {},
   "source": [
    "#### 查询编码含义"
   ]
  },
  {
   "cell_type": "code",
   "execution_count": 11,
   "metadata": {
    "ExecuteTime": {
     "end_time": "2018-07-01T02:58:02.476172Z",
     "start_time": "2018-07-01T02:58:02.400445Z"
    }
   },
   "outputs": [
    {
     "data": {
      "text/plain": [
       "'交通运输、仓储业'"
      ]
     },
     "execution_count": 11,
     "metadata": {},
     "output_type": "execute_result"
    }
   ],
   "source": [
    "# 编码从0开始\n",
    "\n",
    "Fundamentals.csrc_industry_cname(0)"
   ]
  },
  {
   "cell_type": "markdown",
   "metadata": {},
   "source": [
    "#### 模糊查询编码"
   ]
  },
  {
   "cell_type": "code",
   "execution_count": 12,
   "metadata": {
    "ExecuteTime": {
     "end_time": "2018-07-01T02:58:02.554954Z",
     "start_time": "2018-07-01T02:58:02.478970Z"
    }
   },
   "outputs": [
    {
     "data": {
      "text/plain": [
       "{'10': '综合类'}"
      ]
     },
     "execution_count": 12,
     "metadata": {},
     "output_type": "execute_result"
    }
   ],
   "source": [
    "Fundamentals.csrc_industry_code('综合类')"
   ]
  },
  {
   "cell_type": "markdown",
   "metadata": {},
   "source": [
    "#### 过滤器"
   ]
  },
  {
   "cell_type": "code",
   "execution_count": 13,
   "metadata": {
    "ExecuteTime": {
     "end_time": "2018-07-01T02:58:02.957675Z",
     "start_time": "2018-07-01T02:58:02.558264Z"
    }
   },
   "outputs": [
    {
     "data": {
      "text/html": [
       "<div>\n",
       "<style scoped>\n",
       "    .dataframe tbody tr th:only-of-type {\n",
       "        vertical-align: middle;\n",
       "    }\n",
       "\n",
       "    .dataframe tbody tr th {\n",
       "        vertical-align: top;\n",
       "    }\n",
       "\n",
       "    .dataframe thead th {\n",
       "        text-align: right;\n",
       "    }\n",
       "</style>\n",
       "<table border=\"1\" class=\"dataframe\">\n",
       "  <thead>\n",
       "    <tr style=\"text-align: right;\">\n",
       "      <th></th>\n",
       "      <th></th>\n",
       "      <th>收盘价</th>\n",
       "    </tr>\n",
       "  </thead>\n",
       "  <tbody>\n",
       "    <tr>\n",
       "      <th rowspan=\"61\" valign=\"top\">2018-04-10 00:00:00+00:00</th>\n",
       "      <th>世纪星源(000005)</th>\n",
       "      <td>3.76</td>\n",
       "    </tr>\n",
       "    <tr>\n",
       "      <th>中国宝安(000009)</th>\n",
       "      <td>6.35</td>\n",
       "    </tr>\n",
       "    <tr>\n",
       "      <th>深物业A(000011)</th>\n",
       "      <td>15.31</td>\n",
       "    </tr>\n",
       "    <tr>\n",
       "      <th>特 力Ａ(000025)</th>\n",
       "      <td>37.08</td>\n",
       "    </tr>\n",
       "    <tr>\n",
       "      <th>神州数码(000034)</th>\n",
       "      <td>21.60</td>\n",
       "    </tr>\n",
       "    <tr>\n",
       "      <th>东旭蓝天(000040)</th>\n",
       "      <td>11.41</td>\n",
       "    </tr>\n",
       "    <tr>\n",
       "      <th>深圳华强(000062)</th>\n",
       "      <td>19.42</td>\n",
       "    </tr>\n",
       "    <tr>\n",
       "      <th>国新健康(000503)</th>\n",
       "      <td>42.96</td>\n",
       "    </tr>\n",
       "    <tr>\n",
       "      <th>珠海港(000507)</th>\n",
       "      <td>9.95</td>\n",
       "    </tr>\n",
       "    <tr>\n",
       "      <th>紫光学大(000526)</th>\n",
       "      <td>28.18</td>\n",
       "    </tr>\n",
       "    <tr>\n",
       "      <th>华金资本(000532)</th>\n",
       "      <td>13.49</td>\n",
       "    </tr>\n",
       "    <tr>\n",
       "      <th>广宇发展(000537)</th>\n",
       "      <td>12.82</td>\n",
       "    </tr>\n",
       "    <tr>\n",
       "      <th>中天金融(000540)</th>\n",
       "      <td>7.35</td>\n",
       "    </tr>\n",
       "    <tr>\n",
       "      <th>海德股份(000567)</th>\n",
       "      <td>27.97</td>\n",
       "    </tr>\n",
       "    <tr>\n",
       "      <th>粤宏远Ａ(000573)</th>\n",
       "      <td>4.61</td>\n",
       "    </tr>\n",
       "    <tr>\n",
       "      <th>建投能源(000600)</th>\n",
       "      <td>6.69</td>\n",
       "    </tr>\n",
       "    <tr>\n",
       "      <th>远大控股(000626)</th>\n",
       "      <td>11.37</td>\n",
       "    </tr>\n",
       "    <tr>\n",
       "      <th>三木集团(000632)</th>\n",
       "      <td>5.92</td>\n",
       "    </tr>\n",
       "    <tr>\n",
       "      <th>合金投资(000633)</th>\n",
       "      <td>8.26</td>\n",
       "    </tr>\n",
       "    <tr>\n",
       "      <th>万方发展(000638)</th>\n",
       "      <td>8.78</td>\n",
       "    </tr>\n",
       "    <tr>\n",
       "      <th>泰达股份(000652)</th>\n",
       "      <td>4.37</td>\n",
       "    </tr>\n",
       "    <tr>\n",
       "      <th>阳 光 城(000671)</th>\n",
       "      <td>7.69</td>\n",
       "    </tr>\n",
       "    <tr>\n",
       "      <th>宝新能源(000690)</th>\n",
       "      <td>7.94</td>\n",
       "    </tr>\n",
       "    <tr>\n",
       "      <th>亚太实业(000691)</th>\n",
       "      <td>6.21</td>\n",
       "    </tr>\n",
       "    <tr>\n",
       "      <th>厦门信达(000701)</th>\n",
       "      <td>9.49</td>\n",
       "    </tr>\n",
       "    <tr>\n",
       "      <th>湖南发展(000722)</th>\n",
       "      <td>8.42</td>\n",
       "    </tr>\n",
       "    <tr>\n",
       "      <th>华闻传媒(000793)</th>\n",
       "      <td>8.40</td>\n",
       "    </tr>\n",
       "    <tr>\n",
       "      <th>中信国安(000839)</th>\n",
       "      <td>6.93</td>\n",
       "    </tr>\n",
       "    <tr>\n",
       "      <th>中广核技(000881)</th>\n",
       "      <td>11.28</td>\n",
       "    </tr>\n",
       "    <tr>\n",
       "      <th>数源科技(000909)</th>\n",
       "      <td>9.87</td>\n",
       "    </tr>\n",
       "    <tr>\n",
       "      <th>...</th>\n",
       "      <td>...</td>\n",
       "    </tr>\n",
       "    <tr>\n",
       "      <th>鲁商置业(600223)</th>\n",
       "      <td>3.61</td>\n",
       "    </tr>\n",
       "    <tr>\n",
       "      <th>小商品城(600415)</th>\n",
       "      <td>5.17</td>\n",
       "    </tr>\n",
       "    <tr>\n",
       "      <th>广汇物流(600603)</th>\n",
       "      <td>7.04</td>\n",
       "    </tr>\n",
       "    <tr>\n",
       "      <th>绿地控股(600606)</th>\n",
       "      <td>7.19</td>\n",
       "    </tr>\n",
       "    <tr>\n",
       "      <th>天宸股份(600620)</th>\n",
       "      <td>8.25</td>\n",
       "    </tr>\n",
       "    <tr>\n",
       "      <th>复旦复华(600624)</th>\n",
       "      <td>6.28</td>\n",
       "    </tr>\n",
       "    <tr>\n",
       "      <th>大众公用(600635)</th>\n",
       "      <td>4.67</td>\n",
       "    </tr>\n",
       "    <tr>\n",
       "      <th>XD爱建集(600643)</th>\n",
       "      <td>11.00</td>\n",
       "    </tr>\n",
       "    <tr>\n",
       "      <th>同达创业(600647)</th>\n",
       "      <td>15.46</td>\n",
       "    </tr>\n",
       "    <tr>\n",
       "      <th>城投控股(600649)</th>\n",
       "      <td>7.79</td>\n",
       "    </tr>\n",
       "    <tr>\n",
       "      <th>游久游戏(600652)</th>\n",
       "      <td>6.95</td>\n",
       "    </tr>\n",
       "    <tr>\n",
       "      <th>申华控股(600653)</th>\n",
       "      <td>2.34</td>\n",
       "    </tr>\n",
       "    <tr>\n",
       "      <th>新南洋(600661)</th>\n",
       "      <td>27.26</td>\n",
       "    </tr>\n",
       "    <tr>\n",
       "      <th>中航资本(600705)</th>\n",
       "      <td>5.37</td>\n",
       "    </tr>\n",
       "    <tr>\n",
       "      <th>光明地产(600708)</th>\n",
       "      <td>6.69</td>\n",
       "    </tr>\n",
       "    <tr>\n",
       "      <th>盛屯矿业(600711)</th>\n",
       "      <td>8.65</td>\n",
       "    </tr>\n",
       "    <tr>\n",
       "      <th>中国高科(600730)</th>\n",
       "      <td>6.05</td>\n",
       "    </tr>\n",
       "    <tr>\n",
       "      <th>华远地产(600743)</th>\n",
       "      <td>3.37</td>\n",
       "    </tr>\n",
       "    <tr>\n",
       "      <th>综艺股份(600770)</th>\n",
       "      <td>7.02</td>\n",
       "    </tr>\n",
       "    <tr>\n",
       "      <th>轻纺城(600790)</th>\n",
       "      <td>5.65</td>\n",
       "    </tr>\n",
       "    <tr>\n",
       "      <th>悦达投资(600805)</th>\n",
       "      <td>5.68</td>\n",
       "    </tr>\n",
       "    <tr>\n",
       "      <th>ST宏盛(600817)</th>\n",
       "      <td>8.83</td>\n",
       "    </tr>\n",
       "    <tr>\n",
       "      <th>同济科技(600846)</th>\n",
       "      <td>8.72</td>\n",
       "    </tr>\n",
       "    <tr>\n",
       "      <th>银座股份(600858)</th>\n",
       "      <td>7.25</td>\n",
       "    </tr>\n",
       "    <tr>\n",
       "      <th>梅雁吉祥(600868)</th>\n",
       "      <td>4.34</td>\n",
       "    </tr>\n",
       "    <tr>\n",
       "      <th>中炬高新(600872)</th>\n",
       "      <td>24.33</td>\n",
       "    </tr>\n",
       "    <tr>\n",
       "      <th>亚泰集团(600881)</th>\n",
       "      <td>4.55</td>\n",
       "    </tr>\n",
       "    <tr>\n",
       "      <th>张江高科(600895)</th>\n",
       "      <td>13.91</td>\n",
       "    </tr>\n",
       "    <tr>\n",
       "      <th>中国中冶(601618)</th>\n",
       "      <td>3.82</td>\n",
       "    </tr>\n",
       "    <tr>\n",
       "      <th>人民网(603000)</th>\n",
       "      <td>10.93</td>\n",
       "    </tr>\n",
       "  </tbody>\n",
       "</table>\n",
       "<p>70 rows × 1 columns</p>\n",
       "</div>"
      ],
      "text/plain": [
       "                                           收盘价\n",
       "2018-04-10 00:00:00+00:00 世纪星源(000005)    3.76\n",
       "                          中国宝安(000009)    6.35\n",
       "                          深物业A(000011)   15.31\n",
       "                          特 力Ａ(000025)   37.08\n",
       "                          神州数码(000034)   21.60\n",
       "                          东旭蓝天(000040)   11.41\n",
       "                          深圳华强(000062)   19.42\n",
       "                          国新健康(000503)   42.96\n",
       "                          珠海港(000507)     9.95\n",
       "                          紫光学大(000526)   28.18\n",
       "                          华金资本(000532)   13.49\n",
       "                          广宇发展(000537)   12.82\n",
       "                          中天金融(000540)    7.35\n",
       "                          海德股份(000567)   27.97\n",
       "                          粤宏远Ａ(000573)    4.61\n",
       "                          建投能源(000600)    6.69\n",
       "                          远大控股(000626)   11.37\n",
       "                          三木集团(000632)    5.92\n",
       "                          合金投资(000633)    8.26\n",
       "                          万方发展(000638)    8.78\n",
       "                          泰达股份(000652)    4.37\n",
       "                          阳 光 城(000671)   7.69\n",
       "                          宝新能源(000690)    7.94\n",
       "                          亚太实业(000691)    6.21\n",
       "                          厦门信达(000701)    9.49\n",
       "                          湖南发展(000722)    8.42\n",
       "                          华闻传媒(000793)    8.40\n",
       "                          中信国安(000839)    6.93\n",
       "                          中广核技(000881)   11.28\n",
       "                          数源科技(000909)    9.87\n",
       "...                                        ...\n",
       "                          鲁商置业(600223)    3.61\n",
       "                          小商品城(600415)    5.17\n",
       "                          广汇物流(600603)    7.04\n",
       "                          绿地控股(600606)    7.19\n",
       "                          天宸股份(600620)    8.25\n",
       "                          复旦复华(600624)    6.28\n",
       "                          大众公用(600635)    4.67\n",
       "                          XD爱建集(600643)  11.00\n",
       "                          同达创业(600647)   15.46\n",
       "                          城投控股(600649)    7.79\n",
       "                          游久游戏(600652)    6.95\n",
       "                          申华控股(600653)    2.34\n",
       "                          新南洋(600661)    27.26\n",
       "                          中航资本(600705)    5.37\n",
       "                          光明地产(600708)    6.69\n",
       "                          盛屯矿业(600711)    8.65\n",
       "                          中国高科(600730)    6.05\n",
       "                          华远地产(600743)    3.37\n",
       "                          综艺股份(600770)    7.02\n",
       "                          轻纺城(600790)     5.65\n",
       "                          悦达投资(600805)    5.68\n",
       "                          ST宏盛(600817)    8.83\n",
       "                          同济科技(600846)    8.72\n",
       "                          银座股份(600858)    7.25\n",
       "                          梅雁吉祥(600868)    4.34\n",
       "                          中炬高新(600872)   24.33\n",
       "                          亚泰集团(600881)    4.55\n",
       "                          张江高科(600895)   13.91\n",
       "                          中国中冶(601618)    3.82\n",
       "                          人民网(603000)    10.93\n",
       "\n",
       "[70 rows x 1 columns]"
      ]
     },
     "execution_count": 13,
     "metadata": {},
     "output_type": "execute_result"
    }
   ],
   "source": [
    "def make_pipeline():\n",
    "    zh_filter = Fundamentals.info.csrc_industry.latest.eq(10)\n",
    "    return Pipeline(\n",
    "        columns={\n",
    "            '收盘价': CNEquityPricing.close.latest,\n",
    "        }, screen=zh_filter)\n",
    "\n",
    "\n",
    "run_pipeline(make_pipeline(), '2018-04-10', '2018-04-10')"
   ]
  },
  {
   "cell_type": "markdown",
   "metadata": {},
   "source": [
    "### 同花顺行业分类"
   ]
  },
  {
   "cell_type": "markdown",
   "metadata": {},
   "source": [
    "#### 映射表"
   ]
  },
  {
   "cell_type": "code",
   "execution_count": 14,
   "metadata": {
    "ExecuteTime": {
     "end_time": "2018-07-01T02:58:03.076962Z",
     "start_time": "2018-07-01T02:58:02.960262Z"
    }
   },
   "outputs": [
    {
     "data": {
      "text/plain": [
       "{'0': '专用设备',\n",
       " '1': '中药',\n",
       " '2': '交运设备服务',\n",
       " '3': '仪器仪表',\n",
       " '4': '传媒',\n",
       " '5': '保险及其他',\n",
       " '6': '光学光电子',\n",
       " '7': '公交',\n",
       " '8': '公路铁路运输',\n",
       " '9': '其他电子',\n",
       " '10': '养殖业',\n",
       " '11': '农业服务',\n",
       " '12': '农产品加工',\n",
       " '13': '包装印刷',\n",
       " '14': '化学制品',\n",
       " '15': '化学制药',\n",
       " '16': '化工合成材料',\n",
       " '17': '化工新材料',\n",
       " '18': '医疗器械服务',\n",
       " '19': '医药商业',\n",
       " '20': '半导体及元件',\n",
       " '21': '园区开发',\n",
       " '22': '国防军工',\n",
       " '23': '基础化学',\n",
       " '24': '家用轻工',\n",
       " '25': '建筑材料',\n",
       " '26': '建筑装饰',\n",
       " '27': '房地产开发',\n",
       " '28': '新材料',\n",
       " '29': '景点及旅游',\n",
       " '30': '有色冶炼加工',\n",
       " '31': '服装家纺',\n",
       " '32': '机场航运',\n",
       " '33': '汽车整车',\n",
       " '34': '汽车零部件',\n",
       " '35': '港口航运',\n",
       " '36': '煤炭开采',\n",
       " '37': '燃气水务',\n",
       " '38': '物流',\n",
       " '39': '环保工程',\n",
       " '40': '生物制品',\n",
       " '41': '电力',\n",
       " '42': '电子制造',\n",
       " '43': '电气设备',\n",
       " '44': '白色家电',\n",
       " '45': '石油矿业开采',\n",
       " '46': '种植业与林业',\n",
       " '47': '纺织制造',\n",
       " '48': '综合',\n",
       " '49': '视听器材',\n",
       " '50': '计算机应用',\n",
       " '51': '计算机设备',\n",
       " '52': '证券',\n",
       " '53': '贸易',\n",
       " '54': '通信服务',\n",
       " '55': '通信设备',\n",
       " '56': '通用设备',\n",
       " '57': '造纸',\n",
       " '58': '酒店及餐饮',\n",
       " '59': '采掘服务',\n",
       " '60': '钢铁',\n",
       " '61': '银行',\n",
       " '62': '零售',\n",
       " '63': '非汽车交运',\n",
       " '64': '食品加工制造',\n",
       " '65': '饮料制造'}"
      ]
     },
     "execution_count": 14,
     "metadata": {},
     "output_type": "execute_result"
    }
   ],
   "source": [
    "Fundamentals.ths_industry_maps"
   ]
  },
  {
   "cell_type": "markdown",
   "metadata": {},
   "source": [
    "#### 查询编码含义"
   ]
  },
  {
   "cell_type": "code",
   "execution_count": 15,
   "metadata": {
    "ExecuteTime": {
     "end_time": "2018-07-01T02:58:03.198714Z",
     "start_time": "2018-07-01T02:58:03.080400Z"
    }
   },
   "outputs": [
    {
     "data": {
      "text/plain": [
       "'交运设备服务'"
      ]
     },
     "execution_count": 15,
     "metadata": {},
     "output_type": "execute_result"
    }
   ],
   "source": [
    "Fundamentals.ths_industry_cname(2)"
   ]
  },
  {
   "cell_type": "markdown",
   "metadata": {},
   "source": [
    "#### 模糊查询编码"
   ]
  },
  {
   "cell_type": "code",
   "execution_count": 16,
   "metadata": {
    "ExecuteTime": {
     "end_time": "2018-07-01T02:58:03.284456Z",
     "start_time": "2018-07-01T02:58:03.202014Z"
    }
   },
   "outputs": [
    {
     "data": {
      "text/plain": [
       "{'53': '贸易'}"
      ]
     },
     "execution_count": 16,
     "metadata": {},
     "output_type": "execute_result"
    }
   ],
   "source": [
    "Fundamentals.ths_industry_code('贸')"
   ]
  },
  {
   "cell_type": "markdown",
   "metadata": {},
   "source": [
    "#### 过滤器"
   ]
  },
  {
   "cell_type": "code",
   "execution_count": 17,
   "metadata": {
    "ExecuteTime": {
     "end_time": "2018-07-01T02:58:03.726544Z",
     "start_time": "2018-07-01T02:58:03.286932Z"
    }
   },
   "outputs": [
    {
     "data": {
      "text/html": [
       "<div>\n",
       "<style scoped>\n",
       "    .dataframe tbody tr th:only-of-type {\n",
       "        vertical-align: middle;\n",
       "    }\n",
       "\n",
       "    .dataframe tbody tr th {\n",
       "        vertical-align: top;\n",
       "    }\n",
       "\n",
       "    .dataframe thead th {\n",
       "        text-align: right;\n",
       "    }\n",
       "</style>\n",
       "<table border=\"1\" class=\"dataframe\">\n",
       "  <thead>\n",
       "    <tr style=\"text-align: right;\">\n",
       "      <th></th>\n",
       "      <th></th>\n",
       "      <th>收盘价</th>\n",
       "    </tr>\n",
       "  </thead>\n",
       "  <tbody>\n",
       "    <tr>\n",
       "      <th rowspan=\"61\" valign=\"top\">2018-04-10 00:00:00+00:00</th>\n",
       "      <th>万 科Ａ(000002)</th>\n",
       "      <td>31.62</td>\n",
       "    </tr>\n",
       "    <tr>\n",
       "      <th>深振业Ａ(000006)</th>\n",
       "      <td>7.19</td>\n",
       "    </tr>\n",
       "    <tr>\n",
       "      <th>深物业A(000011)</th>\n",
       "      <td>15.31</td>\n",
       "    </tr>\n",
       "    <tr>\n",
       "      <th>沙河股份(000014)</th>\n",
       "      <td>12.02</td>\n",
       "    </tr>\n",
       "    <tr>\n",
       "      <th>深深房Ａ(000029)</th>\n",
       "      <td>11.17</td>\n",
       "    </tr>\n",
       "    <tr>\n",
       "      <th>中粮地产(000031)</th>\n",
       "      <td>8.00</td>\n",
       "    </tr>\n",
       "    <tr>\n",
       "      <th>中洲控股(000042)</th>\n",
       "      <td>14.62</td>\n",
       "    </tr>\n",
       "    <tr>\n",
       "      <th>泛海控股(000046)</th>\n",
       "      <td>7.92</td>\n",
       "    </tr>\n",
       "    <tr>\n",
       "      <th>皇庭国际(000056)</th>\n",
       "      <td>13.27</td>\n",
       "    </tr>\n",
       "    <tr>\n",
       "      <th>华侨城Ａ(000069)</th>\n",
       "      <td>7.95</td>\n",
       "    </tr>\n",
       "    <tr>\n",
       "      <th>天健集团(000090)</th>\n",
       "      <td>9.43</td>\n",
       "    </tr>\n",
       "    <tr>\n",
       "      <th>金 融 街(000402)</th>\n",
       "      <td>9.39</td>\n",
       "    </tr>\n",
       "    <tr>\n",
       "      <th>绿景控股(000502)</th>\n",
       "      <td>8.99</td>\n",
       "    </tr>\n",
       "    <tr>\n",
       "      <th>渝 开 发(000514)</th>\n",
       "      <td>6.80</td>\n",
       "    </tr>\n",
       "    <tr>\n",
       "      <th>荣安地产(000517)</th>\n",
       "      <td>4.01</td>\n",
       "    </tr>\n",
       "    <tr>\n",
       "      <th>万泽股份(000534)</th>\n",
       "      <td>13.05</td>\n",
       "    </tr>\n",
       "    <tr>\n",
       "      <th>广宇发展(000537)</th>\n",
       "      <td>12.82</td>\n",
       "    </tr>\n",
       "    <tr>\n",
       "      <th>中天金融(000540)</th>\n",
       "      <td>7.35</td>\n",
       "    </tr>\n",
       "    <tr>\n",
       "      <th>莱茵体育(000558)</th>\n",
       "      <td>4.21</td>\n",
       "    </tr>\n",
       "    <tr>\n",
       "      <th>我爱我家(000560)</th>\n",
       "      <td>8.43</td>\n",
       "    </tr>\n",
       "    <tr>\n",
       "      <th>粤宏远Ａ(000573)</th>\n",
       "      <td>4.61</td>\n",
       "    </tr>\n",
       "    <tr>\n",
       "      <th>阳光股份(000608)</th>\n",
       "      <td>6.54</td>\n",
       "    </tr>\n",
       "    <tr>\n",
       "      <th>中迪投资(000609)</th>\n",
       "      <td>8.99</td>\n",
       "    </tr>\n",
       "    <tr>\n",
       "      <th>海航投资(000616)</th>\n",
       "      <td>3.42</td>\n",
       "    </tr>\n",
       "    <tr>\n",
       "      <th>新华联(000620)</th>\n",
       "      <td>6.07</td>\n",
       "    </tr>\n",
       "    <tr>\n",
       "      <th>顺发恒业(000631)</th>\n",
       "      <td>4.00</td>\n",
       "    </tr>\n",
       "    <tr>\n",
       "      <th>三木集团(000632)</th>\n",
       "      <td>5.92</td>\n",
       "    </tr>\n",
       "    <tr>\n",
       "      <th>金科股份(000656)</th>\n",
       "      <td>5.62</td>\n",
       "    </tr>\n",
       "    <tr>\n",
       "      <th>美好置业(000667)</th>\n",
       "      <td>2.89</td>\n",
       "    </tr>\n",
       "    <tr>\n",
       "      <th>荣丰控股(000668)</th>\n",
       "      <td>12.64</td>\n",
       "    </tr>\n",
       "    <tr>\n",
       "      <th>...</th>\n",
       "      <td>...</td>\n",
       "    </tr>\n",
       "    <tr>\n",
       "      <th>ST慧球(600556)</th>\n",
       "      <td>6.01</td>\n",
       "    </tr>\n",
       "    <tr>\n",
       "      <th>迪马股份(600565)</th>\n",
       "      <td>3.76</td>\n",
       "    </tr>\n",
       "    <tr>\n",
       "      <th>中珠医疗(600568)</th>\n",
       "      <td>6.49</td>\n",
       "    </tr>\n",
       "    <tr>\n",
       "      <th>绿地控股(600606)</th>\n",
       "      <td>7.19</td>\n",
       "    </tr>\n",
       "    <tr>\n",
       "      <th>新黄浦(600638)</th>\n",
       "      <td>14.46</td>\n",
       "    </tr>\n",
       "    <tr>\n",
       "      <th>万业企业(600641)</th>\n",
       "      <td>12.50</td>\n",
       "    </tr>\n",
       "    <tr>\n",
       "      <th>城投控股(600649)</th>\n",
       "      <td>7.79</td>\n",
       "    </tr>\n",
       "    <tr>\n",
       "      <th>信达地产(600657)</th>\n",
       "      <td>5.19</td>\n",
       "    </tr>\n",
       "    <tr>\n",
       "      <th>天地源(600665)</th>\n",
       "      <td>3.95</td>\n",
       "    </tr>\n",
       "    <tr>\n",
       "      <th>中华企业(600675)</th>\n",
       "      <td>5.33</td>\n",
       "    </tr>\n",
       "    <tr>\n",
       "      <th>京投发展(600683)</th>\n",
       "      <td>5.76</td>\n",
       "    </tr>\n",
       "    <tr>\n",
       "      <th>珠江实业(600684)</th>\n",
       "      <td>6.31</td>\n",
       "    </tr>\n",
       "    <tr>\n",
       "      <th>亚通股份(600692)</th>\n",
       "      <td>10.50</td>\n",
       "    </tr>\n",
       "    <tr>\n",
       "      <th>光明地产(600708)</th>\n",
       "      <td>6.69</td>\n",
       "    </tr>\n",
       "    <tr>\n",
       "      <th>凤凰股份(600716)</th>\n",
       "      <td>5.03</td>\n",
       "    </tr>\n",
       "    <tr>\n",
       "      <th>宁波富达(600724)</th>\n",
       "      <td>3.31</td>\n",
       "    </tr>\n",
       "    <tr>\n",
       "      <th>ST新梅(600732)</th>\n",
       "      <td>6.25</td>\n",
       "    </tr>\n",
       "    <tr>\n",
       "      <th>苏州高新(600736)</th>\n",
       "      <td>6.76</td>\n",
       "    </tr>\n",
       "    <tr>\n",
       "      <th>华远地产(600743)</th>\n",
       "      <td>3.37</td>\n",
       "    </tr>\n",
       "    <tr>\n",
       "      <th>上实发展(600748)</th>\n",
       "      <td>6.07</td>\n",
       "    </tr>\n",
       "    <tr>\n",
       "      <th>园城黄金(600766)</th>\n",
       "      <td>8.99</td>\n",
       "    </tr>\n",
       "    <tr>\n",
       "      <th>西藏城投(600773)</th>\n",
       "      <td>9.75</td>\n",
       "    </tr>\n",
       "    <tr>\n",
       "      <th>XD京能置(600791)</th>\n",
       "      <td>6.09</td>\n",
       "    </tr>\n",
       "    <tr>\n",
       "      <th>*ST天业(600807)</th>\n",
       "      <td>10.01</td>\n",
       "    </tr>\n",
       "    <tr>\n",
       "      <th>ST宏盛(600817)</th>\n",
       "      <td>8.83</td>\n",
       "    </tr>\n",
       "    <tr>\n",
       "      <th>世茂股份(600823)</th>\n",
       "      <td>4.94</td>\n",
       "    </tr>\n",
       "    <tr>\n",
       "      <th>中房股份(600890)</th>\n",
       "      <td>10.97</td>\n",
       "    </tr>\n",
       "    <tr>\n",
       "      <th>新城控股(601155)</th>\n",
       "      <td>33.68</td>\n",
       "    </tr>\n",
       "    <tr>\n",
       "      <th>北辰实业(601588)</th>\n",
       "      <td>4.16</td>\n",
       "    </tr>\n",
       "    <tr>\n",
       "      <th>南都物业(603506)</th>\n",
       "      <td>38.04</td>\n",
       "    </tr>\n",
       "  </tbody>\n",
       "</table>\n",
       "<p>120 rows × 1 columns</p>\n",
       "</div>"
      ],
      "text/plain": [
       "                                           收盘价\n",
       "2018-04-10 00:00:00+00:00 万 科Ａ(000002)   31.62\n",
       "                          深振业Ａ(000006)    7.19\n",
       "                          深物业A(000011)   15.31\n",
       "                          沙河股份(000014)   12.02\n",
       "                          深深房Ａ(000029)   11.17\n",
       "                          中粮地产(000031)    8.00\n",
       "                          中洲控股(000042)   14.62\n",
       "                          泛海控股(000046)    7.92\n",
       "                          皇庭国际(000056)   13.27\n",
       "                          华侨城Ａ(000069)    7.95\n",
       "                          天健集团(000090)    9.43\n",
       "                          金 融 街(000402)   9.39\n",
       "                          绿景控股(000502)    8.99\n",
       "                          渝 开 发(000514)   6.80\n",
       "                          荣安地产(000517)    4.01\n",
       "                          万泽股份(000534)   13.05\n",
       "                          广宇发展(000537)   12.82\n",
       "                          中天金融(000540)    7.35\n",
       "                          莱茵体育(000558)    4.21\n",
       "                          我爱我家(000560)    8.43\n",
       "                          粤宏远Ａ(000573)    4.61\n",
       "                          阳光股份(000608)    6.54\n",
       "                          中迪投资(000609)    8.99\n",
       "                          海航投资(000616)    3.42\n",
       "                          新华联(000620)     6.07\n",
       "                          顺发恒业(000631)    4.00\n",
       "                          三木集团(000632)    5.92\n",
       "                          金科股份(000656)    5.62\n",
       "                          美好置业(000667)    2.89\n",
       "                          荣丰控股(000668)   12.64\n",
       "...                                        ...\n",
       "                          ST慧球(600556)    6.01\n",
       "                          迪马股份(600565)    3.76\n",
       "                          中珠医疗(600568)    6.49\n",
       "                          绿地控股(600606)    7.19\n",
       "                          新黄浦(600638)    14.46\n",
       "                          万业企业(600641)   12.50\n",
       "                          城投控股(600649)    7.79\n",
       "                          信达地产(600657)    5.19\n",
       "                          天地源(600665)     3.95\n",
       "                          中华企业(600675)    5.33\n",
       "                          京投发展(600683)    5.76\n",
       "                          珠江实业(600684)    6.31\n",
       "                          亚通股份(600692)   10.50\n",
       "                          光明地产(600708)    6.69\n",
       "                          凤凰股份(600716)    5.03\n",
       "                          宁波富达(600724)    3.31\n",
       "                          ST新梅(600732)    6.25\n",
       "                          苏州高新(600736)    6.76\n",
       "                          华远地产(600743)    3.37\n",
       "                          上实发展(600748)    6.07\n",
       "                          园城黄金(600766)    8.99\n",
       "                          西藏城投(600773)    9.75\n",
       "                          XD京能置(600791)   6.09\n",
       "                          *ST天业(600807)  10.01\n",
       "                          ST宏盛(600817)    8.83\n",
       "                          世茂股份(600823)    4.94\n",
       "                          中房股份(600890)   10.97\n",
       "                          新城控股(601155)   33.68\n",
       "                          北辰实业(601588)    4.16\n",
       "                          南都物业(603506)   38.04\n",
       "\n",
       "[120 rows x 1 columns]"
      ]
     },
     "execution_count": 17,
     "metadata": {},
     "output_type": "execute_result"
    }
   ],
   "source": [
    "def make_pipeline():\n",
    "    yy_filter = Fundamentals.info.ths_industry.latest.eq(27)\n",
    "    return Pipeline(\n",
    "        columns={\n",
    "            '收盘价': CNEquityPricing.close.latest,\n",
    "        }, screen=yy_filter)\n",
    "\n",
    "\n",
    "run_pipeline(make_pipeline(), '2018-04-10', '2018-04-10')"
   ]
  },
  {
   "cell_type": "markdown",
   "metadata": {},
   "source": [
    "### 国证行业分类"
   ]
  },
  {
   "cell_type": "markdown",
   "metadata": {},
   "source": [
    "#### 映射"
   ]
  },
  {
   "cell_type": "markdown",
   "metadata": {},
   "source": [
    "#### 查询编码含义"
   ]
  },
  {
   "cell_type": "code",
   "execution_count": 18,
   "metadata": {
    "ExecuteTime": {
     "end_time": "2018-07-01T02:58:03.833532Z",
     "start_time": "2018-07-01T02:58:03.729736Z"
    }
   },
   "outputs": [
    {
     "data": {
      "text/plain": [
       "'个人用品'"
      ]
     },
     "execution_count": 18,
     "metadata": {},
     "output_type": "execute_result"
    }
   ],
   "source": [
    "Fundamentals.cn_industry_cname(2)"
   ]
  },
  {
   "cell_type": "markdown",
   "metadata": {},
   "source": [
    "#### 模糊查询编码"
   ]
  },
  {
   "cell_type": "code",
   "execution_count": 19,
   "metadata": {
    "ExecuteTime": {
     "end_time": "2018-07-01T02:58:03.943786Z",
     "start_time": "2018-07-01T02:58:03.837249Z"
    }
   },
   "outputs": [
    {
     "data": {
      "text/plain": [
       "{'10': '光电子器件',\n",
       " '27': '家用电器',\n",
       " '48': '电信增值服务',\n",
       " '49': '电信运营',\n",
       " '50': '电力公用事业',\n",
       " '51': '电子元器件',\n",
       " '52': '电子设备及服务',\n",
       " '53': '电气部件与设备',\n",
       " '54': '电脑与外围设备',\n",
       " '70': '重型电气设备'}"
      ]
     },
     "execution_count": 19,
     "metadata": {},
     "output_type": "execute_result"
    }
   ],
   "source": [
    "Fundamentals.cn_industry_code('电')"
   ]
  },
  {
   "cell_type": "markdown",
   "metadata": {},
   "source": [
    "#### 过滤器"
   ]
  },
  {
   "cell_type": "code",
   "execution_count": 20,
   "metadata": {
    "ExecuteTime": {
     "end_time": "2018-07-01T02:58:04.359355Z",
     "start_time": "2018-07-01T02:58:03.947363Z"
    }
   },
   "outputs": [
    {
     "data": {
      "text/html": [
       "<div>\n",
       "<style scoped>\n",
       "    .dataframe tbody tr th:only-of-type {\n",
       "        vertical-align: middle;\n",
       "    }\n",
       "\n",
       "    .dataframe tbody tr th {\n",
       "        vertical-align: top;\n",
       "    }\n",
       "\n",
       "    .dataframe thead th {\n",
       "        text-align: right;\n",
       "    }\n",
       "</style>\n",
       "<table border=\"1\" class=\"dataframe\">\n",
       "  <thead>\n",
       "    <tr style=\"text-align: right;\">\n",
       "      <th></th>\n",
       "      <th></th>\n",
       "      <th>收盘价</th>\n",
       "    </tr>\n",
       "  </thead>\n",
       "  <tbody>\n",
       "    <tr>\n",
       "      <th rowspan=\"5\" valign=\"top\">2018-04-10 00:00:00+00:00</th>\n",
       "      <th>许继电气(000400)</th>\n",
       "      <td>11.17</td>\n",
       "    </tr>\n",
       "    <tr>\n",
       "      <th>*ST东电(000585)</th>\n",
       "      <td>2.76</td>\n",
       "    </tr>\n",
       "    <tr>\n",
       "      <th>东方电子(000682)</th>\n",
       "      <td>4.40</td>\n",
       "    </tr>\n",
       "    <tr>\n",
       "      <th>银河生物(000806)</th>\n",
       "      <td>7.33</td>\n",
       "    </tr>\n",
       "    <tr>\n",
       "      <th>思源电气(002028)</th>\n",
       "      <td>16.74</td>\n",
       "    </tr>\n",
       "  </tbody>\n",
       "</table>\n",
       "</div>"
      ],
      "text/plain": [
       "                                           收盘价\n",
       "2018-04-10 00:00:00+00:00 许继电气(000400)   11.17\n",
       "                          *ST东电(000585)   2.76\n",
       "                          东方电子(000682)    4.40\n",
       "                          银河生物(000806)    7.33\n",
       "                          思源电气(002028)   16.74"
      ]
     },
     "execution_count": 20,
     "metadata": {},
     "output_type": "execute_result"
    }
   ],
   "source": [
    "def make_pipeline():\n",
    "    yy_filter = Fundamentals.info.cn_industry.latest.eq(70)\n",
    "    return Pipeline(\n",
    "        columns={\n",
    "            '收盘价': CNEquityPricing.close.latest,\n",
    "        }, screen=yy_filter)\n",
    "\n",
    "\n",
    "run_pipeline(make_pipeline(), '2018-04-10', '2018-04-10').head()"
   ]
  },
  {
   "cell_type": "markdown",
   "metadata": {},
   "source": [
    "## `Sector` & `SuperSector`\n",
    "类似晨星分类，根据行业组特点，行业整合成为11片(`Sector`)，进一步组成三大片(`Super_sector`)。国证行业分类标准与此类似，`Sector`是在国证行业分类基础上的映射。"
   ]
  },
  {
   "cell_type": "markdown",
   "metadata": {},
   "source": [
    "### 映射"
   ]
  },
  {
   "cell_type": "code",
   "execution_count": 21,
   "metadata": {
    "ExecuteTime": {
     "end_time": "2018-07-01T02:58:04.460597Z",
     "start_time": "2018-07-01T02:58:04.363255Z"
    }
   },
   "outputs": [
    {
     "data": {
      "text/plain": [
       "{101: '基本材料',\n",
       " 102: '主要消费',\n",
       " 103: '金融服务',\n",
       " 104: '房地产',\n",
       " 205: '可选消费',\n",
       " 206: '医疗保健',\n",
       " 207: '公用事业',\n",
       " 308: '通讯服务',\n",
       " 309: '能源',\n",
       " 310: '工业领域',\n",
       " 311: '工程技术'}"
      ]
     },
     "execution_count": 21,
     "metadata": {},
     "output_type": "execute_result"
    }
   ],
   "source": [
    "Fundamentals.sector_maps"
   ]
  },
  {
   "cell_type": "code",
   "execution_count": 22,
   "metadata": {
    "ExecuteTime": {
     "end_time": "2018-07-01T02:58:04.563455Z",
     "start_time": "2018-07-01T02:58:04.463803Z"
    }
   },
   "outputs": [
    {
     "data": {
      "text/plain": [
       "{1: '周期', 2: '防御', 3: '敏感'}"
      ]
     },
     "execution_count": 22,
     "metadata": {},
     "output_type": "execute_result"
    }
   ],
   "source": [
    "Fundamentals.supper_sector_maps"
   ]
  },
  {
   "cell_type": "markdown",
   "metadata": {},
   "source": [
    "### 查询编码含义"
   ]
  },
  {
   "cell_type": "code",
   "execution_count": 23,
   "metadata": {
    "ExecuteTime": {
     "end_time": "2018-07-01T02:58:04.637185Z",
     "start_time": "2018-07-01T02:58:04.566174Z"
    }
   },
   "outputs": [
    {
     "data": {
      "text/plain": [
       "'可选消费'"
      ]
     },
     "execution_count": 23,
     "metadata": {},
     "output_type": "execute_result"
    }
   ],
   "source": [
    "Fundamentals.sector_cname(205)"
   ]
  },
  {
   "cell_type": "code",
   "execution_count": 24,
   "metadata": {
    "ExecuteTime": {
     "end_time": "2018-07-01T02:58:04.715035Z",
     "start_time": "2018-07-01T02:58:04.639962Z"
    }
   },
   "outputs": [
    {
     "data": {
      "text/plain": [
       "'防御'"
      ]
     },
     "execution_count": 24,
     "metadata": {},
     "output_type": "execute_result"
    }
   ],
   "source": [
    "Fundamentals.supper_sector_cname(2)"
   ]
  },
  {
   "cell_type": "markdown",
   "metadata": {},
   "source": [
    "### 模糊查询编码"
   ]
  },
  {
   "cell_type": "code",
   "execution_count": 25,
   "metadata": {
    "ExecuteTime": {
     "end_time": "2018-07-01T02:58:04.808447Z",
     "start_time": "2018-07-01T02:58:04.718393Z"
    }
   },
   "outputs": [
    {
     "data": {
      "text/plain": [
       "{'310': '工业领域', '311': '工程技术'}"
      ]
     },
     "execution_count": 25,
     "metadata": {},
     "output_type": "execute_result"
    }
   ],
   "source": [
    "Fundamentals.sector_code('工')"
   ]
  },
  {
   "cell_type": "markdown",
   "metadata": {},
   "source": [
    "### 过滤器"
   ]
  },
  {
   "cell_type": "code",
   "execution_count": 26,
   "metadata": {
    "ExecuteTime": {
     "end_time": "2018-07-01T02:58:05.367649Z",
     "start_time": "2018-07-01T02:58:04.811838Z"
    }
   },
   "outputs": [
    {
     "data": {
      "text/html": [
       "<div>\n",
       "<style scoped>\n",
       "    .dataframe tbody tr th:only-of-type {\n",
       "        vertical-align: middle;\n",
       "    }\n",
       "\n",
       "    .dataframe tbody tr th {\n",
       "        vertical-align: top;\n",
       "    }\n",
       "\n",
       "    .dataframe thead th {\n",
       "        text-align: right;\n",
       "    }\n",
       "</style>\n",
       "<table border=\"1\" class=\"dataframe\">\n",
       "  <thead>\n",
       "    <tr style=\"text-align: right;\">\n",
       "      <th></th>\n",
       "      <th></th>\n",
       "      <th>收盘价</th>\n",
       "      <th>国证行业</th>\n",
       "    </tr>\n",
       "  </thead>\n",
       "  <tbody>\n",
       "    <tr>\n",
       "      <th rowspan=\"5\" valign=\"top\">2018-04-10 00:00:00+00:00</th>\n",
       "      <th>恒为科技(603496)</th>\n",
       "      <td>36.99</td>\n",
       "      <td>67</td>\n",
       "    </tr>\n",
       "    <tr>\n",
       "      <th>中通国脉(603559)</th>\n",
       "      <td>33.51</td>\n",
       "      <td>67</td>\n",
       "    </tr>\n",
       "    <tr>\n",
       "      <th>纵横通信(603602)</th>\n",
       "      <td>49.92</td>\n",
       "      <td>66</td>\n",
       "    </tr>\n",
       "    <tr>\n",
       "      <th>XD七一二(603712)</th>\n",
       "      <td>43.81</td>\n",
       "      <td>67</td>\n",
       "    </tr>\n",
       "    <tr>\n",
       "      <th>瑞斯康达(603803)</th>\n",
       "      <td>23.76</td>\n",
       "      <td>67</td>\n",
       "    </tr>\n",
       "  </tbody>\n",
       "</table>\n",
       "</div>"
      ],
      "text/plain": [
       "                                           收盘价  国证行业\n",
       "2018-04-10 00:00:00+00:00 恒为科技(603496)   36.99    67\n",
       "                          中通国脉(603559)   33.51    67\n",
       "                          纵横通信(603602)   49.92    66\n",
       "                          XD七一二(603712)  43.81    67\n",
       "                          瑞斯康达(603803)   23.76    67"
      ]
     },
     "execution_count": 26,
     "metadata": {},
     "output_type": "execute_result"
    }
   ],
   "source": [
    "def make_pipeline():\n",
    "    tx_filter = Fundamentals.info.sector_code.latest.eq(308)\n",
    "    return Pipeline(\n",
    "        columns={\n",
    "            '收盘价': CNEquityPricing.close.latest,\n",
    "            '国证行业': Fundamentals.info.cn_industry.latest,\n",
    "        },\n",
    "        screen=tx_filter)\n",
    "\n",
    "\n",
    "run_pipeline(make_pipeline(), '2018-04-10', '2018-04-10').tail()"
   ]
  },
  {
   "cell_type": "code",
   "execution_count": 27,
   "metadata": {
    "ExecuteTime": {
     "end_time": "2018-07-01T02:58:05.463586Z",
     "start_time": "2018-07-01T02:58:05.371095Z"
    }
   },
   "outputs": [
    {
     "data": {
      "text/plain": [
       "'通信设备'"
      ]
     },
     "execution_count": 27,
     "metadata": {},
     "output_type": "execute_result"
    }
   ],
   "source": [
    "Fundamentals.cn_industry_cname(67)"
   ]
  },
  {
   "cell_type": "markdown",
   "metadata": {},
   "source": [
    "## 概念\n",
    "概念在`Fundamentals.info`数据集中，每个概念为一列。其输出值类型为`bool`，所以直接可以用做过滤器。"
   ]
  },
  {
   "cell_type": "markdown",
   "metadata": {},
   "source": [
    "### 映射表"
   ]
  },
  {
   "cell_type": "code",
   "execution_count": 28,
   "metadata": {
    "ExecuteTime": {
     "end_time": "2018-07-01T02:58:05.567252Z",
     "start_time": "2018-07-01T02:58:05.466042Z"
    }
   },
   "outputs": [
    {
     "data": {
      "text/plain": [
       "{'A001': '新能源汽车',\n",
       " 'A002': '大飞机',\n",
       " 'A003': '参股保险',\n",
       " 'A004': '网络游戏',\n",
       " 'A005': '食品安全',\n",
       " 'A006': '智能电网',\n",
       " 'A007': '节能照明',\n",
       " 'A008': '京津冀一体化',\n",
       " 'A009': '振兴东北',\n",
       " 'A010': '禽流感',\n",
       " 'A011': '军工',\n",
       " 'A012': '煤化工',\n",
       " 'A013': '氟化工',\n",
       " 'A014': '参股券商',\n",
       " 'A015': '海工装备',\n",
       " 'A016': '3D打印',\n",
       " 'A017': '金融IC',\n",
       " 'A018': 'PM2.5',\n",
       " 'A019': '草甘膦',\n",
       " 'A020': '超导',\n",
       " 'A021': '车联网',\n",
       " 'A022': '创投',\n",
       " 'A023': '电子商务',\n",
       " 'A024': '电子信息',\n",
       " 'A025': '移动支付',\n",
       " 'A026': '风电',\n",
       " 'A027': '高校',\n",
       " 'A028': '期货概念',\n",
       " 'A029': '固废处理',\n",
       " 'A030': '核电',\n",
       " 'A031': '黄金',\n",
       " 'A032': '建筑节能',\n",
       " 'A033': '金改',\n",
       " 'A034': '举牌',\n",
       " 'A035': '可燃冰',\n",
       " 'A036': '苹果概念',\n",
       " 'A037': '氢燃料电池',\n",
       " 'A038': '石墨烯',\n",
       " 'A039': '水利',\n",
       " 'A040': '太阳能',\n",
       " 'A041': '钛白粉',\n",
       " 'A042': '碳纤维',\n",
       " 'A043': '特高压',\n",
       " 'A044': '天然气',\n",
       " 'A045': '通用航空',\n",
       " 'A046': '污水处理',\n",
       " 'A047': '物联网',\n",
       " 'A048': '稀土永磁',\n",
       " 'A049': '新疆振兴',\n",
       " 'A050': '参股新三板',\n",
       " 'A051': '页岩气',\n",
       " 'A052': '医疗改革',\n",
       " 'A053': '云计算',\n",
       " 'A054': '智能交通',\n",
       " 'A055': '互联网医疗',\n",
       " 'A056': '新能源',\n",
       " 'A057': '猪肉',\n",
       " 'A058': '智慧城市',\n",
       " 'A059': '宽带中国',\n",
       " 'A060': '迪士尼',\n",
       " 'A061': '智能医疗',\n",
       " 'A062': '中字头股票',\n",
       " 'A063': '生物质能',\n",
       " 'A064': '卫星导航',\n",
       " 'A065': '无线充电',\n",
       " 'A066': '节能环保',\n",
       " 'A067': '锂电池',\n",
       " 'A068': '东盟自贸区',\n",
       " 'A069': '网络安全',\n",
       " 'A070': '生物医药',\n",
       " 'A071': '稀缺资源',\n",
       " 'A072': '充电桩',\n",
       " 'A073': '安防',\n",
       " 'A074': '脱硫脱硝',\n",
       " 'A075': '文化传媒',\n",
       " 'A076': '小金属',\n",
       " 'A077': '家用电器',\n",
       " 'A078': '机器人概念',\n",
       " 'A079': '量子通信',\n",
       " 'A080': '美丽中国',\n",
       " 'A081': '移动互联网',\n",
       " 'A082': '大数据',\n",
       " 'A083': '农业现代化',\n",
       " 'A084': '4G5G',\n",
       " 'A085': '特钢',\n",
       " 'A086': '土地流转',\n",
       " 'A087': 'ST板块',\n",
       " 'A088': '新股与次新股',\n",
       " 'A089': '新材料概念',\n",
       " 'A090': '无人机',\n",
       " 'A091': '高端装备',\n",
       " 'A092': '二胎概念',\n",
       " 'A093': '尾气治理',\n",
       " 'A094': '融资融券',\n",
       " 'A095': '油品升级',\n",
       " 'A096': '转融券标的',\n",
       " 'A097': '语音技术',\n",
       " 'A098': '智能家居',\n",
       " 'A099': '生态农业',\n",
       " 'A100': '航运',\n",
       " 'A101': '乳业',\n",
       " 'A102': '手机游戏',\n",
       " 'A103': '光伏概念',\n",
       " 'A104': '芯片概念',\n",
       " 'A105': '足球概念',\n",
       " 'A106': '特斯拉',\n",
       " 'A107': '上海自贸区',\n",
       " 'A108': '蓝宝石',\n",
       " 'A109': '基因测序',\n",
       " 'A110': 'OLED',\n",
       " 'A111': '人脸识别',\n",
       " 'A112': '深圳国资改革',\n",
       " 'A113': '智能穿戴',\n",
       " 'A114': '冷链物流',\n",
       " 'A115': '互联网金融',\n",
       " 'A116': '电子发票',\n",
       " 'A117': '在线旅游',\n",
       " 'A118': '在线教育',\n",
       " 'A119': '天津自贸区',\n",
       " 'A120': '福建自贸区',\n",
       " 'A121': '马云概念',\n",
       " 'A122': '互联网彩票',\n",
       " 'A123': '供应链金融',\n",
       " 'A124': '无人驾驶',\n",
       " 'A125': '分散染料',\n",
       " 'A126': '农机',\n",
       " 'A127': '民营医院',\n",
       " 'A128': '一带一路',\n",
       " 'A129': '参股民营银行',\n",
       " 'A130': '油品改革',\n",
       " 'A131': '上海国资改革',\n",
       " 'A132': '物流电商平台',\n",
       " 'A133': 'P2P概念',\n",
       " 'A134': '高送转',\n",
       " 'A135': '摘帽',\n",
       " 'A136': '汽车电子',\n",
       " 'A137': '电力改革',\n",
       " 'A138': '沪港通概念',\n",
       " 'A139': '粤港澳概念',\n",
       " 'A140': '养老概念',\n",
       " 'A141': '白酒',\n",
       " 'A142': '啤酒',\n",
       " 'A143': 'O2O概念',\n",
       " 'A144': '医疗器械',\n",
       " 'A145': '高铁',\n",
       " 'A146': '集成电路',\n",
       " 'A147': '国产软件',\n",
       " 'A148': '首发新股',\n",
       " 'A149': '职业教育',\n",
       " 'A150': '中韩自贸区',\n",
       " 'A151': '细胞免疫治疗',\n",
       " 'A152': '央企国资改革',\n",
       " 'A153': '阿里巴巴概念',\n",
       " 'A154': '两桶油改革',\n",
       " 'A155': '跨境电商',\n",
       " 'A156': '医药电商',\n",
       " 'A157': '体育产业',\n",
       " 'A158': '工业4.0',\n",
       " 'A159': '地下管网',\n",
       " 'A160': 'PPP概念',\n",
       " 'A161': '西安自贸区',\n",
       " 'A162': '互联网保险',\n",
       " 'A163': '广东自贸区',\n",
       " 'A164': '二维码识别',\n",
       " 'A165': '农村电商',\n",
       " 'A166': '深港通',\n",
       " 'A167': '互联网+',\n",
       " 'A168': '能源互联网',\n",
       " 'A169': '虚拟现实',\n",
       " 'A170': '消费金融',\n",
       " 'A171': '证金持股',\n",
       " 'A172': '杭州亚运会',\n",
       " 'A173': '军民融合',\n",
       " 'A174': '智能物流',\n",
       " 'A175': '健康中国',\n",
       " 'A176': '腾讯概念',\n",
       " 'A177': '电子竞技',\n",
       " 'A178': '租售同权',\n",
       " 'A179': '人工智能',\n",
       " 'A180': '区块链',\n",
       " 'A181': '债转股',\n",
       " 'A182': '参股360',\n",
       " 'A183': '智能音箱',\n",
       " 'A184': '网约车',\n",
       " 'A185': '万达私有化',\n",
       " 'A186': '蚂蚁金服概念',\n",
       " 'A187': '股权转让',\n",
       " 'A188': '共享单车',\n",
       " 'A189': '微信小程序',\n",
       " 'A190': '雄安新区',\n",
       " 'A191': '特色小镇',\n",
       " 'A192': 'MSCI概念',\n",
       " 'A193': '王者荣耀',\n",
       " 'A194': '白马股',\n",
       " 'A195': '无人零售',\n",
       " 'A196': '装配式建筑',\n",
       " 'A197': '自由贸易港',\n",
       " 'A198': '超级品牌',\n",
       " 'A199': '石墨电极',\n",
       " 'A200': '水泥'}"
      ]
     },
     "execution_count": 28,
     "metadata": {},
     "output_type": "execute_result"
    }
   ],
   "source": [
    "Fundamentals.concept_maps"
   ]
  },
  {
   "cell_type": "markdown",
   "metadata": {},
   "source": [
    "### 查询概念含义"
   ]
  },
  {
   "cell_type": "code",
   "execution_count": 29,
   "metadata": {
    "ExecuteTime": {
     "end_time": "2018-07-01T02:58:05.682025Z",
     "start_time": "2018-07-01T02:58:05.570545Z"
    }
   },
   "outputs": [
    {
     "data": {
      "text/plain": [
       "'细胞免疫治疗'"
      ]
     },
     "execution_count": 29,
     "metadata": {},
     "output_type": "execute_result"
    }
   ],
   "source": [
    "Fundamentals.concept_col_name('A151')"
   ]
  },
  {
   "cell_type": "markdown",
   "metadata": {},
   "source": [
    "### 模糊查询概念编码"
   ]
  },
  {
   "cell_type": "code",
   "execution_count": 30,
   "metadata": {
    "ExecuteTime": {
     "end_time": "2018-07-01T02:58:05.799780Z",
     "start_time": "2018-07-01T02:58:05.685362Z"
    }
   },
   "outputs": [
    {
     "data": {
      "text/plain": [
       "{'A015': '海工装备', 'A107': '上海自贸区', 'A131': '上海国资改革'}"
      ]
     },
     "execution_count": 30,
     "metadata": {},
     "output_type": "execute_result"
    }
   ],
   "source": [
    "Fundamentals.concept_col_code('海')"
   ]
  },
  {
   "cell_type": "markdown",
   "metadata": {
    "ExecuteTime": {
     "end_time": "2018-05-01T15:05:42.953922Z",
     "start_time": "2018-05-01T15:05:42.951089Z"
    }
   },
   "source": [
    "### 用法"
   ]
  },
  {
   "cell_type": "code",
   "execution_count": 31,
   "metadata": {
    "ExecuteTime": {
     "end_time": "2018-07-01T02:58:06.233555Z",
     "start_time": "2018-07-01T02:58:05.802362Z"
    }
   },
   "outputs": [
    {
     "data": {
      "text/html": [
       "<div>\n",
       "<style scoped>\n",
       "    .dataframe tbody tr th:only-of-type {\n",
       "        vertical-align: middle;\n",
       "    }\n",
       "\n",
       "    .dataframe tbody tr th {\n",
       "        vertical-align: top;\n",
       "    }\n",
       "\n",
       "    .dataframe thead th {\n",
       "        text-align: right;\n",
       "    }\n",
       "</style>\n",
       "<table border=\"1\" class=\"dataframe\">\n",
       "  <thead>\n",
       "    <tr style=\"text-align: right;\">\n",
       "      <th></th>\n",
       "      <th></th>\n",
       "      <th>收盘价</th>\n",
       "      <th>海军军工概念</th>\n",
       "    </tr>\n",
       "  </thead>\n",
       "  <tbody>\n",
       "    <tr>\n",
       "      <th rowspan=\"20\" valign=\"top\">2018-04-04 00:00:00+00:00</th>\n",
       "      <th>南华生物(000504)</th>\n",
       "      <td>24.13</td>\n",
       "      <td>True</td>\n",
       "    </tr>\n",
       "    <tr>\n",
       "      <th>国际医学(000516)</th>\n",
       "      <td>4.89</td>\n",
       "      <td>True</td>\n",
       "    </tr>\n",
       "    <tr>\n",
       "      <th>银河生物(000806)</th>\n",
       "      <td>7.71</td>\n",
       "      <td>True</td>\n",
       "    </tr>\n",
       "    <tr>\n",
       "      <th>创新医疗(002173)</th>\n",
       "      <td>13.05</td>\n",
       "      <td>True</td>\n",
       "    </tr>\n",
       "    <tr>\n",
       "      <th>姚记扑克(002605)</th>\n",
       "      <td>10.91</td>\n",
       "      <td>True</td>\n",
       "    </tr>\n",
       "    <tr>\n",
       "      <th>东诚药业(002675)</th>\n",
       "      <td>12.35</td>\n",
       "      <td>True</td>\n",
       "    </tr>\n",
       "    <tr>\n",
       "      <th>莱美药业(300006)</th>\n",
       "      <td>5.51</td>\n",
       "      <td>True</td>\n",
       "    </tr>\n",
       "    <tr>\n",
       "      <th>安科生物(300009)</th>\n",
       "      <td>28.01</td>\n",
       "      <td>True</td>\n",
       "    </tr>\n",
       "    <tr>\n",
       "      <th>北陆药业(300016)</th>\n",
       "      <td>13.03</td>\n",
       "      <td>True</td>\n",
       "    </tr>\n",
       "    <tr>\n",
       "      <th>新开源(300109)</th>\n",
       "      <td>41.17</td>\n",
       "      <td>True</td>\n",
       "    </tr>\n",
       "    <tr>\n",
       "      <th>香雪制药(300147)</th>\n",
       "      <td>9.05</td>\n",
       "      <td>True</td>\n",
       "    </tr>\n",
       "    <tr>\n",
       "      <th>佐力药业(300181)</th>\n",
       "      <td>7.48</td>\n",
       "      <td>True</td>\n",
       "    </tr>\n",
       "    <tr>\n",
       "      <th>乐金健康(300247)</th>\n",
       "      <td>5.29</td>\n",
       "      <td>True</td>\n",
       "    </tr>\n",
       "    <tr>\n",
       "      <th>开能环保(300272)</th>\n",
       "      <td>9.27</td>\n",
       "      <td>True</td>\n",
       "    </tr>\n",
       "    <tr>\n",
       "      <th>和佳股份(300273)</th>\n",
       "      <td>9.12</td>\n",
       "      <td>True</td>\n",
       "    </tr>\n",
       "    <tr>\n",
       "      <th>复星医药(600196)</th>\n",
       "      <td>44.75</td>\n",
       "      <td>True</td>\n",
       "    </tr>\n",
       "    <tr>\n",
       "      <th>华海药业(600521)</th>\n",
       "      <td>33.97</td>\n",
       "      <td>True</td>\n",
       "    </tr>\n",
       "    <tr>\n",
       "      <th>中源协和(600645)</th>\n",
       "      <td>24.07</td>\n",
       "      <td>True</td>\n",
       "    </tr>\n",
       "    <tr>\n",
       "      <th>海欣股份(600851)</th>\n",
       "      <td>10.65</td>\n",
       "      <td>True</td>\n",
       "    </tr>\n",
       "    <tr>\n",
       "      <th>昭衍新药(603127)</th>\n",
       "      <td>80.76</td>\n",
       "      <td>True</td>\n",
       "    </tr>\n",
       "    <tr>\n",
       "      <th rowspan=\"20\" valign=\"top\">2018-04-09 00:00:00+00:00</th>\n",
       "      <th>南华生物(000504)</th>\n",
       "      <td>24.27</td>\n",
       "      <td>True</td>\n",
       "    </tr>\n",
       "    <tr>\n",
       "      <th>国际医学(000516)</th>\n",
       "      <td>4.89</td>\n",
       "      <td>True</td>\n",
       "    </tr>\n",
       "    <tr>\n",
       "      <th>银河生物(000806)</th>\n",
       "      <td>7.62</td>\n",
       "      <td>True</td>\n",
       "    </tr>\n",
       "    <tr>\n",
       "      <th>创新医疗(002173)</th>\n",
       "      <td>13.49</td>\n",
       "      <td>True</td>\n",
       "    </tr>\n",
       "    <tr>\n",
       "      <th>姚记扑克(002605)</th>\n",
       "      <td>10.78</td>\n",
       "      <td>True</td>\n",
       "    </tr>\n",
       "    <tr>\n",
       "      <th>东诚药业(002675)</th>\n",
       "      <td>12.35</td>\n",
       "      <td>True</td>\n",
       "    </tr>\n",
       "    <tr>\n",
       "      <th>莱美药业(300006)</th>\n",
       "      <td>5.58</td>\n",
       "      <td>True</td>\n",
       "    </tr>\n",
       "    <tr>\n",
       "      <th>安科生物(300009)</th>\n",
       "      <td>26.90</td>\n",
       "      <td>True</td>\n",
       "    </tr>\n",
       "    <tr>\n",
       "      <th>北陆药业(300016)</th>\n",
       "      <td>13.03</td>\n",
       "      <td>True</td>\n",
       "    </tr>\n",
       "    <tr>\n",
       "      <th>新开源(300109)</th>\n",
       "      <td>39.78</td>\n",
       "      <td>True</td>\n",
       "    </tr>\n",
       "    <tr>\n",
       "      <th>香雪制药(300147)</th>\n",
       "      <td>8.97</td>\n",
       "      <td>True</td>\n",
       "    </tr>\n",
       "    <tr>\n",
       "      <th>佐力药业(300181)</th>\n",
       "      <td>7.23</td>\n",
       "      <td>True</td>\n",
       "    </tr>\n",
       "    <tr>\n",
       "      <th>乐金健康(300247)</th>\n",
       "      <td>5.31</td>\n",
       "      <td>True</td>\n",
       "    </tr>\n",
       "    <tr>\n",
       "      <th>开能环保(300272)</th>\n",
       "      <td>9.86</td>\n",
       "      <td>True</td>\n",
       "    </tr>\n",
       "    <tr>\n",
       "      <th>和佳股份(300273)</th>\n",
       "      <td>8.98</td>\n",
       "      <td>True</td>\n",
       "    </tr>\n",
       "    <tr>\n",
       "      <th>复星医药(600196)</th>\n",
       "      <td>44.92</td>\n",
       "      <td>True</td>\n",
       "    </tr>\n",
       "    <tr>\n",
       "      <th>华海药业(600521)</th>\n",
       "      <td>33.99</td>\n",
       "      <td>True</td>\n",
       "    </tr>\n",
       "    <tr>\n",
       "      <th>中源协和(600645)</th>\n",
       "      <td>23.48</td>\n",
       "      <td>True</td>\n",
       "    </tr>\n",
       "    <tr>\n",
       "      <th>海欣股份(600851)</th>\n",
       "      <td>10.64</td>\n",
       "      <td>True</td>\n",
       "    </tr>\n",
       "    <tr>\n",
       "      <th>昭衍新药(603127)</th>\n",
       "      <td>78.28</td>\n",
       "      <td>True</td>\n",
       "    </tr>\n",
       "    <tr>\n",
       "      <th rowspan=\"20\" valign=\"top\">2018-04-10 00:00:00+00:00</th>\n",
       "      <th>南华生物(000504)</th>\n",
       "      <td>24.02</td>\n",
       "      <td>True</td>\n",
       "    </tr>\n",
       "    <tr>\n",
       "      <th>国际医学(000516)</th>\n",
       "      <td>4.89</td>\n",
       "      <td>True</td>\n",
       "    </tr>\n",
       "    <tr>\n",
       "      <th>银河生物(000806)</th>\n",
       "      <td>7.33</td>\n",
       "      <td>True</td>\n",
       "    </tr>\n",
       "    <tr>\n",
       "      <th>创新医疗(002173)</th>\n",
       "      <td>13.54</td>\n",
       "      <td>True</td>\n",
       "    </tr>\n",
       "    <tr>\n",
       "      <th>姚记扑克(002605)</th>\n",
       "      <td>10.78</td>\n",
       "      <td>True</td>\n",
       "    </tr>\n",
       "    <tr>\n",
       "      <th>东诚药业(002675)</th>\n",
       "      <td>12.12</td>\n",
       "      <td>True</td>\n",
       "    </tr>\n",
       "    <tr>\n",
       "      <th>莱美药业(300006)</th>\n",
       "      <td>5.52</td>\n",
       "      <td>True</td>\n",
       "    </tr>\n",
       "    <tr>\n",
       "      <th>安科生物(300009)</th>\n",
       "      <td>26.96</td>\n",
       "      <td>True</td>\n",
       "    </tr>\n",
       "    <tr>\n",
       "      <th>北陆药业(300016)</th>\n",
       "      <td>13.03</td>\n",
       "      <td>True</td>\n",
       "    </tr>\n",
       "    <tr>\n",
       "      <th>新开源(300109)</th>\n",
       "      <td>39.73</td>\n",
       "      <td>True</td>\n",
       "    </tr>\n",
       "    <tr>\n",
       "      <th>香雪制药(300147)</th>\n",
       "      <td>9.13</td>\n",
       "      <td>True</td>\n",
       "    </tr>\n",
       "    <tr>\n",
       "      <th>佐力药业(300181)</th>\n",
       "      <td>7.28</td>\n",
       "      <td>True</td>\n",
       "    </tr>\n",
       "    <tr>\n",
       "      <th>乐金健康(300247)</th>\n",
       "      <td>5.26</td>\n",
       "      <td>True</td>\n",
       "    </tr>\n",
       "    <tr>\n",
       "      <th>开能环保(300272)</th>\n",
       "      <td>9.99</td>\n",
       "      <td>True</td>\n",
       "    </tr>\n",
       "    <tr>\n",
       "      <th>和佳股份(300273)</th>\n",
       "      <td>9.15</td>\n",
       "      <td>True</td>\n",
       "    </tr>\n",
       "    <tr>\n",
       "      <th>复星医药(600196)</th>\n",
       "      <td>44.21</td>\n",
       "      <td>True</td>\n",
       "    </tr>\n",
       "    <tr>\n",
       "      <th>华海药业(600521)</th>\n",
       "      <td>33.03</td>\n",
       "      <td>True</td>\n",
       "    </tr>\n",
       "    <tr>\n",
       "      <th>中源协和(600645)</th>\n",
       "      <td>23.99</td>\n",
       "      <td>True</td>\n",
       "    </tr>\n",
       "    <tr>\n",
       "      <th>海欣股份(600851)</th>\n",
       "      <td>10.39</td>\n",
       "      <td>True</td>\n",
       "    </tr>\n",
       "    <tr>\n",
       "      <th>昭衍新药(603127)</th>\n",
       "      <td>78.41</td>\n",
       "      <td>True</td>\n",
       "    </tr>\n",
       "  </tbody>\n",
       "</table>\n",
       "</div>"
      ],
      "text/plain": [
       "                                          收盘价  海军军工概念\n",
       "2018-04-04 00:00:00+00:00 南华生物(000504)  24.13    True\n",
       "                          国际医学(000516)   4.89    True\n",
       "                          银河生物(000806)   7.71    True\n",
       "                          创新医疗(002173)  13.05    True\n",
       "                          姚记扑克(002605)  10.91    True\n",
       "                          东诚药业(002675)  12.35    True\n",
       "                          莱美药业(300006)   5.51    True\n",
       "                          安科生物(300009)  28.01    True\n",
       "                          北陆药业(300016)  13.03    True\n",
       "                          新开源(300109)   41.17    True\n",
       "                          香雪制药(300147)   9.05    True\n",
       "                          佐力药业(300181)   7.48    True\n",
       "                          乐金健康(300247)   5.29    True\n",
       "                          开能环保(300272)   9.27    True\n",
       "                          和佳股份(300273)   9.12    True\n",
       "                          复星医药(600196)  44.75    True\n",
       "                          华海药业(600521)  33.97    True\n",
       "                          中源协和(600645)  24.07    True\n",
       "                          海欣股份(600851)  10.65    True\n",
       "                          昭衍新药(603127)  80.76    True\n",
       "2018-04-09 00:00:00+00:00 南华生物(000504)  24.27    True\n",
       "                          国际医学(000516)   4.89    True\n",
       "                          银河生物(000806)   7.62    True\n",
       "                          创新医疗(002173)  13.49    True\n",
       "                          姚记扑克(002605)  10.78    True\n",
       "                          东诚药业(002675)  12.35    True\n",
       "                          莱美药业(300006)   5.58    True\n",
       "                          安科生物(300009)  26.90    True\n",
       "                          北陆药业(300016)  13.03    True\n",
       "                          新开源(300109)   39.78    True\n",
       "                          香雪制药(300147)   8.97    True\n",
       "                          佐力药业(300181)   7.23    True\n",
       "                          乐金健康(300247)   5.31    True\n",
       "                          开能环保(300272)   9.86    True\n",
       "                          和佳股份(300273)   8.98    True\n",
       "                          复星医药(600196)  44.92    True\n",
       "                          华海药业(600521)  33.99    True\n",
       "                          中源协和(600645)  23.48    True\n",
       "                          海欣股份(600851)  10.64    True\n",
       "                          昭衍新药(603127)  78.28    True\n",
       "2018-04-10 00:00:00+00:00 南华生物(000504)  24.02    True\n",
       "                          国际医学(000516)   4.89    True\n",
       "                          银河生物(000806)   7.33    True\n",
       "                          创新医疗(002173)  13.54    True\n",
       "                          姚记扑克(002605)  10.78    True\n",
       "                          东诚药业(002675)  12.12    True\n",
       "                          莱美药业(300006)   5.52    True\n",
       "                          安科生物(300009)  26.96    True\n",
       "                          北陆药业(300016)  13.03    True\n",
       "                          新开源(300109)   39.73    True\n",
       "                          香雪制药(300147)   9.13    True\n",
       "                          佐力药业(300181)   7.28    True\n",
       "                          乐金健康(300247)   5.26    True\n",
       "                          开能环保(300272)   9.99    True\n",
       "                          和佳股份(300273)   9.15    True\n",
       "                          复星医药(600196)  44.21    True\n",
       "                          华海药业(600521)  33.03    True\n",
       "                          中源协和(600645)  23.99    True\n",
       "                          海欣股份(600851)  10.39    True\n",
       "                          昭衍新药(603127)  78.41    True"
      ]
     },
     "execution_count": 31,
     "metadata": {},
     "output_type": "execute_result"
    }
   ],
   "source": [
    "def make_pipeline():\n",
    "    hjjg = Fundamentals.info.A151.latest\n",
    "    return Pipeline(\n",
    "        columns={\n",
    "            '收盘价': CNEquityPricing.close.latest,\n",
    "            '海军军工概念': hjjg\n",
    "        },\n",
    "        screen=hjjg)\n",
    "\n",
    "\n",
    "run_pipeline(make_pipeline(), '2018-04-04', '2018-04-10')"
   ]
  }
 ],
 "metadata": {
  "kernelspec": {
   "display_name": "zipline23",
   "language": "python",
   "name": "zipline23"
  },
  "language_info": {
   "codemirror_mode": {
    "name": "ipython",
    "version": 3
   },
   "file_extension": ".py",
   "mimetype": "text/x-python",
   "name": "python",
   "nbconvert_exporter": "python",
   "pygments_lexer": "ipython3",
   "version": "3.6.5"
  },
  "toc": {
   "base_numbering": 1,
   "nav_menu": {},
   "number_sections": false,
   "sideBar": true,
   "skip_h1_title": false,
   "title_cell": "Table of Contents",
   "title_sidebar": "Contents",
   "toc_cell": false,
   "toc_position": {
    "height": "calc(100% - 180px)",
    "left": "10px",
    "top": "150px",
    "width": "260px"
   },
   "toc_section_display": true,
   "toc_window_display": true
  }
 },
 "nbformat": 4,
 "nbformat_minor": 2
}
