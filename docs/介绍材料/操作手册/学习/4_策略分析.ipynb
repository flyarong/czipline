{
 "cells": [
  {
   "cell_type": "markdown",
   "metadata": {},
   "source": [
    "## 策略定义"
   ]
  },
  {
   "cell_type": "markdown",
   "metadata": {},
   "source": [
    "现在已经学会了如何访问和操作Quantopian中的数据，让我们为多头空头股票策略构建数据pipeline。一般而言，多头空头股票策略包括资产相对价值，并对我们有信心的资产组合增加下注(多头)和减少下注(空头)。\n",
    "\n",
    "随着高价值和低价值资产集合之间的收益差距的增加，多头空头股票策略将获利。多头空头股票策略的质量完全依赖于其底层排名模型的质量。 在本教程中，我们将为我们的战略使用一个简单的排名模式：\n",
    "\n",
    "**策略**：我们将考虑尾部12个月每股股利平均值/股价作为基本指标，评分高的资产作为高价值，评分低的资产评分为低价值。"
   ]
  },
  {
   "cell_type": "markdown",
   "metadata": {},
   "source": [
    "## 策略分析"
   ]
  },
  {
   "cell_type": "code",
   "execution_count": 1,
   "metadata": {
    "ExecuteTime": {
     "end_time": "2018-07-01T21:42:24.668407Z",
     "start_time": "2018-07-01T21:42:24.665196Z"
    }
   },
   "outputs": [],
   "source": [
    "import warnings"
   ]
  },
  {
   "cell_type": "code",
   "execution_count": 2,
   "metadata": {
    "ExecuteTime": {
     "end_time": "2018-07-01T21:42:24.675774Z",
     "start_time": "2018-07-01T21:42:24.672042Z"
    }
   },
   "outputs": [],
   "source": [
    "warnings.filterwarnings('ignore')"
   ]
  },
  {
   "cell_type": "markdown",
   "metadata": {},
   "source": [
    "我们可以使用`builtin`模块中的自定义函数`trailing_dividend_yield`来定义上面的策略，类似于我们在上一课中创建的管道："
   ]
  },
  {
   "cell_type": "raw",
   "metadata": {
    "ExecuteTime": {
     "end_time": "2018-05-21T02:48:30.399607Z",
     "start_time": "2018-05-21T02:48:27.425281Z"
    }
   },
   "source": [
    "# Import Pipeline class and datasets\n",
    "from zipline.pipeline import Pipeline\n",
    "# Import built-in trading universe\n",
    "from zipline.pipeline.builtin import QTradableStocksUS, trailing_dividend_yield\n",
    "\n",
    "\n",
    "def make_pipeline():\n",
    "    # Create a reference to our trading universe\n",
    "    base_universe = QTradableStocksUS()\n",
    "\n",
    "    # 尾部12个月每股股利平均值/股价\n",
    "    tdy = trailing_dividend_yield()\n",
    "\n",
    "    # Return Pipeline containing close_price and\n",
    "    # sentiment_score that has our trading universe as screen\n",
    "    return Pipeline(\n",
    "        columns={\n",
    "            'tdy': tdy,\n",
    "        },\n",
    "        screen=base_universe\n",
    "    )"
   ]
  },
  {
   "cell_type": "markdown",
   "metadata": {},
   "source": [
    "为了简单起见，我们只分析根据`trailing_dividend_yield`排名的前350名和后350只股票。我们可以使用`trailing_dividend_yield`输出的顶`top`和`bottom`方法为这些集合创建`pipeline`过滤器，并使用`|`运算符联合。然后，将使用`&`运算符来获得过滤器和总体之间的交集，从而移除可交易的总体之外的任何东西："
   ]
  },
  {
   "cell_type": "code",
   "execution_count": 3,
   "metadata": {
    "ExecuteTime": {
     "end_time": "2018-07-01T21:42:27.322676Z",
     "start_time": "2018-07-01T21:42:24.678319Z"
    }
   },
   "outputs": [],
   "source": [
    "# Import Pipeline class and datasets\n",
    "from zipline.pipeline import Pipeline\n",
    "# Import built-in trading universe\n",
    "from zipline.pipeline.builtin import QTradableStocksUS, trailing_dividend_yield\n",
    "\n",
    "# Pipeline definition\n",
    "def  make_pipeline():\n",
    "\n",
    "    base_universe = QTradableStocksUS()\n",
    "\n",
    "    # 尾部12个月每股股利平均值/股价\n",
    "    tdy = trailing_dividend_yield()\n",
    "\n",
    "    # Create filter for top 350 and bottom 350\n",
    "    # assets based on their sentiment scores\n",
    "    top_bottom_scores = (\n",
    "        tdy.top(350) | tdy.bottom(350)\n",
    "    )\n",
    "\n",
    "    return Pipeline(\n",
    "        columns={\n",
    "            'tdy': tdy,\n",
    "        },\n",
    "        # Set screen as the intersection between our filter\n",
    "        # and trading universe\n",
    "        screen=(\n",
    "            base_universe\n",
    "            & top_bottom_scores\n",
    "        )\n",
    "    )"
   ]
  },
  {
   "cell_type": "markdown",
   "metadata": {},
   "source": [
    "接下来，运行3年的`pipeline`，以获得可用于分析的输出。这将需要约15秒。"
   ]
  },
  {
   "cell_type": "code",
   "execution_count": 4,
   "metadata": {
    "ExecuteTime": {
     "end_time": "2018-07-01T21:42:46.743770Z",
     "start_time": "2018-07-01T21:42:27.325463Z"
    }
   },
   "outputs": [],
   "source": [
    "# Import run_pipeline method\n",
    "from zipline.research import run_pipeline\n",
    "\n",
    "# Specify a time range to evaluate\n",
    "period_start = '2015-01-01'\n",
    "period_end = '2018-05-18'\n",
    "\n",
    "# Execute pipeline over evaluation period\n",
    "pipeline_output = run_pipeline(\n",
    "    make_pipeline(),\n",
    "    period_start,\n",
    "    period_end\n",
    ")"
   ]
  },
  {
   "cell_type": "markdown",
   "metadata": {},
   "source": [
    "除了上述数据外，我们还需要此期间所有股票的价格数据。我们可以很容易地从管道输出的索引中获得这些资产的清单，并将该清单传递给`prices`函数以获取我们需要的数据："
   ]
  },
  {
   "cell_type": "code",
   "execution_count": 5,
   "metadata": {
    "ExecuteTime": {
     "end_time": "2018-07-01T21:43:16.041921Z",
     "start_time": "2018-07-01T21:42:46.747711Z"
    }
   },
   "outputs": [],
   "source": [
    "# Import prices function\n",
    "from zipline.research import prices\n",
    "\n",
    "# Get list of unique assets from the pipeline output\n",
    "asset_list = pipeline_output.index.levels[1].unique()\n",
    "\n",
    "# Query pricing data for all assets present during\n",
    "# evaluation period\n",
    "asset_prices = prices(\n",
    "    asset_list,\n",
    "    start=period_start,\n",
    "    end=period_end\n",
    ")"
   ]
  },
  {
   "cell_type": "code",
   "execution_count": 6,
   "metadata": {
    "ExecuteTime": {
     "end_time": "2018-07-01T21:43:16.088408Z",
     "start_time": "2018-07-01T21:43:16.045295Z"
    }
   },
   "outputs": [
    {
     "data": {
      "text/html": [
       "<div>\n",
       "<style scoped>\n",
       "    .dataframe tbody tr th:only-of-type {\n",
       "        vertical-align: middle;\n",
       "    }\n",
       "\n",
       "    .dataframe tbody tr th {\n",
       "        vertical-align: top;\n",
       "    }\n",
       "\n",
       "    .dataframe thead th {\n",
       "        text-align: right;\n",
       "    }\n",
       "</style>\n",
       "<table border=\"1\" class=\"dataframe\">\n",
       "  <thead>\n",
       "    <tr style=\"text-align: right;\">\n",
       "      <th></th>\n",
       "      <th>平安银行(000001)</th>\n",
       "      <th>万 科Ａ(000002)</th>\n",
       "      <th>国农科技(000004)</th>\n",
       "      <th>世纪星源(000005)</th>\n",
       "      <th>深振业Ａ(000006)</th>\n",
       "      <th>神州高铁(000008)</th>\n",
       "      <th>美丽生态(000010)</th>\n",
       "      <th>深物业A(000011)</th>\n",
       "      <th>南 玻Ａ(000012)</th>\n",
       "      <th>沙河股份(000014)</th>\n",
       "      <th>...</th>\n",
       "      <th>新华网(603888)</th>\n",
       "      <th>新澳股份(603889)</th>\n",
       "      <th>晨光文具(603899)</th>\n",
       "      <th>益丰药房(603939)</th>\n",
       "      <th>哈森股份(603958)</th>\n",
       "      <th>银龙股份(603969)</th>\n",
       "      <th>国泰集团(603977)</th>\n",
       "      <th>艾华集团(603989)</th>\n",
       "      <th>洛阳钼业(603993)</th>\n",
       "      <th>XD中新科(603996)</th>\n",
       "    </tr>\n",
       "  </thead>\n",
       "  <tbody>\n",
       "    <tr>\n",
       "      <th>2018-05-14 00:00:00+00:00</th>\n",
       "      <td>11.18</td>\n",
       "      <td>27.94</td>\n",
       "      <td>21.45</td>\n",
       "      <td>3.75</td>\n",
       "      <td>7.31</td>\n",
       "      <td>5.60</td>\n",
       "      <td>3.70</td>\n",
       "      <td>14.88</td>\n",
       "      <td>7.24</td>\n",
       "      <td>14.25</td>\n",
       "      <td>...</td>\n",
       "      <td>22.03</td>\n",
       "      <td>12.93</td>\n",
       "      <td>29.90</td>\n",
       "      <td>60.02</td>\n",
       "      <td>14.24</td>\n",
       "      <td>8.360</td>\n",
       "      <td>10.051</td>\n",
       "      <td>36.99</td>\n",
       "      <td>8.29</td>\n",
       "      <td>17.22</td>\n",
       "    </tr>\n",
       "    <tr>\n",
       "      <th>2018-05-15 00:00:00+00:00</th>\n",
       "      <td>11.12</td>\n",
       "      <td>27.75</td>\n",
       "      <td>21.43</td>\n",
       "      <td>3.72</td>\n",
       "      <td>7.43</td>\n",
       "      <td>5.78</td>\n",
       "      <td>3.73</td>\n",
       "      <td>15.06</td>\n",
       "      <td>7.26</td>\n",
       "      <td>14.41</td>\n",
       "      <td>...</td>\n",
       "      <td>22.05</td>\n",
       "      <td>13.03</td>\n",
       "      <td>31.13</td>\n",
       "      <td>60.02</td>\n",
       "      <td>14.44</td>\n",
       "      <td>8.450</td>\n",
       "      <td>10.214</td>\n",
       "      <td>36.90</td>\n",
       "      <td>8.33</td>\n",
       "      <td>18.46</td>\n",
       "    </tr>\n",
       "    <tr>\n",
       "      <th>2018-05-16 00:00:00+00:00</th>\n",
       "      <td>10.90</td>\n",
       "      <td>27.23</td>\n",
       "      <td>22.09</td>\n",
       "      <td>3.70</td>\n",
       "      <td>7.44</td>\n",
       "      <td>5.91</td>\n",
       "      <td>3.92</td>\n",
       "      <td>14.91</td>\n",
       "      <td>7.14</td>\n",
       "      <td>14.10</td>\n",
       "      <td>...</td>\n",
       "      <td>21.51</td>\n",
       "      <td>13.02</td>\n",
       "      <td>31.04</td>\n",
       "      <td>60.02</td>\n",
       "      <td>14.38</td>\n",
       "      <td>8.340</td>\n",
       "      <td>10.170</td>\n",
       "      <td>36.85</td>\n",
       "      <td>8.18</td>\n",
       "      <td>19.04</td>\n",
       "    </tr>\n",
       "    <tr>\n",
       "      <th>2018-05-17 00:00:00+00:00</th>\n",
       "      <td>10.82</td>\n",
       "      <td>26.79</td>\n",
       "      <td>21.59</td>\n",
       "      <td>3.68</td>\n",
       "      <td>7.51</td>\n",
       "      <td>5.93</td>\n",
       "      <td>3.92</td>\n",
       "      <td>15.05</td>\n",
       "      <td>7.15</td>\n",
       "      <td>14.37</td>\n",
       "      <td>...</td>\n",
       "      <td>21.52</td>\n",
       "      <td>12.99</td>\n",
       "      <td>31.26</td>\n",
       "      <td>60.02</td>\n",
       "      <td>14.47</td>\n",
       "      <td>8.189</td>\n",
       "      <td>9.970</td>\n",
       "      <td>36.19</td>\n",
       "      <td>8.10</td>\n",
       "      <td>18.98</td>\n",
       "    </tr>\n",
       "    <tr>\n",
       "      <th>2018-05-18 00:00:00+00:00</th>\n",
       "      <td>10.96</td>\n",
       "      <td>27.15</td>\n",
       "      <td>21.60</td>\n",
       "      <td>3.68</td>\n",
       "      <td>7.51</td>\n",
       "      <td>6.31</td>\n",
       "      <td>3.98</td>\n",
       "      <td>15.06</td>\n",
       "      <td>7.22</td>\n",
       "      <td>14.21</td>\n",
       "      <td>...</td>\n",
       "      <td>21.59</td>\n",
       "      <td>13.05</td>\n",
       "      <td>31.56</td>\n",
       "      <td>60.02</td>\n",
       "      <td>15.01</td>\n",
       "      <td>8.280</td>\n",
       "      <td>9.970</td>\n",
       "      <td>36.38</td>\n",
       "      <td>8.20</td>\n",
       "      <td>19.10</td>\n",
       "    </tr>\n",
       "  </tbody>\n",
       "</table>\n",
       "<p>5 rows × 1534 columns</p>\n",
       "</div>"
      ],
      "text/plain": [
       "                           平安银行(000001)  万 科Ａ(000002)  国农科技(000004)  \\\n",
       "2018-05-14 00:00:00+00:00         11.18         27.94         21.45   \n",
       "2018-05-15 00:00:00+00:00         11.12         27.75         21.43   \n",
       "2018-05-16 00:00:00+00:00         10.90         27.23         22.09   \n",
       "2018-05-17 00:00:00+00:00         10.82         26.79         21.59   \n",
       "2018-05-18 00:00:00+00:00         10.96         27.15         21.60   \n",
       "\n",
       "                           世纪星源(000005)  深振业Ａ(000006)  神州高铁(000008)  \\\n",
       "2018-05-14 00:00:00+00:00          3.75          7.31          5.60   \n",
       "2018-05-15 00:00:00+00:00          3.72          7.43          5.78   \n",
       "2018-05-16 00:00:00+00:00          3.70          7.44          5.91   \n",
       "2018-05-17 00:00:00+00:00          3.68          7.51          5.93   \n",
       "2018-05-18 00:00:00+00:00          3.68          7.51          6.31   \n",
       "\n",
       "                           美丽生态(000010)  深物业A(000011)  南 玻Ａ(000012)  \\\n",
       "2018-05-14 00:00:00+00:00          3.70         14.88          7.24   \n",
       "2018-05-15 00:00:00+00:00          3.73         15.06          7.26   \n",
       "2018-05-16 00:00:00+00:00          3.92         14.91          7.14   \n",
       "2018-05-17 00:00:00+00:00          3.92         15.05          7.15   \n",
       "2018-05-18 00:00:00+00:00          3.98         15.06          7.22   \n",
       "\n",
       "                           沙河股份(000014)      ...        新华网(603888)  \\\n",
       "2018-05-14 00:00:00+00:00         14.25      ...              22.03   \n",
       "2018-05-15 00:00:00+00:00         14.41      ...              22.05   \n",
       "2018-05-16 00:00:00+00:00         14.10      ...              21.51   \n",
       "2018-05-17 00:00:00+00:00         14.37      ...              21.52   \n",
       "2018-05-18 00:00:00+00:00         14.21      ...              21.59   \n",
       "\n",
       "                           新澳股份(603889)  晨光文具(603899)  益丰药房(603939)  \\\n",
       "2018-05-14 00:00:00+00:00         12.93         29.90         60.02   \n",
       "2018-05-15 00:00:00+00:00         13.03         31.13         60.02   \n",
       "2018-05-16 00:00:00+00:00         13.02         31.04         60.02   \n",
       "2018-05-17 00:00:00+00:00         12.99         31.26         60.02   \n",
       "2018-05-18 00:00:00+00:00         13.05         31.56         60.02   \n",
       "\n",
       "                           哈森股份(603958)  银龙股份(603969)  国泰集团(603977)  \\\n",
       "2018-05-14 00:00:00+00:00         14.24         8.360        10.051   \n",
       "2018-05-15 00:00:00+00:00         14.44         8.450        10.214   \n",
       "2018-05-16 00:00:00+00:00         14.38         8.340        10.170   \n",
       "2018-05-17 00:00:00+00:00         14.47         8.189         9.970   \n",
       "2018-05-18 00:00:00+00:00         15.01         8.280         9.970   \n",
       "\n",
       "                           艾华集团(603989)  洛阳钼业(603993)  XD中新科(603996)  \n",
       "2018-05-14 00:00:00+00:00         36.99          8.29          17.22  \n",
       "2018-05-15 00:00:00+00:00         36.90          8.33          18.46  \n",
       "2018-05-16 00:00:00+00:00         36.85          8.18          19.04  \n",
       "2018-05-17 00:00:00+00:00         36.19          8.10          18.98  \n",
       "2018-05-18 00:00:00+00:00         36.38          8.20          19.10  \n",
       "\n",
       "[5 rows x 1534 columns]"
      ]
     },
     "execution_count": 6,
     "metadata": {},
     "output_type": "execute_result"
    }
   ],
   "source": [
    "asset_prices.tail()"
   ]
  },
  {
   "cell_type": "markdown",
   "metadata": {},
   "source": [
    "现在可以使用开源因子分析工具`Alphalens`来测试选择策略的质量。首先，使用`get_clean_factor_and_forward_returns`来联合因子和股价数据。该函数将我们的因子数据分类为分位数，并计算多个持有期的每种证券的远期回报。将因子数据分成两个分位数（上下半部分），并使用1，5分位数和10天的持有期间："
   ]
  },
  {
   "cell_type": "code",
   "execution_count": 7,
   "metadata": {
    "ExecuteTime": {
     "end_time": "2018-07-01T21:43:45.382684Z",
     "start_time": "2018-07-01T21:43:16.091062Z"
    }
   },
   "outputs": [
    {
     "name": "stdout",
     "output_type": "stream",
     "text": [
      "从因子数据中舍弃了1.4%的条目：其中未来收益率计算为1.4%，分箱阶段为0.0%(设置`max_loss=0`可以查看潜在抑制的异常)\n",
      "max_loss为35.0%，未超出: OK!\n"
     ]
    },
    {
     "data": {
      "text/html": [
       "<div>\n",
       "<style scoped>\n",
       "    .dataframe tbody tr th:only-of-type {\n",
       "        vertical-align: middle;\n",
       "    }\n",
       "\n",
       "    .dataframe tbody tr th {\n",
       "        vertical-align: top;\n",
       "    }\n",
       "\n",
       "    .dataframe thead th {\n",
       "        text-align: right;\n",
       "    }\n",
       "</style>\n",
       "<table border=\"1\" class=\"dataframe\">\n",
       "  <thead>\n",
       "    <tr style=\"text-align: right;\">\n",
       "      <th></th>\n",
       "      <th></th>\n",
       "      <th>1D</th>\n",
       "      <th>5D</th>\n",
       "      <th>10D</th>\n",
       "      <th>factor</th>\n",
       "      <th>factor_quantile</th>\n",
       "    </tr>\n",
       "    <tr>\n",
       "      <th>date</th>\n",
       "      <th>asset</th>\n",
       "      <th></th>\n",
       "      <th></th>\n",
       "      <th></th>\n",
       "      <th></th>\n",
       "      <th></th>\n",
       "    </tr>\n",
       "  </thead>\n",
       "  <tbody>\n",
       "    <tr>\n",
       "      <th rowspan=\"5\" valign=\"top\">2015-01-05 00:00:00+00:00</th>\n",
       "      <th>深物业A(000011)</th>\n",
       "      <td>-0.034683</td>\n",
       "      <td>-0.102014</td>\n",
       "      <td>-0.161412</td>\n",
       "      <td>0.001122</td>\n",
       "      <td>1</td>\n",
       "    </tr>\n",
       "    <tr>\n",
       "      <th>深中华A(000017)</th>\n",
       "      <td>0.012894</td>\n",
       "      <td>0.101719</td>\n",
       "      <td>0.050143</td>\n",
       "      <td>0.000000</td>\n",
       "      <td>1</td>\n",
       "    </tr>\n",
       "    <tr>\n",
       "      <th>深深宝Ａ(000019)</th>\n",
       "      <td>0.016645</td>\n",
       "      <td>-0.014085</td>\n",
       "      <td>0.005122</td>\n",
       "      <td>0.026008</td>\n",
       "      <td>2</td>\n",
       "    </tr>\n",
       "    <tr>\n",
       "      <th>深深房Ａ(000029)</th>\n",
       "      <td>-0.024162</td>\n",
       "      <td>-0.103984</td>\n",
       "      <td>-0.173738</td>\n",
       "      <td>0.029112</td>\n",
       "      <td>2</td>\n",
       "    </tr>\n",
       "    <tr>\n",
       "      <th>神州数码(000034)</th>\n",
       "      <td>0.010222</td>\n",
       "      <td>-0.072868</td>\n",
       "      <td>-0.096232</td>\n",
       "      <td>0.000000</td>\n",
       "      <td>1</td>\n",
       "    </tr>\n",
       "  </tbody>\n",
       "</table>\n",
       "</div>"
      ],
      "text/plain": [
       "                                              1D        5D       10D  \\\n",
       "date                      asset                                        \n",
       "2015-01-05 00:00:00+00:00 深物业A(000011) -0.034683 -0.102014 -0.161412   \n",
       "                          深中华A(000017)  0.012894  0.101719  0.050143   \n",
       "                          深深宝Ａ(000019)  0.016645 -0.014085  0.005122   \n",
       "                          深深房Ａ(000029) -0.024162 -0.103984 -0.173738   \n",
       "                          神州数码(000034)  0.010222 -0.072868 -0.096232   \n",
       "\n",
       "                                          factor  factor_quantile  \n",
       "date                      asset                                    \n",
       "2015-01-05 00:00:00+00:00 深物业A(000011)  0.001122                1  \n",
       "                          深中华A(000017)  0.000000                1  \n",
       "                          深深宝Ａ(000019)  0.026008                2  \n",
       "                          深深房Ａ(000029)  0.029112                2  \n",
       "                          神州数码(000034)  0.000000                1  "
      ]
     },
     "execution_count": 7,
     "metadata": {},
     "output_type": "execute_result"
    }
   ],
   "source": [
    "# Import Alphalens\n",
    "import alphalens as al\n",
    "\n",
    "# Get asset forward returns and quantile classification\n",
    "# based on sentiment scores\n",
    "factor_data = al.utils.get_clean_factor_and_forward_returns(\n",
    "    factor=pipeline_output['tdy'],\n",
    "    prices=asset_prices,\n",
    "    quantiles=2,\n",
    "    periods=(1,5,10),\n",
    ")\n",
    "\n",
    "# Display first 5 rows\n",
    "factor_data.head(5)"
   ]
  },
  {
   "cell_type": "markdown",
   "metadata": {},
   "source": [
    "利用这种格式的数据，我们可以使用`Alphalens`的几种分析和绘图工具。首先，看一下分位数在整个时期的平均收益率。我们的目标是建立一个多空策略，我们希望看到较低的分位数（1）具有负回报，而较高的分位数（2）具有正回报："
   ]
  },
  {
   "cell_type": "code",
   "execution_count": 8,
   "metadata": {
    "ExecuteTime": {
     "end_time": "2018-07-01T21:43:47.464812Z",
     "start_time": "2018-07-01T21:43:45.385202Z"
    }
   },
   "outputs": [
    {
     "data": {
      "image/png": "[encoded data removed]",
      "text/plain": [
       "<Figure size 1296x432 with 1 Axes>"
      ]
     },
     "metadata": {},
     "output_type": "display_data"
    }
   ],
   "source": [
    "# Calculate mean return by factor quantile\n",
    "mean_return_by_q, std_err_by_q = al.performance.mean_return_by_quantile(factor_data)\n",
    "\n",
    "# Plot mean returns by quantile and holding period\n",
    "# over evaluation time range\n",
    "al.plotting.plot_quantile_returns_bar(\n",
    "    mean_return_by_q.apply(\n",
    "        al.utils.rate_of_return,\n",
    "        axis=0,\n",
    "        args=('1D',)\n",
    "    )\n",
    ");"
   ]
  },
  {
   "cell_type": "markdown",
   "metadata": {},
   "source": [
    "还可以使用以下代码绘制5天持有期的多因素加权多空投资组合的累积收益率："
   ]
  },
  {
   "cell_type": "code",
   "execution_count": 9,
   "metadata": {
    "ExecuteTime": {
     "end_time": "2018-07-01T21:43:54.532581Z",
     "start_time": "2018-07-01T21:43:47.469937Z"
    }
   },
   "outputs": [
    {
     "data": {
      "image/png": "[encoded data removed]",
      "text/plain": [
       "<Figure size 1296x432 with 1 Axes>"
      ]
     },
     "metadata": {},
     "output_type": "display_data"
    }
   ],
   "source": [
    "# Calculate factor-weighted long-short portfolio returns\n",
    "ls_factor_returns = al.performance.factor_returns(factor_data)\n",
    "\n",
    "# Plot cumulative returns for 5 day holding period\n",
    "al.plotting.plot_cumulative_returns(ls_factor_returns['5D'], '5D');"
   ]
  },
  {
   "cell_type": "markdown",
   "metadata": {},
   "source": [
    "上面的图表显示了一个大的回撤期，而这种分析尚未考虑交易成本或市场影响。 这不是一个非常有前景的策略。 在这一点上，我们真的应该使用Alphalens进行更深入的分析，然后重复迭代我们的策略构想。但为了本教程的缘故，让我们按照原样继续我们的策略。\n",
    "定义并测试了一个策略之后，让我们用它来构建和测试一个多头空头股票算法。教程的其余部分将涵盖算法API，并将在交互式开发环境（IDE）中进行。"
   ]
  }
 ],
 "metadata": {
  "kernelspec": {
   "display_name": "zipline23",
   "language": "python",
   "name": "zipline23"
  },
  "language_info": {
   "codemirror_mode": {
    "name": "ipython",
    "version": 3
   },
   "file_extension": ".py",
   "mimetype": "text/x-python",
   "name": "python",
   "nbconvert_exporter": "python",
   "pygments_lexer": "ipython3",
   "version": "3.6.5"
  },
  "toc": {
   "base_numbering": 1,
   "nav_menu": {},
   "number_sections": true,
   "sideBar": true,
   "skip_h1_title": false,
   "title_cell": "Table of Contents",
   "title_sidebar": "Contents",
   "toc_cell": false,
   "toc_position": {},
   "toc_section_display": true,
   "toc_window_display": false
  }
 },
 "nbformat": 4,
 "nbformat_minor": 2
}
