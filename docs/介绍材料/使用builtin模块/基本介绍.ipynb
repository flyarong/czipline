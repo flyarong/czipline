{
 "cells": [
  {
   "cell_type": "markdown",
   "metadata": {},
   "source": [
    "## `builtin`"
   ]
  },
  {
   "cell_type": "markdown",
   "metadata": {},
   "source": [
    "除`zipline`标准因子、过滤器、分类器外，增加`builtin`模块，将基础数据与标准`pipeline`整合，修改或模拟`quantopian`IDE功能。主要包括以下部分：\n",
    "+ 自定义因子\n",
    "+ 自定义过滤器\n",
    "+ 自定义分类器"
   ]
  },
  {
   "cell_type": "code",
   "execution_count": 1,
   "metadata": {
    "ExecuteTime": {
     "end_time": "2018-07-01T19:45:13.803088Z",
     "start_time": "2018-07-01T19:45:08.629244Z"
    }
   },
   "outputs": [],
   "source": [
    "from zipline.pipeline.fundamentals.reader import Fundamentals\n",
    "from zipline.pipeline.builtin import TradingDays,QTradableStocks\n",
    "from zipline.research import run_pipeline, select_output_by\n",
    "from zipline.pipeline import Pipeline\n",
    "from zipline.pipeline.data import USEquityPricing\n",
    "from zipline.pipeline.factors import SimpleMovingAverage,Returns"
   ]
  },
  {
   "cell_type": "markdown",
   "metadata": {},
   "source": [
    "### 因子"
   ]
  },
  {
   "cell_type": "markdown",
   "metadata": {},
   "source": [
    "#### `SuccessiveYZ`\n",
    "连续一字板数量（涨停、跌停）\n",
    "\n",
    "**注意**统计连续一字，而非期间一字总数"
   ]
  },
  {
   "cell_type": "code",
   "execution_count": 2,
   "metadata": {
    "ExecuteTime": {
     "end_time": "2018-07-01T19:45:16.942242Z",
     "start_time": "2018-07-01T19:45:13.806020Z"
    }
   },
   "outputs": [
    {
     "data": {
      "text/html": [
       "<div>\n",
       "<style scoped>\n",
       "    .dataframe tbody tr th:only-of-type {\n",
       "        vertical-align: middle;\n",
       "    }\n",
       "\n",
       "    .dataframe tbody tr th {\n",
       "        vertical-align: top;\n",
       "    }\n",
       "\n",
       "    .dataframe thead th {\n",
       "        text-align: right;\n",
       "    }\n",
       "</style>\n",
       "<table border=\"1\" class=\"dataframe\">\n",
       "  <thead>\n",
       "    <tr style=\"text-align: right;\">\n",
       "      <th></th>\n",
       "      <th></th>\n",
       "      <th>期间涨幅</th>\n",
       "      <th>涨停个数</th>\n",
       "      <th>跌停个数</th>\n",
       "    </tr>\n",
       "  </thead>\n",
       "  <tbody>\n",
       "    <tr>\n",
       "      <th rowspan=\"2\" valign=\"top\">2018-04-24 00:00:00+00:00</th>\n",
       "      <th>仙鹤股份(603733)</th>\n",
       "      <td>NaN</td>\n",
       "      <td>1.0</td>\n",
       "      <td>1.0</td>\n",
       "    </tr>\n",
       "    <tr>\n",
       "      <th>鼎胜新材(603876)</th>\n",
       "      <td>NaN</td>\n",
       "      <td>1.0</td>\n",
       "      <td>1.0</td>\n",
       "    </tr>\n",
       "    <tr>\n",
       "      <th rowspan=\"2\" valign=\"top\">2018-04-25 00:00:00+00:00</th>\n",
       "      <th>仙鹤股份(603733)</th>\n",
       "      <td>NaN</td>\n",
       "      <td>1.0</td>\n",
       "      <td>1.0</td>\n",
       "    </tr>\n",
       "    <tr>\n",
       "      <th>鼎胜新材(603876)</th>\n",
       "      <td>NaN</td>\n",
       "      <td>1.0</td>\n",
       "      <td>1.0</td>\n",
       "    </tr>\n",
       "    <tr>\n",
       "      <th rowspan=\"2\" valign=\"top\">2018-04-26 00:00:00+00:00</th>\n",
       "      <th>仙鹤股份(603733)</th>\n",
       "      <td>NaN</td>\n",
       "      <td>1.0</td>\n",
       "      <td>1.0</td>\n",
       "    </tr>\n",
       "    <tr>\n",
       "      <th>鼎胜新材(603876)</th>\n",
       "      <td>NaN</td>\n",
       "      <td>1.0</td>\n",
       "      <td>1.0</td>\n",
       "    </tr>\n",
       "    <tr>\n",
       "      <th rowspan=\"2\" valign=\"top\">2018-04-27 00:00:00+00:00</th>\n",
       "      <th>仙鹤股份(603733)</th>\n",
       "      <td>NaN</td>\n",
       "      <td>1.0</td>\n",
       "      <td>1.0</td>\n",
       "    </tr>\n",
       "    <tr>\n",
       "      <th>鼎胜新材(603876)</th>\n",
       "      <td>NaN</td>\n",
       "      <td>1.0</td>\n",
       "      <td>1.0</td>\n",
       "    </tr>\n",
       "  </tbody>\n",
       "</table>\n",
       "</div>"
      ],
      "text/plain": [
       "                                        期间涨幅  涨停个数  跌停个数\n",
       "2018-04-24 00:00:00+00:00 仙鹤股份(603733)   NaN   1.0   1.0\n",
       "                          鼎胜新材(603876)   NaN   1.0   1.0\n",
       "2018-04-25 00:00:00+00:00 仙鹤股份(603733)   NaN   1.0   1.0\n",
       "                          鼎胜新材(603876)   NaN   1.0   1.0\n",
       "2018-04-26 00:00:00+00:00 仙鹤股份(603733)   NaN   1.0   1.0\n",
       "                          鼎胜新材(603876)   NaN   1.0   1.0\n",
       "2018-04-27 00:00:00+00:00 仙鹤股份(603733)   NaN   1.0   1.0\n",
       "                          鼎胜新材(603876)   NaN   1.0   1.0"
      ]
     },
     "execution_count": 2,
     "metadata": {},
     "output_type": "execute_result"
    }
   ],
   "source": [
    "from zipline.pipeline.builtin import SuccessiveYZ\n",
    "\n",
    "\n",
    "def make_pipeline():\n",
    "    window_length = 100\n",
    "    yzzt, yzdt = SuccessiveYZ()\n",
    "    return Pipeline(columns={\n",
    "        '期间涨幅': Returns(window_length=window_length),\n",
    "        '涨停个数': yzzt,\n",
    "        '跌停个数': yzdt\n",
    "    })\n",
    "\n",
    "\n",
    "result = run_pipeline(make_pipeline(), '2018-4-24', '2018-4-27')\n",
    "select_output_by(result, assets=['603876', '603733'])"
   ]
  },
  {
   "cell_type": "code",
   "execution_count": 3,
   "metadata": {
    "ExecuteTime": {
     "end_time": "2018-07-01T19:45:19.106759Z",
     "start_time": "2018-07-01T19:45:16.945852Z"
    }
   },
   "outputs": [
    {
     "data": {
      "text/html": [
       "<div>\n",
       "<style scoped>\n",
       "    .dataframe tbody tr th:only-of-type {\n",
       "        vertical-align: middle;\n",
       "    }\n",
       "\n",
       "    .dataframe tbody tr th {\n",
       "        vertical-align: top;\n",
       "    }\n",
       "\n",
       "    .dataframe thead th {\n",
       "        text-align: right;\n",
       "    }\n",
       "</style>\n",
       "<table border=\"1\" class=\"dataframe\">\n",
       "  <thead>\n",
       "    <tr style=\"text-align: right;\">\n",
       "      <th></th>\n",
       "      <th></th>\n",
       "      <th>期间涨幅</th>\n",
       "      <th>涨停个数</th>\n",
       "      <th>跌停个数</th>\n",
       "    </tr>\n",
       "  </thead>\n",
       "  <tbody>\n",
       "    <tr>\n",
       "      <th rowspan=\"3\" valign=\"top\">2018-02-05 00:00:00+00:00</th>\n",
       "      <th>*ST华泽(000693)</th>\n",
       "      <td>0.000000</td>\n",
       "      <td>1.0</td>\n",
       "      <td>1.0</td>\n",
       "    </tr>\n",
       "    <tr>\n",
       "      <th>*ST保千(600074)</th>\n",
       "      <td>-0.723773</td>\n",
       "      <td>1.0</td>\n",
       "      <td>1.0</td>\n",
       "    </tr>\n",
       "    <tr>\n",
       "      <th>*ST船舶(600150)</th>\n",
       "      <td>-0.004439</td>\n",
       "      <td>1.0</td>\n",
       "      <td>1.0</td>\n",
       "    </tr>\n",
       "    <tr>\n",
       "      <th rowspan=\"3\" valign=\"top\">2018-02-06 00:00:00+00:00</th>\n",
       "      <th>*ST华泽(000693)</th>\n",
       "      <td>0.000000</td>\n",
       "      <td>1.0</td>\n",
       "      <td>1.0</td>\n",
       "    </tr>\n",
       "    <tr>\n",
       "      <th>*ST保千(600074)</th>\n",
       "      <td>-0.737247</td>\n",
       "      <td>1.0</td>\n",
       "      <td>1.0</td>\n",
       "    </tr>\n",
       "    <tr>\n",
       "      <th>*ST船舶(600150)</th>\n",
       "      <td>-0.010826</td>\n",
       "      <td>1.0</td>\n",
       "      <td>1.0</td>\n",
       "    </tr>\n",
       "    <tr>\n",
       "      <th rowspan=\"3\" valign=\"top\">2018-02-07 00:00:00+00:00</th>\n",
       "      <th>*ST华泽(000693)</th>\n",
       "      <td>0.000000</td>\n",
       "      <td>1.0</td>\n",
       "      <td>1.0</td>\n",
       "    </tr>\n",
       "    <tr>\n",
       "      <th>*ST保千(600074)</th>\n",
       "      <td>-0.750722</td>\n",
       "      <td>1.0</td>\n",
       "      <td>1.0</td>\n",
       "    </tr>\n",
       "    <tr>\n",
       "      <th>*ST船舶(600150)</th>\n",
       "      <td>-0.010826</td>\n",
       "      <td>1.0</td>\n",
       "      <td>1.0</td>\n",
       "    </tr>\n",
       "    <tr>\n",
       "      <th rowspan=\"3\" valign=\"top\">2018-02-08 00:00:00+00:00</th>\n",
       "      <th>*ST华泽(000693)</th>\n",
       "      <td>0.000000</td>\n",
       "      <td>1.0</td>\n",
       "      <td>1.0</td>\n",
       "    </tr>\n",
       "    <tr>\n",
       "      <th>*ST保千(600074)</th>\n",
       "      <td>-0.763234</td>\n",
       "      <td>1.0</td>\n",
       "      <td>1.0</td>\n",
       "    </tr>\n",
       "    <tr>\n",
       "      <th>*ST船舶(600150)</th>\n",
       "      <td>-0.014776</td>\n",
       "      <td>1.0</td>\n",
       "      <td>1.0</td>\n",
       "    </tr>\n",
       "    <tr>\n",
       "      <th rowspan=\"3\" valign=\"top\">2018-02-09 00:00:00+00:00</th>\n",
       "      <th>*ST华泽(000693)</th>\n",
       "      <td>0.000000</td>\n",
       "      <td>1.0</td>\n",
       "      <td>1.0</td>\n",
       "    </tr>\n",
       "    <tr>\n",
       "      <th>*ST保千(600074)</th>\n",
       "      <td>-0.751684</td>\n",
       "      <td>1.0</td>\n",
       "      <td>1.0</td>\n",
       "    </tr>\n",
       "    <tr>\n",
       "      <th>*ST船舶(600150)</th>\n",
       "      <td>0.003253</td>\n",
       "      <td>1.0</td>\n",
       "      <td>1.0</td>\n",
       "    </tr>\n",
       "  </tbody>\n",
       "</table>\n",
       "</div>"
      ],
      "text/plain": [
       "                                             期间涨幅  涨停个数  跌停个数\n",
       "2018-02-05 00:00:00+00:00 *ST华泽(000693)  0.000000   1.0   1.0\n",
       "                          *ST保千(600074) -0.723773   1.0   1.0\n",
       "                          *ST船舶(600150) -0.004439   1.0   1.0\n",
       "2018-02-06 00:00:00+00:00 *ST华泽(000693)  0.000000   1.0   1.0\n",
       "                          *ST保千(600074) -0.737247   1.0   1.0\n",
       "                          *ST船舶(600150) -0.010826   1.0   1.0\n",
       "2018-02-07 00:00:00+00:00 *ST华泽(000693)  0.000000   1.0   1.0\n",
       "                          *ST保千(600074) -0.750722   1.0   1.0\n",
       "                          *ST船舶(600150) -0.010826   1.0   1.0\n",
       "2018-02-08 00:00:00+00:00 *ST华泽(000693)  0.000000   1.0   1.0\n",
       "                          *ST保千(600074) -0.763234   1.0   1.0\n",
       "                          *ST船舶(600150) -0.014776   1.0   1.0\n",
       "2018-02-09 00:00:00+00:00 *ST华泽(000693)  0.000000   1.0   1.0\n",
       "                          *ST保千(600074) -0.751684   1.0   1.0\n",
       "                          *ST船舶(600150)  0.003253   1.0   1.0"
      ]
     },
     "execution_count": 3,
     "metadata": {},
     "output_type": "execute_result"
    }
   ],
   "source": [
    "result = run_pipeline(make_pipeline(), '2018-2-5', '2018-2-9')\n",
    "select_output_by(result, assets=['600150', '000693', '600074'])"
   ]
  },
  {
   "cell_type": "markdown",
   "metadata": {},
   "source": [
    "#### `NDays` 上市天数"
   ]
  },
  {
   "cell_type": "code",
   "execution_count": 4,
   "metadata": {
    "ExecuteTime": {
     "end_time": "2018-07-01T19:45:19.116139Z",
     "start_time": "2018-07-01T19:45:19.111068Z"
    }
   },
   "outputs": [],
   "source": [
    "from zipline.pipeline.builtin import NDays"
   ]
  },
  {
   "cell_type": "code",
   "execution_count": 5,
   "metadata": {
    "ExecuteTime": {
     "end_time": "2018-07-01T19:45:19.127061Z",
     "start_time": "2018-07-01T19:45:19.119624Z"
    }
   },
   "outputs": [],
   "source": [
    "def make_pipeline():\n",
    "    ndays = NDays()\n",
    "    return Pipeline(\n",
    "        columns={\n",
    "            '上市天数': ndays,\n",
    "        }\n",
    "    )"
   ]
  },
  {
   "cell_type": "code",
   "execution_count": 6,
   "metadata": {
    "ExecuteTime": {
     "end_time": "2018-07-01T19:45:21.106414Z",
     "start_time": "2018-07-01T19:45:19.130247Z"
    }
   },
   "outputs": [],
   "source": [
    "result = run_pipeline(make_pipeline(), '2018-1-20', '2018-1-26')"
   ]
  },
  {
   "cell_type": "code",
   "execution_count": 7,
   "metadata": {
    "ExecuteTime": {
     "end_time": "2018-07-01T19:45:21.257740Z",
     "start_time": "2018-07-01T19:45:21.110679Z"
    }
   },
   "outputs": [
    {
     "data": {
      "text/html": [
       "<div>\n",
       "<style scoped>\n",
       "    .dataframe tbody tr th:only-of-type {\n",
       "        vertical-align: middle;\n",
       "    }\n",
       "\n",
       "    .dataframe tbody tr th {\n",
       "        vertical-align: top;\n",
       "    }\n",
       "\n",
       "    .dataframe thead th {\n",
       "        text-align: right;\n",
       "    }\n",
       "</style>\n",
       "<table border=\"1\" class=\"dataframe\">\n",
       "  <thead>\n",
       "    <tr style=\"text-align: right;\">\n",
       "      <th></th>\n",
       "      <th></th>\n",
       "      <th>上市天数</th>\n",
       "    </tr>\n",
       "  </thead>\n",
       "  <tbody>\n",
       "    <tr>\n",
       "      <th rowspan=\"2\" valign=\"top\">2018-01-22 00:00:00+00:00</th>\n",
       "      <th>中源协和(600645)</th>\n",
       "      <td>9029.0</td>\n",
       "    </tr>\n",
       "    <tr>\n",
       "      <th>横店影视(603103)</th>\n",
       "      <td>102.0</td>\n",
       "    </tr>\n",
       "    <tr>\n",
       "      <th rowspan=\"2\" valign=\"top\">2018-01-23 00:00:00+00:00</th>\n",
       "      <th>中源协和(600645)</th>\n",
       "      <td>9030.0</td>\n",
       "    </tr>\n",
       "    <tr>\n",
       "      <th>横店影视(603103)</th>\n",
       "      <td>103.0</td>\n",
       "    </tr>\n",
       "    <tr>\n",
       "      <th rowspan=\"2\" valign=\"top\">2018-01-24 00:00:00+00:00</th>\n",
       "      <th>中源协和(600645)</th>\n",
       "      <td>9031.0</td>\n",
       "    </tr>\n",
       "    <tr>\n",
       "      <th>横店影视(603103)</th>\n",
       "      <td>104.0</td>\n",
       "    </tr>\n",
       "    <tr>\n",
       "      <th rowspan=\"2\" valign=\"top\">2018-01-25 00:00:00+00:00</th>\n",
       "      <th>中源协和(600645)</th>\n",
       "      <td>9032.0</td>\n",
       "    </tr>\n",
       "    <tr>\n",
       "      <th>横店影视(603103)</th>\n",
       "      <td>105.0</td>\n",
       "    </tr>\n",
       "    <tr>\n",
       "      <th rowspan=\"2\" valign=\"top\">2018-01-26 00:00:00+00:00</th>\n",
       "      <th>中源协和(600645)</th>\n",
       "      <td>9033.0</td>\n",
       "    </tr>\n",
       "    <tr>\n",
       "      <th>横店影视(603103)</th>\n",
       "      <td>106.0</td>\n",
       "    </tr>\n",
       "  </tbody>\n",
       "</table>\n",
       "</div>"
      ],
      "text/plain": [
       "                                          上市天数\n",
       "2018-01-22 00:00:00+00:00 中源协和(600645)  9029.0\n",
       "                          横店影视(603103)   102.0\n",
       "2018-01-23 00:00:00+00:00 中源协和(600645)  9030.0\n",
       "                          横店影视(603103)   103.0\n",
       "2018-01-24 00:00:00+00:00 中源协和(600645)  9031.0\n",
       "                          横店影视(603103)   104.0\n",
       "2018-01-25 00:00:00+00:00 中源协和(600645)  9032.0\n",
       "                          横店影视(603103)   105.0\n",
       "2018-01-26 00:00:00+00:00 中源协和(600645)  9033.0\n",
       "                          横店影视(603103)   106.0"
      ]
     },
     "execution_count": 7,
     "metadata": {},
     "output_type": "execute_result"
    }
   ],
   "source": [
    "select_output_by(result,assets=['600645','603103','603214','603876'])"
   ]
  },
  {
   "cell_type": "code",
   "execution_count": 8,
   "metadata": {
    "ExecuteTime": {
     "end_time": "2018-07-01T19:45:21.267075Z",
     "start_time": "2018-07-01T19:45:21.260905Z"
    }
   },
   "outputs": [],
   "source": [
    "from zipline.pipeline.builtin import TradingDays"
   ]
  },
  {
   "cell_type": "markdown",
   "metadata": {},
   "source": [
    "#### `TradingDays` 期间交易天数\n",
    "+ 当天成交量大于0,有效交易\n",
    "+ 需要指定`window_length`"
   ]
  },
  {
   "cell_type": "code",
   "execution_count": 9,
   "metadata": {
    "ExecuteTime": {
     "end_time": "2018-07-01T19:45:21.274403Z",
     "start_time": "2018-07-01T19:45:21.269665Z"
    }
   },
   "outputs": [],
   "source": [
    "def make_pipeline():\n",
    "    t20 = TradingDays(window_length=20)\n",
    "    t200 = TradingDays(window_length=200)\n",
    "    return Pipeline(\n",
    "        columns={\n",
    "            '20天内有效交易天数': t20,\n",
    "            '200天内有效交易天数': t200,           \n",
    "        }, \n",
    "    )"
   ]
  },
  {
   "cell_type": "code",
   "execution_count": 10,
   "metadata": {
    "ExecuteTime": {
     "end_time": "2018-07-01T19:45:21.722296Z",
     "start_time": "2018-07-01T19:45:21.278711Z"
    }
   },
   "outputs": [],
   "source": [
    "result = run_pipeline(make_pipeline(), '2018-4-20', '2018-4-26')"
   ]
  },
  {
   "cell_type": "code",
   "execution_count": 11,
   "metadata": {
    "ExecuteTime": {
     "end_time": "2018-07-01T19:45:21.983143Z",
     "start_time": "2018-07-01T19:45:21.724855Z"
    }
   },
   "outputs": [
    {
     "data": {
      "text/html": [
       "<div>\n",
       "<style scoped>\n",
       "    .dataframe tbody tr th:only-of-type {\n",
       "        vertical-align: middle;\n",
       "    }\n",
       "\n",
       "    .dataframe tbody tr th {\n",
       "        vertical-align: top;\n",
       "    }\n",
       "\n",
       "    .dataframe thead th {\n",
       "        text-align: right;\n",
       "    }\n",
       "</style>\n",
       "<table border=\"1\" class=\"dataframe\">\n",
       "  <thead>\n",
       "    <tr style=\"text-align: right;\">\n",
       "      <th></th>\n",
       "      <th></th>\n",
       "      <th>20天内有效交易天数</th>\n",
       "      <th>200天内有效交易天数</th>\n",
       "    </tr>\n",
       "  </thead>\n",
       "  <tbody>\n",
       "    <tr>\n",
       "      <th rowspan=\"3\" valign=\"top\">2018-04-23 00:00:00+00:00</th>\n",
       "      <th>平安银行(000001)</th>\n",
       "      <td>20.0</td>\n",
       "      <td>200.0</td>\n",
       "    </tr>\n",
       "    <tr>\n",
       "      <th>康欣新材(600076)</th>\n",
       "      <td>0.0</td>\n",
       "      <td>150.0</td>\n",
       "    </tr>\n",
       "    <tr>\n",
       "      <th>中源协和(600645)</th>\n",
       "      <td>20.0</td>\n",
       "      <td>127.0</td>\n",
       "    </tr>\n",
       "    <tr>\n",
       "      <th rowspan=\"3\" valign=\"top\">2018-04-24 00:00:00+00:00</th>\n",
       "      <th>平安银行(000001)</th>\n",
       "      <td>20.0</td>\n",
       "      <td>200.0</td>\n",
       "    </tr>\n",
       "    <tr>\n",
       "      <th>康欣新材(600076)</th>\n",
       "      <td>0.0</td>\n",
       "      <td>149.0</td>\n",
       "    </tr>\n",
       "    <tr>\n",
       "      <th>中源协和(600645)</th>\n",
       "      <td>20.0</td>\n",
       "      <td>127.0</td>\n",
       "    </tr>\n",
       "  </tbody>\n",
       "</table>\n",
       "</div>"
      ],
      "text/plain": [
       "                                        20天内有效交易天数  200天内有效交易天数\n",
       "2018-04-23 00:00:00+00:00 平安银行(000001)        20.0        200.0\n",
       "                          康欣新材(600076)         0.0        150.0\n",
       "                          中源协和(600645)        20.0        127.0\n",
       "2018-04-24 00:00:00+00:00 平安银行(000001)        20.0        200.0\n",
       "                          康欣新材(600076)         0.0        149.0\n",
       "                          中源协和(600645)        20.0        127.0"
      ]
     },
     "execution_count": 11,
     "metadata": {},
     "output_type": "execute_result"
    }
   ],
   "source": [
    "select_output_by(result,'2018-04-23','2018-04-24',assets=['000001','600645','600076'])"
   ]
  },
  {
   "cell_type": "markdown",
   "metadata": {},
   "source": [
    "+ 600076期间停牌三个月，20日内无交易，但200天内存在交易\n",
    "+ 600645在200天内有停牌，有效成交率不足90%\n",
    "+ 000001每天正常交易"
   ]
  },
  {
   "cell_type": "markdown",
   "metadata": {},
   "source": [
    "#### `SuccessiveSuspensionDays`\n",
    "连续停牌天数"
   ]
  },
  {
   "cell_type": "code",
   "execution_count": 12,
   "metadata": {
    "ExecuteTime": {
     "end_time": "2018-07-01T19:45:30.757751Z",
     "start_time": "2018-07-01T19:45:21.985465Z"
    }
   },
   "outputs": [
    {
     "data": {
      "text/html": [
       "<div>\n",
       "<style scoped>\n",
       "    .dataframe tbody tr th:only-of-type {\n",
       "        vertical-align: middle;\n",
       "    }\n",
       "\n",
       "    .dataframe tbody tr th {\n",
       "        vertical-align: top;\n",
       "    }\n",
       "\n",
       "    .dataframe thead th {\n",
       "        text-align: right;\n",
       "    }\n",
       "</style>\n",
       "<table border=\"1\" class=\"dataframe\">\n",
       "  <thead>\n",
       "    <tr style=\"text-align: right;\">\n",
       "      <th></th>\n",
       "      <th></th>\n",
       "      <th>90天内停牌天数</th>\n",
       "      <th>成交量</th>\n",
       "    </tr>\n",
       "  </thead>\n",
       "  <tbody>\n",
       "    <tr>\n",
       "      <th rowspan=\"3\" valign=\"top\">2018-04-23 00:00:00+00:00</th>\n",
       "      <th>平安银行(000001)</th>\n",
       "      <td>0.0</td>\n",
       "      <td>95860000.0</td>\n",
       "    </tr>\n",
       "    <tr>\n",
       "      <th>康欣新材(600076)</th>\n",
       "      <td>50.0</td>\n",
       "      <td>0.0</td>\n",
       "    </tr>\n",
       "    <tr>\n",
       "      <th>中源协和(600645)</th>\n",
       "      <td>31.0</td>\n",
       "      <td>6070000.0</td>\n",
       "    </tr>\n",
       "    <tr>\n",
       "      <th rowspan=\"3\" valign=\"top\">2018-04-24 00:00:00+00:00</th>\n",
       "      <th>平安银行(000001)</th>\n",
       "      <td>0.0</td>\n",
       "      <td>107020000.0</td>\n",
       "    </tr>\n",
       "    <tr>\n",
       "      <th>康欣新材(600076)</th>\n",
       "      <td>51.0</td>\n",
       "      <td>0.0</td>\n",
       "    </tr>\n",
       "    <tr>\n",
       "      <th>中源协和(600645)</th>\n",
       "      <td>30.0</td>\n",
       "      <td>4820000.0</td>\n",
       "    </tr>\n",
       "  </tbody>\n",
       "</table>\n",
       "</div>"
      ],
      "text/plain": [
       "                                        90天内停牌天数          成交量\n",
       "2018-04-23 00:00:00+00:00 平安银行(000001)       0.0   95860000.0\n",
       "                          康欣新材(600076)      50.0          0.0\n",
       "                          中源协和(600645)      31.0    6070000.0\n",
       "2018-04-24 00:00:00+00:00 平安银行(000001)       0.0  107020000.0\n",
       "                          康欣新材(600076)      51.0          0.0\n",
       "                          中源协和(600645)      30.0    4820000.0"
      ]
     },
     "execution_count": 12,
     "metadata": {},
     "output_type": "execute_result"
    }
   ],
   "source": [
    "from zipline.pipeline.builtin import SuccessiveSuspensionDays\n",
    "\n",
    "def make_pipeline():\n",
    "    days_90 = SuccessiveSuspensionDays(window_length=90, include=True)\n",
    "    return Pipeline(\n",
    "        columns={\n",
    "            '90天内停牌天数': days_90,\n",
    "            '成交量': USEquityPricing.volume.latest,           \n",
    "        }, \n",
    "    )\n",
    "\n",
    "result = run_pipeline(make_pipeline(), '2018-1-1', '2018-4-27')\n",
    "select_output_by(result,'2018-04-23','2018-04-24',assets=['000001','600645','600076'])"
   ]
  },
  {
   "cell_type": "markdown",
   "metadata": {},
   "source": [
    "### 过滤器"
   ]
  },
  {
   "cell_type": "markdown",
   "metadata": {},
   "source": [
    "#### `IsST`\n",
    "+ 当前是否为ST状态"
   ]
  },
  {
   "cell_type": "code",
   "execution_count": 13,
   "metadata": {
    "ExecuteTime": {
     "end_time": "2018-07-01T19:45:30.771302Z",
     "start_time": "2018-07-01T19:45:30.761075Z"
    }
   },
   "outputs": [],
   "source": [
    "from zipline.pipeline.builtin import IsST"
   ]
  },
  {
   "cell_type": "code",
   "execution_count": 14,
   "metadata": {
    "ExecuteTime": {
     "end_time": "2018-07-01T19:45:30.780946Z",
     "start_time": "2018-07-01T19:45:30.776043Z"
    }
   },
   "outputs": [],
   "source": [
    "def make_pipeline():\n",
    "    is_st = IsST()\n",
    "    # 用于mask参数，非st计算结果为NaN\n",
    "    ma20 = SimpleMovingAverage(\n",
    "        inputs=[USEquityPricing.close], mask=is_st, window_length=200)\n",
    "    return Pipeline(columns={\n",
    "        '平均收盘': ma20,\n",
    "    })"
   ]
  },
  {
   "cell_type": "code",
   "execution_count": 15,
   "metadata": {
    "ExecuteTime": {
     "end_time": "2018-07-01T19:45:31.915390Z",
     "start_time": "2018-07-01T19:45:30.784539Z"
    }
   },
   "outputs": [],
   "source": [
    "result = run_pipeline(make_pipeline(), '2018-4-20', '2018-4-26')"
   ]
  },
  {
   "cell_type": "code",
   "execution_count": 16,
   "metadata": {
    "ExecuteTime": {
     "end_time": "2018-07-01T19:45:32.045548Z",
     "start_time": "2018-07-01T19:45:31.917832Z"
    }
   },
   "outputs": [
    {
     "data": {
      "text/html": [
       "<div>\n",
       "<style scoped>\n",
       "    .dataframe tbody tr th:only-of-type {\n",
       "        vertical-align: middle;\n",
       "    }\n",
       "\n",
       "    .dataframe tbody tr th {\n",
       "        vertical-align: top;\n",
       "    }\n",
       "\n",
       "    .dataframe thead th {\n",
       "        text-align: right;\n",
       "    }\n",
       "</style>\n",
       "<table border=\"1\" class=\"dataframe\">\n",
       "  <thead>\n",
       "    <tr style=\"text-align: right;\">\n",
       "      <th></th>\n",
       "      <th></th>\n",
       "      <th>平均收盘</th>\n",
       "    </tr>\n",
       "  </thead>\n",
       "  <tbody>\n",
       "    <tr>\n",
       "      <th rowspan=\"3\" valign=\"top\">2018-04-23 00:00:00+00:00</th>\n",
       "      <th>康欣新材(600076)</th>\n",
       "      <td>NaN</td>\n",
       "    </tr>\n",
       "    <tr>\n",
       "      <th>*ST安泰(600408)</th>\n",
       "      <td>NaN</td>\n",
       "    </tr>\n",
       "    <tr>\n",
       "      <th>中源协和(600645)</th>\n",
       "      <td>25.04455</td>\n",
       "    </tr>\n",
       "    <tr>\n",
       "      <th rowspan=\"3\" valign=\"top\">2018-04-24 00:00:00+00:00</th>\n",
       "      <th>康欣新材(600076)</th>\n",
       "      <td>NaN</td>\n",
       "    </tr>\n",
       "    <tr>\n",
       "      <th>*ST安泰(600408)</th>\n",
       "      <td>NaN</td>\n",
       "    </tr>\n",
       "    <tr>\n",
       "      <th>中源协和(600645)</th>\n",
       "      <td>25.04640</td>\n",
       "    </tr>\n",
       "    <tr>\n",
       "      <th rowspan=\"3\" valign=\"top\">2018-04-25 00:00:00+00:00</th>\n",
       "      <th>康欣新材(600076)</th>\n",
       "      <td>NaN</td>\n",
       "    </tr>\n",
       "    <tr>\n",
       "      <th>*ST安泰(600408)</th>\n",
       "      <td>NaN</td>\n",
       "    </tr>\n",
       "    <tr>\n",
       "      <th>中源协和(600645)</th>\n",
       "      <td>25.04905</td>\n",
       "    </tr>\n",
       "    <tr>\n",
       "      <th rowspan=\"3\" valign=\"top\">2018-04-26 00:00:00+00:00</th>\n",
       "      <th>康欣新材(600076)</th>\n",
       "      <td>NaN</td>\n",
       "    </tr>\n",
       "    <tr>\n",
       "      <th>*ST安泰(600408)</th>\n",
       "      <td>NaN</td>\n",
       "    </tr>\n",
       "    <tr>\n",
       "      <th>中源协和(600645)</th>\n",
       "      <td>25.05145</td>\n",
       "    </tr>\n",
       "  </tbody>\n",
       "</table>\n",
       "</div>"
      ],
      "text/plain": [
       "                                             平均收盘\n",
       "2018-04-23 00:00:00+00:00 康欣新材(600076)        NaN\n",
       "                          *ST安泰(600408)       NaN\n",
       "                          中源协和(600645)   25.04455\n",
       "2018-04-24 00:00:00+00:00 康欣新材(600076)        NaN\n",
       "                          *ST安泰(600408)       NaN\n",
       "                          中源协和(600645)   25.04640\n",
       "2018-04-25 00:00:00+00:00 康欣新材(600076)        NaN\n",
       "                          *ST安泰(600408)       NaN\n",
       "                          中源协和(600645)   25.04905\n",
       "2018-04-26 00:00:00+00:00 康欣新材(600076)        NaN\n",
       "                          *ST安泰(600408)       NaN\n",
       "                          中源协和(600645)   25.05145"
      ]
     },
     "execution_count": 16,
     "metadata": {},
     "output_type": "execute_result"
    }
   ],
   "source": [
    "select_output_by(\n",
    "    result, '2018-04-23', assets=['600408', '600645', '600076'])"
   ]
  },
  {
   "cell_type": "code",
   "execution_count": 17,
   "metadata": {
    "ExecuteTime": {
     "end_time": "2018-07-01T19:45:32.059705Z",
     "start_time": "2018-07-01T19:45:32.048521Z"
    }
   },
   "outputs": [],
   "source": [
    "def make_pipeline():\n",
    "    is_st = IsST()\n",
    "    ma20 = SimpleMovingAverage(\n",
    "        inputs=[USEquityPricing.close], window_length=20)\n",
    "    # 用于screen参数，非st不会显示\n",
    "    return Pipeline(\n",
    "        columns={\n",
    "            '平均收盘': ma20,\n",
    "        }, \n",
    "        screen=is_st\n",
    "    )"
   ]
  },
  {
   "cell_type": "code",
   "execution_count": 18,
   "metadata": {
    "ExecuteTime": {
     "end_time": "2018-07-01T19:45:32.473100Z",
     "start_time": "2018-07-01T19:45:32.071605Z"
    }
   },
   "outputs": [],
   "source": [
    "result = run_pipeline(make_pipeline(), '2018-4-20', '2018-4-26')"
   ]
  },
  {
   "cell_type": "code",
   "execution_count": 19,
   "metadata": {
    "ExecuteTime": {
     "end_time": "2018-07-01T19:45:32.592671Z",
     "start_time": "2018-07-01T19:45:32.475864Z"
    }
   },
   "outputs": [
    {
     "data": {
      "text/html": [
       "<div>\n",
       "<style scoped>\n",
       "    .dataframe tbody tr th:only-of-type {\n",
       "        vertical-align: middle;\n",
       "    }\n",
       "\n",
       "    .dataframe tbody tr th {\n",
       "        vertical-align: top;\n",
       "    }\n",
       "\n",
       "    .dataframe thead th {\n",
       "        text-align: right;\n",
       "    }\n",
       "</style>\n",
       "<table border=\"1\" class=\"dataframe\">\n",
       "  <thead>\n",
       "    <tr style=\"text-align: right;\">\n",
       "      <th></th>\n",
       "      <th></th>\n",
       "      <th>平均收盘</th>\n",
       "    </tr>\n",
       "  </thead>\n",
       "  <tbody>\n",
       "    <tr>\n",
       "      <th>2018-04-23 00:00:00+00:00</th>\n",
       "      <th>中源协和(600645)</th>\n",
       "      <td>23.1590</td>\n",
       "    </tr>\n",
       "    <tr>\n",
       "      <th>2018-04-24 00:00:00+00:00</th>\n",
       "      <th>中源协和(600645)</th>\n",
       "      <td>23.0225</td>\n",
       "    </tr>\n",
       "    <tr>\n",
       "      <th>2018-04-25 00:00:00+00:00</th>\n",
       "      <th>中源协和(600645)</th>\n",
       "      <td>23.0230</td>\n",
       "    </tr>\n",
       "    <tr>\n",
       "      <th>2018-04-26 00:00:00+00:00</th>\n",
       "      <th>中源协和(600645)</th>\n",
       "      <td>22.9925</td>\n",
       "    </tr>\n",
       "  </tbody>\n",
       "</table>\n",
       "</div>"
      ],
      "text/plain": [
       "                                           平均收盘\n",
       "2018-04-23 00:00:00+00:00 中源协和(600645)  23.1590\n",
       "2018-04-24 00:00:00+00:00 中源协和(600645)  23.0225\n",
       "2018-04-25 00:00:00+00:00 中源协和(600645)  23.0230\n",
       "2018-04-26 00:00:00+00:00 中源协和(600645)  22.9925"
      ]
     },
     "execution_count": 19,
     "metadata": {},
     "output_type": "execute_result"
    }
   ],
   "source": [
    "select_output_by(\n",
    "    result, '2018-04-23', assets=['600408', '600645', '600076'])"
   ]
  },
  {
   "cell_type": "markdown",
   "metadata": {},
   "source": [
    "#### `IsNewShare` 次新股\n",
    "+ days：上市天数小于指定天数，判定为次新股，默认90天"
   ]
  },
  {
   "cell_type": "code",
   "execution_count": 20,
   "metadata": {
    "ExecuteTime": {
     "end_time": "2018-07-01T19:45:32.600189Z",
     "start_time": "2018-07-01T19:45:32.596295Z"
    }
   },
   "outputs": [],
   "source": [
    "from zipline.pipeline.builtin import IsNewShare"
   ]
  },
  {
   "cell_type": "code",
   "execution_count": 21,
   "metadata": {
    "ExecuteTime": {
     "end_time": "2018-07-01T19:45:32.611360Z",
     "start_time": "2018-07-01T19:45:32.605829Z"
    }
   },
   "outputs": [],
   "source": [
    "def make_pipeline():\n",
    "    ndays = NDays()\n",
    "    return Pipeline(\n",
    "        columns={\n",
    "            '上市天数': ndays,\n",
    "        }, \n",
    "        screen=IsNewShare()\n",
    "    )"
   ]
  },
  {
   "cell_type": "code",
   "execution_count": 22,
   "metadata": {
    "ExecuteTime": {
     "end_time": "2018-07-01T19:45:33.557425Z",
     "start_time": "2018-07-01T19:45:32.614465Z"
    }
   },
   "outputs": [
    {
     "data": {
      "text/html": [
       "<div>\n",
       "<style scoped>\n",
       "    .dataframe tbody tr th:only-of-type {\n",
       "        vertical-align: middle;\n",
       "    }\n",
       "\n",
       "    .dataframe tbody tr th {\n",
       "        vertical-align: top;\n",
       "    }\n",
       "\n",
       "    .dataframe thead th {\n",
       "        text-align: right;\n",
       "    }\n",
       "</style>\n",
       "<table border=\"1\" class=\"dataframe\">\n",
       "  <thead>\n",
       "    <tr style=\"text-align: right;\">\n",
       "      <th></th>\n",
       "      <th></th>\n",
       "      <th>上市天数</th>\n",
       "    </tr>\n",
       "  </thead>\n",
       "  <tbody>\n",
       "    <tr>\n",
       "      <th rowspan=\"30\" valign=\"top\">2018-04-20 00:00:00+00:00</th>\n",
       "      <th>华西证券(002926)</th>\n",
       "      <td>74.0</td>\n",
       "    </tr>\n",
       "    <tr>\n",
       "      <th>泰永长征(002927)</th>\n",
       "      <td>56.0</td>\n",
       "    </tr>\n",
       "    <tr>\n",
       "      <th>华夏航空(002928)</th>\n",
       "      <td>49.0</td>\n",
       "    </tr>\n",
       "    <tr>\n",
       "      <th>润建通信(002929)</th>\n",
       "      <td>50.0</td>\n",
       "    </tr>\n",
       "    <tr>\n",
       "      <th>宏川智慧(002930)</th>\n",
       "      <td>23.0</td>\n",
       "    </tr>\n",
       "    <tr>\n",
       "      <th>锋龙股份(002931)</th>\n",
       "      <td>17.0</td>\n",
       "    </tr>\n",
       "    <tr>\n",
       "      <th>天邑股份(300504)</th>\n",
       "      <td>21.0</td>\n",
       "    </tr>\n",
       "    <tr>\n",
       "      <th>彩讯股份(300634)</th>\n",
       "      <td>28.0</td>\n",
       "    </tr>\n",
       "    <tr>\n",
       "      <th>南京聚隆(300644)</th>\n",
       "      <td>73.0</td>\n",
       "    </tr>\n",
       "    <tr>\n",
       "      <th>科顺股份(300737)</th>\n",
       "      <td>85.0</td>\n",
       "    </tr>\n",
       "    <tr>\n",
       "      <th>明阳电路(300739)</th>\n",
       "      <td>78.0</td>\n",
       "    </tr>\n",
       "    <tr>\n",
       "      <th>御家汇(300740)</th>\n",
       "      <td>71.0</td>\n",
       "    </tr>\n",
       "    <tr>\n",
       "      <th>华宝股份(300741)</th>\n",
       "      <td>50.0</td>\n",
       "    </tr>\n",
       "    <tr>\n",
       "      <th>江苏租赁(600901)</th>\n",
       "      <td>50.0</td>\n",
       "    </tr>\n",
       "    <tr>\n",
       "      <th>湖南盐业(600929)</th>\n",
       "      <td>25.0</td>\n",
       "    </tr>\n",
       "    <tr>\n",
       "      <th>成都银行(601838)</th>\n",
       "      <td>79.0</td>\n",
       "    </tr>\n",
       "    <tr>\n",
       "      <th>倍加洁(603059)</th>\n",
       "      <td>49.0</td>\n",
       "    </tr>\n",
       "    <tr>\n",
       "      <th>养元饮品(603156)</th>\n",
       "      <td>67.0</td>\n",
       "    </tr>\n",
       "    <tr>\n",
       "      <th>爱婴室(603214)</th>\n",
       "      <td>21.0</td>\n",
       "    </tr>\n",
       "    <tr>\n",
       "      <th>振德医疗(603301)</th>\n",
       "      <td>8.0</td>\n",
       "    </tr>\n",
       "    <tr>\n",
       "      <th>华菱精工(603356)</th>\n",
       "      <td>86.0</td>\n",
       "    </tr>\n",
       "    <tr>\n",
       "      <th>南都物业(603506)</th>\n",
       "      <td>78.0</td>\n",
       "    </tr>\n",
       "    <tr>\n",
       "      <th>淳中科技(603516)</th>\n",
       "      <td>77.0</td>\n",
       "    </tr>\n",
       "    <tr>\n",
       "      <th>今创集团(603680)</th>\n",
       "      <td>52.0</td>\n",
       "    </tr>\n",
       "    <tr>\n",
       "      <th>中源家居(603709)</th>\n",
       "      <td>71.0</td>\n",
       "    </tr>\n",
       "    <tr>\n",
       "      <th>XD七一二(603712)</th>\n",
       "      <td>53.0</td>\n",
       "    </tr>\n",
       "    <tr>\n",
       "      <th>沃格光电(603773)</th>\n",
       "      <td>3.0</td>\n",
       "    </tr>\n",
       "    <tr>\n",
       "      <th>嘉友国际(603871)</th>\n",
       "      <td>73.0</td>\n",
       "    </tr>\n",
       "    <tr>\n",
       "      <th>鼎胜新材(603876)</th>\n",
       "      <td>2.0</td>\n",
       "    </tr>\n",
       "    <tr>\n",
       "      <th>天永智能(603895)</th>\n",
       "      <td>88.0</td>\n",
       "    </tr>\n",
       "    <tr>\n",
       "      <th>...</th>\n",
       "      <th>...</th>\n",
       "      <td>...</td>\n",
       "    </tr>\n",
       "    <tr>\n",
       "      <th>2018-04-25 00:00:00+00:00</th>\n",
       "      <th>长城科技(603897)</th>\n",
       "      <td>15.0</td>\n",
       "    </tr>\n",
       "    <tr>\n",
       "      <th rowspan=\"29\" valign=\"top\">2018-04-26 00:00:00+00:00</th>\n",
       "      <th>华西证券(002926)</th>\n",
       "      <td>80.0</td>\n",
       "    </tr>\n",
       "    <tr>\n",
       "      <th>泰永长征(002927)</th>\n",
       "      <td>62.0</td>\n",
       "    </tr>\n",
       "    <tr>\n",
       "      <th>华夏航空(002928)</th>\n",
       "      <td>55.0</td>\n",
       "    </tr>\n",
       "    <tr>\n",
       "      <th>润建通信(002929)</th>\n",
       "      <td>56.0</td>\n",
       "    </tr>\n",
       "    <tr>\n",
       "      <th>宏川智慧(002930)</th>\n",
       "      <td>29.0</td>\n",
       "    </tr>\n",
       "    <tr>\n",
       "      <th>锋龙股份(002931)</th>\n",
       "      <td>23.0</td>\n",
       "    </tr>\n",
       "    <tr>\n",
       "      <th>天邑股份(300504)</th>\n",
       "      <td>27.0</td>\n",
       "    </tr>\n",
       "    <tr>\n",
       "      <th>彩讯股份(300634)</th>\n",
       "      <td>34.0</td>\n",
       "    </tr>\n",
       "    <tr>\n",
       "      <th>南京聚隆(300644)</th>\n",
       "      <td>79.0</td>\n",
       "    </tr>\n",
       "    <tr>\n",
       "      <th>明阳电路(300739)</th>\n",
       "      <td>84.0</td>\n",
       "    </tr>\n",
       "    <tr>\n",
       "      <th>御家汇(300740)</th>\n",
       "      <td>77.0</td>\n",
       "    </tr>\n",
       "    <tr>\n",
       "      <th>华宝股份(300741)</th>\n",
       "      <td>56.0</td>\n",
       "    </tr>\n",
       "    <tr>\n",
       "      <th>江苏租赁(600901)</th>\n",
       "      <td>56.0</td>\n",
       "    </tr>\n",
       "    <tr>\n",
       "      <th>湖南盐业(600929)</th>\n",
       "      <td>31.0</td>\n",
       "    </tr>\n",
       "    <tr>\n",
       "      <th>成都银行(601838)</th>\n",
       "      <td>85.0</td>\n",
       "    </tr>\n",
       "    <tr>\n",
       "      <th>倍加洁(603059)</th>\n",
       "      <td>55.0</td>\n",
       "    </tr>\n",
       "    <tr>\n",
       "      <th>养元饮品(603156)</th>\n",
       "      <td>73.0</td>\n",
       "    </tr>\n",
       "    <tr>\n",
       "      <th>爱婴室(603214)</th>\n",
       "      <td>27.0</td>\n",
       "    </tr>\n",
       "    <tr>\n",
       "      <th>振德医疗(603301)</th>\n",
       "      <td>14.0</td>\n",
       "    </tr>\n",
       "    <tr>\n",
       "      <th>南都物业(603506)</th>\n",
       "      <td>84.0</td>\n",
       "    </tr>\n",
       "    <tr>\n",
       "      <th>淳中科技(603516)</th>\n",
       "      <td>83.0</td>\n",
       "    </tr>\n",
       "    <tr>\n",
       "      <th>今创集团(603680)</th>\n",
       "      <td>58.0</td>\n",
       "    </tr>\n",
       "    <tr>\n",
       "      <th>中源家居(603709)</th>\n",
       "      <td>77.0</td>\n",
       "    </tr>\n",
       "    <tr>\n",
       "      <th>XD七一二(603712)</th>\n",
       "      <td>59.0</td>\n",
       "    </tr>\n",
       "    <tr>\n",
       "      <th>仙鹤股份(603733)</th>\n",
       "      <td>6.0</td>\n",
       "    </tr>\n",
       "    <tr>\n",
       "      <th>沃格光电(603773)</th>\n",
       "      <td>9.0</td>\n",
       "    </tr>\n",
       "    <tr>\n",
       "      <th>嘉友国际(603871)</th>\n",
       "      <td>79.0</td>\n",
       "    </tr>\n",
       "    <tr>\n",
       "      <th>鼎胜新材(603876)</th>\n",
       "      <td>8.0</td>\n",
       "    </tr>\n",
       "    <tr>\n",
       "      <th>长城科技(603897)</th>\n",
       "      <td>16.0</td>\n",
       "    </tr>\n",
       "  </tbody>\n",
       "</table>\n",
       "<p>152 rows × 1 columns</p>\n",
       "</div>"
      ],
      "text/plain": [
       "                                         上市天数\n",
       "2018-04-20 00:00:00+00:00 华西证券(002926)   74.0\n",
       "                          泰永长征(002927)   56.0\n",
       "                          华夏航空(002928)   49.0\n",
       "                          润建通信(002929)   50.0\n",
       "                          宏川智慧(002930)   23.0\n",
       "                          锋龙股份(002931)   17.0\n",
       "                          天邑股份(300504)   21.0\n",
       "                          彩讯股份(300634)   28.0\n",
       "                          南京聚隆(300644)   73.0\n",
       "                          科顺股份(300737)   85.0\n",
       "                          明阳电路(300739)   78.0\n",
       "                          御家汇(300740)    71.0\n",
       "                          华宝股份(300741)   50.0\n",
       "                          江苏租赁(600901)   50.0\n",
       "                          湖南盐业(600929)   25.0\n",
       "                          成都银行(601838)   79.0\n",
       "                          倍加洁(603059)    49.0\n",
       "                          养元饮品(603156)   67.0\n",
       "                          爱婴室(603214)    21.0\n",
       "                          振德医疗(603301)    8.0\n",
       "                          华菱精工(603356)   86.0\n",
       "                          南都物业(603506)   78.0\n",
       "                          淳中科技(603516)   77.0\n",
       "                          今创集团(603680)   52.0\n",
       "                          中源家居(603709)   71.0\n",
       "                          XD七一二(603712)  53.0\n",
       "                          沃格光电(603773)    3.0\n",
       "                          嘉友国际(603871)   73.0\n",
       "                          鼎胜新材(603876)    2.0\n",
       "                          天永智能(603895)   88.0\n",
       "...                                       ...\n",
       "2018-04-25 00:00:00+00:00 长城科技(603897)   15.0\n",
       "2018-04-26 00:00:00+00:00 华西证券(002926)   80.0\n",
       "                          泰永长征(002927)   62.0\n",
       "                          华夏航空(002928)   55.0\n",
       "                          润建通信(002929)   56.0\n",
       "                          宏川智慧(002930)   29.0\n",
       "                          锋龙股份(002931)   23.0\n",
       "                          天邑股份(300504)   27.0\n",
       "                          彩讯股份(300634)   34.0\n",
       "                          南京聚隆(300644)   79.0\n",
       "                          明阳电路(300739)   84.0\n",
       "                          御家汇(300740)    77.0\n",
       "                          华宝股份(300741)   56.0\n",
       "                          江苏租赁(600901)   56.0\n",
       "                          湖南盐业(600929)   31.0\n",
       "                          成都银行(601838)   85.0\n",
       "                          倍加洁(603059)    55.0\n",
       "                          养元饮品(603156)   73.0\n",
       "                          爱婴室(603214)    27.0\n",
       "                          振德医疗(603301)   14.0\n",
       "                          南都物业(603506)   84.0\n",
       "                          淳中科技(603516)   83.0\n",
       "                          今创集团(603680)   58.0\n",
       "                          中源家居(603709)   77.0\n",
       "                          XD七一二(603712)  59.0\n",
       "                          仙鹤股份(603733)    6.0\n",
       "                          沃格光电(603773)    9.0\n",
       "                          嘉友国际(603871)   79.0\n",
       "                          鼎胜新材(603876)    8.0\n",
       "                          长城科技(603897)   16.0\n",
       "\n",
       "[152 rows x 1 columns]"
      ]
     },
     "execution_count": 22,
     "metadata": {},
     "output_type": "execute_result"
    }
   ],
   "source": [
    "run_pipeline(make_pipeline(), '2018-4-20', '2018-4-26')"
   ]
  },
  {
   "cell_type": "markdown",
   "metadata": {},
   "source": [
    "#### `QTradableStocks` 量化可交易股票"
   ]
  },
  {
   "cell_type": "code",
   "execution_count": 23,
   "metadata": {
    "ExecuteTime": {
     "end_time": "2018-07-01T19:45:33.562817Z",
     "start_time": "2018-07-01T19:45:33.560064Z"
    }
   },
   "outputs": [],
   "source": [
    "from zipline.pipeline.builtin import QTradableStocks"
   ]
  },
  {
   "cell_type": "code",
   "execution_count": 24,
   "metadata": {
    "ExecuteTime": {
     "end_time": "2018-07-01T19:45:33.578038Z",
     "start_time": "2018-07-01T19:45:33.565175Z"
    }
   },
   "outputs": [],
   "source": [
    "def make_pipeline():\n",
    "    stocks = QTradableStocks()\n",
    "    ma20 = SimpleMovingAverage(\n",
    "        inputs=[USEquityPricing.close], window_length=20)\n",
    "    return Pipeline(\n",
    "        columns={\n",
    "            'ma20': ma20,\n",
    "        }, \n",
    "        screen=stocks\n",
    "    )"
   ]
  },
  {
   "cell_type": "code",
   "execution_count": 25,
   "metadata": {
    "ExecuteTime": {
     "end_time": "2018-07-01T19:45:34.136153Z",
     "start_time": "2018-07-01T19:45:33.580743Z"
    }
   },
   "outputs": [],
   "source": [
    "result = run_pipeline(make_pipeline(), '2018-4-20', '2018-4-26')"
   ]
  },
  {
   "cell_type": "code",
   "execution_count": 26,
   "metadata": {
    "ExecuteTime": {
     "end_time": "2018-07-01T19:45:34.144657Z",
     "start_time": "2018-07-01T19:45:34.139019Z"
    }
   },
   "outputs": [],
   "source": [
    "ds = result.index.get_level_values(0).unique()"
   ]
  },
  {
   "cell_type": "code",
   "execution_count": 27,
   "metadata": {
    "ExecuteTime": {
     "end_time": "2018-07-01T19:45:34.161243Z",
     "start_time": "2018-07-01T19:45:34.147597Z"
    }
   },
   "outputs": [
    {
     "name": "stdout",
     "output_type": "stream",
     "text": [
      "在日期为2018-04-20时，有2623只股票符合\n",
      "在日期为2018-04-23时，有2622只股票符合\n",
      "在日期为2018-04-24时，有2626只股票符合\n",
      "在日期为2018-04-25时，有2630只股票符合\n",
      "在日期为2018-04-26时，有2631只股票符合\n"
     ]
    }
   ],
   "source": [
    "for d in ds:\n",
    "    print('在日期为{}时，有{}只股票符合'.format(d.date(), result.loc[d].shape[0]))"
   ]
  },
  {
   "cell_type": "markdown",
   "metadata": {
    "ExecuteTime": {
     "end_time": "2018-04-27T15:59:06.136214Z",
     "start_time": "2018-04-27T15:59:06.045351Z"
    }
   },
   "source": [
    "#### `TopAverageAmount` & `TAA` 平均成交额前N位\n",
    "+ 平均成交额排名前N位的股票。默认前500位"
   ]
  },
  {
   "cell_type": "code",
   "execution_count": 28,
   "metadata": {
    "ExecuteTime": {
     "end_time": "2018-07-01T19:45:34.685860Z",
     "start_time": "2018-07-01T19:45:34.164767Z"
    }
   },
   "outputs": [
    {
     "data": {
      "text/plain": [
       "True"
      ]
     },
     "execution_count": 28,
     "metadata": {},
     "output_type": "execute_result"
    }
   ],
   "source": [
    "from zipline.pipeline.builtin import TAA\n",
    "\n",
    "def make_pipeline():\n",
    "    stocks = QTradableStocks()\n",
    "    ma20 = SimpleMovingAverage(\n",
    "        inputs=[USEquityPricing.close], window_length=20)\n",
    "    return Pipeline(\n",
    "        columns={\n",
    "            'ma20': ma20,\n",
    "        }, \n",
    "        screen=TAA()\n",
    "    )\n",
    "\n",
    "result = run_pipeline(make_pipeline(), '2018-4-20', '2018-4-26')\n",
    "result.loc['2018-04-20'].shape == (500,1)"
   ]
  },
  {
   "cell_type": "markdown",
   "metadata": {},
   "source": [
    "#### `IsYZZT` & `IsYZDT`\n",
    "+ 默认包含ST一字板\n",
    "+ 如排除，设定`include_st=False`"
   ]
  },
  {
   "cell_type": "code",
   "execution_count": 29,
   "metadata": {
    "ExecuteTime": {
     "end_time": "2018-07-01T19:45:35.324758Z",
     "start_time": "2018-07-01T19:45:34.689042Z"
    }
   },
   "outputs": [
    {
     "data": {
      "text/html": [
       "<div>\n",
       "<style scoped>\n",
       "    .dataframe tbody tr th:only-of-type {\n",
       "        vertical-align: middle;\n",
       "    }\n",
       "\n",
       "    .dataframe tbody tr th {\n",
       "        vertical-align: top;\n",
       "    }\n",
       "\n",
       "    .dataframe thead th {\n",
       "        text-align: right;\n",
       "    }\n",
       "</style>\n",
       "<table border=\"1\" class=\"dataframe\">\n",
       "  <thead>\n",
       "    <tr style=\"text-align: right;\">\n",
       "      <th></th>\n",
       "      <th></th>\n",
       "      <th>涨幅</th>\n",
       "      <th>ma20</th>\n",
       "    </tr>\n",
       "  </thead>\n",
       "  <tbody>\n",
       "    <tr>\n",
       "      <th rowspan=\"2\" valign=\"top\">2017-09-20 00:00:00+00:00</th>\n",
       "      <th>华通热力(002893)</th>\n",
       "      <td>0.100295</td>\n",
       "      <td>13.603333</td>\n",
       "    </tr>\n",
       "    <tr>\n",
       "      <th>光威复材(300699)</th>\n",
       "      <td>0.099935</td>\n",
       "      <td>30.569231</td>\n",
       "    </tr>\n",
       "    <tr>\n",
       "      <th rowspan=\"2\" valign=\"top\">2017-09-21 00:00:00+00:00</th>\n",
       "      <th>华通热力(002893)</th>\n",
       "      <td>0.099866</td>\n",
       "      <td>14.305000</td>\n",
       "    </tr>\n",
       "    <tr>\n",
       "      <th>光威复材(300699)</th>\n",
       "      <td>0.100098</td>\n",
       "      <td>32.381429</td>\n",
       "    </tr>\n",
       "    <tr>\n",
       "      <th rowspan=\"4\" valign=\"top\">2017-09-22 00:00:00+00:00</th>\n",
       "      <th>ST生化(000403)</th>\n",
       "      <td>0.050081</td>\n",
       "      <td>31.007450</td>\n",
       "    </tr>\n",
       "    <tr>\n",
       "      <th>华通热力(002893)</th>\n",
       "      <td>0.099939</td>\n",
       "      <td>15.054000</td>\n",
       "    </tr>\n",
       "    <tr>\n",
       "      <th>光威复材(300699)</th>\n",
       "      <td>0.099928</td>\n",
       "      <td>34.324667</td>\n",
       "    </tr>\n",
       "    <tr>\n",
       "      <th>ST昌九(600228)</th>\n",
       "      <td>0.049951</td>\n",
       "      <td>10.235500</td>\n",
       "    </tr>\n",
       "  </tbody>\n",
       "</table>\n",
       "</div>"
      ],
      "text/plain": [
       "                                              涨幅       ma20\n",
       "2017-09-20 00:00:00+00:00 华通热力(002893)  0.100295  13.603333\n",
       "                          光威复材(300699)  0.099935  30.569231\n",
       "2017-09-21 00:00:00+00:00 华通热力(002893)  0.099866  14.305000\n",
       "                          光威复材(300699)  0.100098  32.381429\n",
       "2017-09-22 00:00:00+00:00 ST生化(000403)  0.050081  31.007450\n",
       "                          华通热力(002893)  0.099939  15.054000\n",
       "                          光威复材(300699)  0.099928  34.324667\n",
       "                          ST昌九(600228)  0.049951  10.235500"
      ]
     },
     "execution_count": 29,
     "metadata": {},
     "output_type": "execute_result"
    }
   ],
   "source": [
    "from zipline.pipeline.builtin import IsYZZT\n",
    "from zipline.pipeline.factors import DailyReturns\n",
    "def make_pipeline():\n",
    "    dr = DailyReturns()\n",
    "    ma20 = SimpleMovingAverage(\n",
    "        inputs=[USEquityPricing.close], window_length=20)\n",
    "    return Pipeline(\n",
    "        columns={\n",
    "            '涨幅':dr,\n",
    "            'ma20': ma20,\n",
    "        }, \n",
    "        screen=IsYZZT()\n",
    "    )\n",
    "# 只输出一字涨停部分\n",
    "result = run_pipeline(make_pipeline(), '2017-9-20', '2017-9-24')\n",
    "# 注意其中包含600228、000403等ST股票\n",
    "select_output_by(result, assets=['600228', '000403', '002893','300699'])"
   ]
  },
  {
   "cell_type": "code",
   "execution_count": 30,
   "metadata": {
    "ExecuteTime": {
     "end_time": "2018-07-01T19:45:35.955029Z",
     "start_time": "2018-07-01T19:45:35.327113Z"
    }
   },
   "outputs": [
    {
     "data": {
      "text/html": [
       "<div>\n",
       "<style scoped>\n",
       "    .dataframe tbody tr th:only-of-type {\n",
       "        vertical-align: middle;\n",
       "    }\n",
       "\n",
       "    .dataframe tbody tr th {\n",
       "        vertical-align: top;\n",
       "    }\n",
       "\n",
       "    .dataframe thead th {\n",
       "        text-align: right;\n",
       "    }\n",
       "</style>\n",
       "<table border=\"1\" class=\"dataframe\">\n",
       "  <thead>\n",
       "    <tr style=\"text-align: right;\">\n",
       "      <th></th>\n",
       "      <th></th>\n",
       "      <th>涨幅</th>\n",
       "      <th>ma20</th>\n",
       "    </tr>\n",
       "  </thead>\n",
       "  <tbody>\n",
       "    <tr>\n",
       "      <th rowspan=\"2\" valign=\"top\">2017-09-20 00:00:00+00:00</th>\n",
       "      <th>华通热力(002893)</th>\n",
       "      <td>0.100295</td>\n",
       "      <td>13.603333</td>\n",
       "    </tr>\n",
       "    <tr>\n",
       "      <th>光威复材(300699)</th>\n",
       "      <td>0.099935</td>\n",
       "      <td>30.569231</td>\n",
       "    </tr>\n",
       "    <tr>\n",
       "      <th rowspan=\"2\" valign=\"top\">2017-09-21 00:00:00+00:00</th>\n",
       "      <th>华通热力(002893)</th>\n",
       "      <td>0.099866</td>\n",
       "      <td>14.305000</td>\n",
       "    </tr>\n",
       "    <tr>\n",
       "      <th>光威复材(300699)</th>\n",
       "      <td>0.100098</td>\n",
       "      <td>32.381429</td>\n",
       "    </tr>\n",
       "    <tr>\n",
       "      <th rowspan=\"2\" valign=\"top\">2017-09-22 00:00:00+00:00</th>\n",
       "      <th>华通热力(002893)</th>\n",
       "      <td>0.099939</td>\n",
       "      <td>15.054000</td>\n",
       "    </tr>\n",
       "    <tr>\n",
       "      <th>光威复材(300699)</th>\n",
       "      <td>0.099928</td>\n",
       "      <td>34.324667</td>\n",
       "    </tr>\n",
       "  </tbody>\n",
       "</table>\n",
       "</div>"
      ],
      "text/plain": [
       "                                              涨幅       ma20\n",
       "2017-09-20 00:00:00+00:00 华通热力(002893)  0.100295  13.603333\n",
       "                          光威复材(300699)  0.099935  30.569231\n",
       "2017-09-21 00:00:00+00:00 华通热力(002893)  0.099866  14.305000\n",
       "                          光威复材(300699)  0.100098  32.381429\n",
       "2017-09-22 00:00:00+00:00 华通热力(002893)  0.099939  15.054000\n",
       "                          光威复材(300699)  0.099928  34.324667"
      ]
     },
     "execution_count": 30,
     "metadata": {},
     "output_type": "execute_result"
    }
   ],
   "source": [
    "def make_pipeline():\n",
    "    dr = DailyReturns()\n",
    "    ma20 = SimpleMovingAverage(\n",
    "        inputs=[USEquityPricing.close], window_length=20)\n",
    "    return Pipeline(\n",
    "        columns={\n",
    "            '涨幅':dr,\n",
    "            'ma20': ma20,\n",
    "        }, \n",
    "        # 不包含ST\n",
    "        screen=IsYZZT(include_st=False)\n",
    "    )\n",
    "# 只输出一字涨停部分\n",
    "result = run_pipeline(make_pipeline(), '2017-9-20', '2017-9-24')\n",
    "# 注意，此时没有包含600228、000403等ST股票\n",
    "select_output_by(result, assets=['600228', '000403', '002893','300699'])"
   ]
  },
  {
   "cell_type": "code",
   "execution_count": 31,
   "metadata": {
    "ExecuteTime": {
     "end_time": "2018-07-01T19:45:36.452720Z",
     "start_time": "2018-07-01T19:45:35.957978Z"
    }
   },
   "outputs": [
    {
     "data": {
      "text/html": [
       "<div>\n",
       "<style scoped>\n",
       "    .dataframe tbody tr th:only-of-type {\n",
       "        vertical-align: middle;\n",
       "    }\n",
       "\n",
       "    .dataframe tbody tr th {\n",
       "        vertical-align: top;\n",
       "    }\n",
       "\n",
       "    .dataframe thead th {\n",
       "        text-align: right;\n",
       "    }\n",
       "</style>\n",
       "<table border=\"1\" class=\"dataframe\">\n",
       "  <thead>\n",
       "    <tr style=\"text-align: right;\">\n",
       "      <th></th>\n",
       "      <th></th>\n",
       "      <th>涨幅</th>\n",
       "      <th>ma20</th>\n",
       "    </tr>\n",
       "  </thead>\n",
       "  <tbody>\n",
       "    <tr>\n",
       "      <th rowspan=\"5\" valign=\"top\">2018-04-24 00:00:00+00:00</th>\n",
       "      <th>*ST华泽(000693)</th>\n",
       "      <td>-0.049296</td>\n",
       "      <td>6.8845</td>\n",
       "    </tr>\n",
       "    <tr>\n",
       "      <th>*ST三维(000755)</th>\n",
       "      <td>-0.049149</td>\n",
       "      <td>6.1065</td>\n",
       "    </tr>\n",
       "    <tr>\n",
       "      <th>万丰奥威(002085)</th>\n",
       "      <td>-0.099919</td>\n",
       "      <td>12.3480</td>\n",
       "    </tr>\n",
       "    <tr>\n",
       "      <th>*ST尤夫(002427)</th>\n",
       "      <td>-0.050237</td>\n",
       "      <td>17.0545</td>\n",
       "    </tr>\n",
       "    <tr>\n",
       "      <th>*ST龙力(002604)</th>\n",
       "      <td>-0.050000</td>\n",
       "      <td>7.8790</td>\n",
       "    </tr>\n",
       "    <tr>\n",
       "      <th rowspan=\"6\" valign=\"top\">2018-04-25 00:00:00+00:00</th>\n",
       "      <th>*ST华泽(000693)</th>\n",
       "      <td>-0.049383</td>\n",
       "      <td>6.5405</td>\n",
       "    </tr>\n",
       "    <tr>\n",
       "      <th>万丰奥威(002085)</th>\n",
       "      <td>-0.100269</td>\n",
       "      <td>12.2300</td>\n",
       "    </tr>\n",
       "    <tr>\n",
       "      <th>*ST尤夫(002427)</th>\n",
       "      <td>-0.049900</td>\n",
       "      <td>16.2010</td>\n",
       "    </tr>\n",
       "    <tr>\n",
       "      <th>*ST龙力(002604)</th>\n",
       "      <td>-0.050817</td>\n",
       "      <td>7.7035</td>\n",
       "    </tr>\n",
       "    <tr>\n",
       "      <th>*ST船舶(600150)</th>\n",
       "      <td>-0.049708</td>\n",
       "      <td>18.3700</td>\n",
       "    </tr>\n",
       "    <tr>\n",
       "      <th>*ST罗顿(600209)</th>\n",
       "      <td>-0.049757</td>\n",
       "      <td>9.5270</td>\n",
       "    </tr>\n",
       "    <tr>\n",
       "      <th rowspan=\"8\" valign=\"top\">2018-04-26 00:00:00+00:00</th>\n",
       "      <th>*ST华泽(000693)</th>\n",
       "      <td>-0.049351</td>\n",
       "      <td>6.2140</td>\n",
       "    </tr>\n",
       "    <tr>\n",
       "      <th>*ST华信(002018)</th>\n",
       "      <td>-0.100186</td>\n",
       "      <td>5.3630</td>\n",
       "    </tr>\n",
       "    <tr>\n",
       "      <th>*ST尤夫(002427)</th>\n",
       "      <td>-0.050420</td>\n",
       "      <td>15.3900</td>\n",
       "    </tr>\n",
       "    <tr>\n",
       "      <th>圣阳股份(002580)</th>\n",
       "      <td>-0.100358</td>\n",
       "      <td>8.3280</td>\n",
       "    </tr>\n",
       "    <tr>\n",
       "      <th>*ST龙力(002604)</th>\n",
       "      <td>-0.049713</td>\n",
       "      <td>7.5150</td>\n",
       "    </tr>\n",
       "    <tr>\n",
       "      <th>*ST船舶(600150)</th>\n",
       "      <td>-0.049846</td>\n",
       "      <td>18.2860</td>\n",
       "    </tr>\n",
       "    <tr>\n",
       "      <th>*ST哈空(600202)</th>\n",
       "      <td>-0.049342</td>\n",
       "      <td>7.6855</td>\n",
       "    </tr>\n",
       "    <tr>\n",
       "      <th>*ST罗顿(600209)</th>\n",
       "      <td>-0.049808</td>\n",
       "      <td>9.4405</td>\n",
       "    </tr>\n",
       "  </tbody>\n",
       "</table>\n",
       "</div>"
      ],
      "text/plain": [
       "                                               涨幅     ma20\n",
       "2018-04-24 00:00:00+00:00 *ST华泽(000693) -0.049296   6.8845\n",
       "                          *ST三维(000755) -0.049149   6.1065\n",
       "                          万丰奥威(002085)  -0.099919  12.3480\n",
       "                          *ST尤夫(002427) -0.050237  17.0545\n",
       "                          *ST龙力(002604) -0.050000   7.8790\n",
       "2018-04-25 00:00:00+00:00 *ST华泽(000693) -0.049383   6.5405\n",
       "                          万丰奥威(002085)  -0.100269  12.2300\n",
       "                          *ST尤夫(002427) -0.049900  16.2010\n",
       "                          *ST龙力(002604) -0.050817   7.7035\n",
       "                          *ST船舶(600150) -0.049708  18.3700\n",
       "                          *ST罗顿(600209) -0.049757   9.5270\n",
       "2018-04-26 00:00:00+00:00 *ST华泽(000693) -0.049351   6.2140\n",
       "                          *ST华信(002018) -0.100186   5.3630\n",
       "                          *ST尤夫(002427) -0.050420  15.3900\n",
       "                          圣阳股份(002580)  -0.100358   8.3280\n",
       "                          *ST龙力(002604) -0.049713   7.5150\n",
       "                          *ST船舶(600150) -0.049846  18.2860\n",
       "                          *ST哈空(600202) -0.049342   7.6855\n",
       "                          *ST罗顿(600209) -0.049808   9.4405"
      ]
     },
     "execution_count": 31,
     "metadata": {},
     "output_type": "execute_result"
    }
   ],
   "source": [
    "from zipline.pipeline.builtin import IsYZDT\n",
    "\n",
    "\n",
    "def make_pipeline():\n",
    "    dr = DailyReturns()\n",
    "    ma20 = SimpleMovingAverage(\n",
    "        inputs=[USEquityPricing.close], window_length=20)\n",
    "    return Pipeline(\n",
    "        columns={\n",
    "            '涨幅': dr,\n",
    "            'ma20': ma20,\n",
    "        },\n",
    "        screen=IsYZDT())\n",
    "\n",
    "\n",
    "# 只输出一字跌停部分\n",
    "run_pipeline(make_pipeline(), '2018-4-24', '2018-4-26')"
   ]
  },
  {
   "cell_type": "code",
   "execution_count": 32,
   "metadata": {
    "ExecuteTime": {
     "end_time": "2018-07-01T19:45:36.958731Z",
     "start_time": "2018-07-01T19:45:36.455051Z"
    }
   },
   "outputs": [
    {
     "data": {
      "text/html": [
       "<div>\n",
       "<style scoped>\n",
       "    .dataframe tbody tr th:only-of-type {\n",
       "        vertical-align: middle;\n",
       "    }\n",
       "\n",
       "    .dataframe tbody tr th {\n",
       "        vertical-align: top;\n",
       "    }\n",
       "\n",
       "    .dataframe thead th {\n",
       "        text-align: right;\n",
       "    }\n",
       "</style>\n",
       "<table border=\"1\" class=\"dataframe\">\n",
       "  <thead>\n",
       "    <tr style=\"text-align: right;\">\n",
       "      <th></th>\n",
       "      <th></th>\n",
       "      <th>涨幅</th>\n",
       "      <th>ma20</th>\n",
       "    </tr>\n",
       "  </thead>\n",
       "  <tbody>\n",
       "    <tr>\n",
       "      <th>2018-04-24 00:00:00+00:00</th>\n",
       "      <th>万丰奥威(002085)</th>\n",
       "      <td>-0.099919</td>\n",
       "      <td>12.348</td>\n",
       "    </tr>\n",
       "    <tr>\n",
       "      <th>2018-04-25 00:00:00+00:00</th>\n",
       "      <th>万丰奥威(002085)</th>\n",
       "      <td>-0.100269</td>\n",
       "      <td>12.230</td>\n",
       "    </tr>\n",
       "    <tr>\n",
       "      <th rowspan=\"2\" valign=\"top\">2018-04-26 00:00:00+00:00</th>\n",
       "      <th>*ST华信(002018)</th>\n",
       "      <td>-0.100186</td>\n",
       "      <td>5.363</td>\n",
       "    </tr>\n",
       "    <tr>\n",
       "      <th>圣阳股份(002580)</th>\n",
       "      <td>-0.100358</td>\n",
       "      <td>8.328</td>\n",
       "    </tr>\n",
       "  </tbody>\n",
       "</table>\n",
       "</div>"
      ],
      "text/plain": [
       "                                               涨幅    ma20\n",
       "2018-04-24 00:00:00+00:00 万丰奥威(002085)  -0.099919  12.348\n",
       "2018-04-25 00:00:00+00:00 万丰奥威(002085)  -0.100269  12.230\n",
       "2018-04-26 00:00:00+00:00 *ST华信(002018) -0.100186   5.363\n",
       "                          圣阳股份(002580)  -0.100358   8.328"
      ]
     },
     "execution_count": 32,
     "metadata": {},
     "output_type": "execute_result"
    }
   ],
   "source": [
    "def make_pipeline():\n",
    "    dr = DailyReturns()\n",
    "    ma20 = SimpleMovingAverage(\n",
    "        inputs=[USEquityPricing.close], window_length=20)\n",
    "    return Pipeline(\n",
    "        columns={\n",
    "            '涨幅': dr,\n",
    "            'ma20': ma20,\n",
    "        },\n",
    "        # 排除st\n",
    "        screen=IsYZDT(include_st=False))\n",
    "\n",
    "\n",
    "# 输出不包含St一字跌停\n",
    "run_pipeline(make_pipeline(), '2018-4-24', '2018-4-26')"
   ]
  },
  {
   "cell_type": "markdown",
   "metadata": {
    "ExecuteTime": {
     "end_time": "2018-05-02T05:27:25.127307Z",
     "start_time": "2018-05-02T05:27:25.020730Z"
    }
   },
   "source": [
    "#### 有关停复牌\n",
    "当日复牌"
   ]
  },
  {
   "cell_type": "markdown",
   "metadata": {},
   "source": [
    "![停牌表](./images/20180426_list.png)"
   ]
  },
  {
   "cell_type": "code",
   "execution_count": 33,
   "metadata": {
    "ExecuteTime": {
     "end_time": "2018-07-01T19:45:36.970509Z",
     "start_time": "2018-07-01T19:45:36.961429Z"
    }
   },
   "outputs": [],
   "source": [
    "# 可用于限定范围\n",
    "from zipline.pipeline.filters import StaticSids"
   ]
  },
  {
   "cell_type": "code",
   "execution_count": 34,
   "metadata": {
    "ExecuteTime": {
     "end_time": "2018-07-01T19:45:37.903173Z",
     "start_time": "2018-07-01T19:45:36.973032Z"
    }
   },
   "outputs": [
    {
     "data": {
      "text/html": [
       "<div>\n",
       "<style scoped>\n",
       "    .dataframe tbody tr th:only-of-type {\n",
       "        vertical-align: middle;\n",
       "    }\n",
       "\n",
       "    .dataframe tbody tr th {\n",
       "        vertical-align: top;\n",
       "    }\n",
       "\n",
       "    .dataframe thead th {\n",
       "        text-align: right;\n",
       "    }\n",
       "</style>\n",
       "<table border=\"1\" class=\"dataframe\">\n",
       "  <thead>\n",
       "    <tr style=\"text-align: right;\">\n",
       "      <th></th>\n",
       "      <th></th>\n",
       "      <th>涨幅</th>\n",
       "      <th>停牌天数</th>\n",
       "    </tr>\n",
       "  </thead>\n",
       "  <tbody>\n",
       "    <tr>\n",
       "      <th rowspan=\"10\" valign=\"top\">2018-04-26 00:00:00+00:00</th>\n",
       "      <th>珠海中富(000659)</th>\n",
       "      <td>0.005348</td>\n",
       "      <td>1.0</td>\n",
       "    </tr>\n",
       "    <tr>\n",
       "      <th>*ST华信(002018)</th>\n",
       "      <td>-0.100186</td>\n",
       "      <td>24.0</td>\n",
       "    </tr>\n",
       "    <tr>\n",
       "      <th>圣阳股份(002580)</th>\n",
       "      <td>-0.100358</td>\n",
       "      <td>89.0</td>\n",
       "    </tr>\n",
       "    <tr>\n",
       "      <th>*ST哈空(600202)</th>\n",
       "      <td>-0.049342</td>\n",
       "      <td>1.0</td>\n",
       "    </tr>\n",
       "    <tr>\n",
       "      <th>*ST狮头(600539)</th>\n",
       "      <td>-0.037037</td>\n",
       "      <td>63.0</td>\n",
       "    </tr>\n",
       "    <tr>\n",
       "      <th>苏美达(600710)</th>\n",
       "      <td>0.100885</td>\n",
       "      <td>6.0</td>\n",
       "    </tr>\n",
       "    <tr>\n",
       "      <th>宁波中百(600857)</th>\n",
       "      <td>0.100284</td>\n",
       "      <td>2.0</td>\n",
       "    </tr>\n",
       "    <tr>\n",
       "      <th>星湖科技(600866)</th>\n",
       "      <td>0.101149</td>\n",
       "      <td>60.0</td>\n",
       "    </tr>\n",
       "    <tr>\n",
       "      <th>渤海汽车(600960)</th>\n",
       "      <td>0.002714</td>\n",
       "      <td>89.0</td>\n",
       "    </tr>\n",
       "    <tr>\n",
       "      <th>*ST蓝科(601798)</th>\n",
       "      <td>-0.050157</td>\n",
       "      <td>1.0</td>\n",
       "    </tr>\n",
       "    <tr>\n",
       "      <th rowspan=\"7\" valign=\"top\">2018-04-27 00:00:00+00:00</th>\n",
       "      <th>中航三鑫(002163)</th>\n",
       "      <td>-0.099476</td>\n",
       "      <td>89.0</td>\n",
       "    </tr>\n",
       "    <tr>\n",
       "      <th>艾格拉斯(002619)</th>\n",
       "      <td>-0.070000</td>\n",
       "      <td>51.0</td>\n",
       "    </tr>\n",
       "    <tr>\n",
       "      <th>宁波联合(600051)</th>\n",
       "      <td>-0.099487</td>\n",
       "      <td>70.0</td>\n",
       "    </tr>\n",
       "    <tr>\n",
       "      <th>*ST椰岛(600238)</th>\n",
       "      <td>-0.050078</td>\n",
       "      <td>1.0</td>\n",
       "    </tr>\n",
       "    <tr>\n",
       "      <th>*ST信通(600289)</th>\n",
       "      <td>0.003021</td>\n",
       "      <td>12.0</td>\n",
       "    </tr>\n",
       "    <tr>\n",
       "      <th>鹏起科技(600614)</th>\n",
       "      <td>-0.100394</td>\n",
       "      <td>79.0</td>\n",
       "    </tr>\n",
       "    <tr>\n",
       "      <th>*ST友好(600778)</th>\n",
       "      <td>-0.045652</td>\n",
       "      <td>1.0</td>\n",
       "    </tr>\n",
       "  </tbody>\n",
       "</table>\n",
       "</div>"
      ],
      "text/plain": [
       "                                               涨幅  停牌天数\n",
       "2018-04-26 00:00:00+00:00 珠海中富(000659)   0.005348   1.0\n",
       "                          *ST华信(002018) -0.100186  24.0\n",
       "                          圣阳股份(002580)  -0.100358  89.0\n",
       "                          *ST哈空(600202) -0.049342   1.0\n",
       "                          *ST狮头(600539) -0.037037  63.0\n",
       "                          苏美达(600710)    0.100885   6.0\n",
       "                          宁波中百(600857)   0.100284   2.0\n",
       "                          星湖科技(600866)   0.101149  60.0\n",
       "                          渤海汽车(600960)   0.002714  89.0\n",
       "                          *ST蓝科(601798) -0.050157   1.0\n",
       "2018-04-27 00:00:00+00:00 中航三鑫(002163)  -0.099476  89.0\n",
       "                          艾格拉斯(002619)  -0.070000  51.0\n",
       "                          宁波联合(600051)  -0.099487  70.0\n",
       "                          *ST椰岛(600238) -0.050078   1.0\n",
       "                          *ST信通(600289)  0.003021  12.0\n",
       "                          鹏起科技(600614)  -0.100394  79.0\n",
       "                          *ST友好(600778) -0.045652   1.0"
      ]
     },
     "execution_count": 34,
     "metadata": {},
     "output_type": "execute_result"
    }
   ],
   "source": [
    "from zipline.pipeline.builtin import IsResumed, SuccessiveSuspensionDays\n",
    "\n",
    "def make_pipeline():\n",
    "    #target = StaticSids([2163,600051])\n",
    "    dr = DailyReturns()\n",
    "    return Pipeline(\n",
    "        columns={\n",
    "            '涨幅': dr,\n",
    "            '停牌天数':SuccessiveSuspensionDays(include=True)\n",
    "        },\n",
    "        screen=IsResumed())\n",
    "\n",
    "\n",
    "# 只输出连续停牌后当日复牌的股票涨跌幅\n",
    "run_pipeline(make_pipeline(), '2018-4-26', '2018-4-27')"
   ]
  },
  {
   "cell_type": "markdown",
   "metadata": {},
   "source": [
    "### 分类器"
   ]
  },
  {
   "cell_type": "markdown",
   "metadata": {},
   "source": [
    "股票分类涉及到地区、行业、概念，为简化处理，不再动态跟踪数据，而是使用静态方式简化。每次回测时，都使用最新的分类数据。如股票在2018-2-1，所处地区为上海，后由于变更注册地，2018-4-1所处地区更改为北京。在2018-2-1回测时，该股票使用的分类数据是最新数据，即上海；而2018-4-1回测时，使用的分类数据为北京。但这会造成一个问题，即在不同的时间，以同样策略回测同一期间的数据时，结果会不一致。请注意此类差异。"
   ]
  },
  {
   "cell_type": "markdown",
   "metadata": {},
   "source": [
    "分类器直接使用`Fundamentals`容器类"
   ]
  },
  {
   "cell_type": "code",
   "execution_count": 35,
   "metadata": {
    "ExecuteTime": {
     "end_time": "2018-07-01T19:45:37.911684Z",
     "start_time": "2018-07-01T19:45:37.906618Z"
    }
   },
   "outputs": [],
   "source": [
    "def make_pipeline():\n",
    "    dqfl = Fundamentals.info.region.latest\n",
    "    return Pipeline(\n",
    "        columns={\n",
    "            'dqfl': dqfl,\n",
    "        }, \n",
    "        screen=dqfl.element_of([0,1,22])\n",
    "    )"
   ]
  },
  {
   "cell_type": "code",
   "execution_count": 36,
   "metadata": {
    "ExecuteTime": {
     "end_time": "2018-07-01T19:45:38.159108Z",
     "start_time": "2018-07-01T19:45:37.914312Z"
    }
   },
   "outputs": [
    {
     "data": {
      "text/html": [
       "<div>\n",
       "<style scoped>\n",
       "    .dataframe tbody tr th:only-of-type {\n",
       "        vertical-align: middle;\n",
       "    }\n",
       "\n",
       "    .dataframe tbody tr th {\n",
       "        vertical-align: top;\n",
       "    }\n",
       "\n",
       "    .dataframe thead th {\n",
       "        text-align: right;\n",
       "    }\n",
       "</style>\n",
       "<table border=\"1\" class=\"dataframe\">\n",
       "  <thead>\n",
       "    <tr style=\"text-align: right;\">\n",
       "      <th></th>\n",
       "      <th></th>\n",
       "      <th>dqfl</th>\n",
       "    </tr>\n",
       "  </thead>\n",
       "  <tbody>\n",
       "    <tr>\n",
       "      <th rowspan=\"30\" valign=\"top\">2018-04-20 00:00:00+00:00</th>\n",
       "      <th>*ST宜化(000422)</th>\n",
       "      <td>22</td>\n",
       "    </tr>\n",
       "    <tr>\n",
       "      <th>鄂武商Ａ(000501)</th>\n",
       "      <td>22</td>\n",
       "    </tr>\n",
       "    <tr>\n",
       "      <th>长航凤凰(000520)</th>\n",
       "      <td>22</td>\n",
       "    </tr>\n",
       "    <tr>\n",
       "      <th>云南白药(000538)</th>\n",
       "      <td>1</td>\n",
       "    </tr>\n",
       "    <tr>\n",
       "      <th>沙隆达Ａ(000553)</th>\n",
       "      <td>22</td>\n",
       "    </tr>\n",
       "    <tr>\n",
       "      <th>我爱我家(000560)</th>\n",
       "      <td>1</td>\n",
       "    </tr>\n",
       "    <tr>\n",
       "      <th>天茂集团(000627)</th>\n",
       "      <td>22</td>\n",
       "    </tr>\n",
       "    <tr>\n",
       "      <th>湖北广电(000665)</th>\n",
       "      <td>22</td>\n",
       "    </tr>\n",
       "    <tr>\n",
       "      <th>盈方微(000670)</th>\n",
       "      <td>22</td>\n",
       "    </tr>\n",
       "    <tr>\n",
       "      <th>襄阳轴承(000678)</th>\n",
       "      <td>22</td>\n",
       "    </tr>\n",
       "    <tr>\n",
       "      <th>*ST双环(000707)</th>\n",
       "      <td>22</td>\n",
       "    </tr>\n",
       "    <tr>\n",
       "      <th>大冶特钢(000708)</th>\n",
       "      <td>22</td>\n",
       "    </tr>\n",
       "    <tr>\n",
       "      <th>中百集团(000759)</th>\n",
       "      <td>22</td>\n",
       "    </tr>\n",
       "    <tr>\n",
       "      <th>斯太尔(000760)</th>\n",
       "      <td>22</td>\n",
       "    </tr>\n",
       "    <tr>\n",
       "      <th>长江证券(000783)</th>\n",
       "      <td>22</td>\n",
       "    </tr>\n",
       "    <tr>\n",
       "      <th>武汉中商(000785)</th>\n",
       "      <td>22</td>\n",
       "    </tr>\n",
       "    <tr>\n",
       "      <th>云铝股份(000807)</th>\n",
       "      <td>1</td>\n",
       "    </tr>\n",
       "    <tr>\n",
       "      <th>京山轻机(000821)</th>\n",
       "      <td>22</td>\n",
       "    </tr>\n",
       "    <tr>\n",
       "      <th>启迪桑德(000826)</th>\n",
       "      <td>22</td>\n",
       "    </tr>\n",
       "    <tr>\n",
       "      <th>石化机械(000852)</th>\n",
       "      <td>22</td>\n",
       "    </tr>\n",
       "    <tr>\n",
       "      <th>三湘印象(000863)</th>\n",
       "      <td>0</td>\n",
       "    </tr>\n",
       "    <tr>\n",
       "      <th>新洋丰(000902)</th>\n",
       "      <td>22</td>\n",
       "    </tr>\n",
       "    <tr>\n",
       "      <th>福星股份(000926)</th>\n",
       "      <td>22</td>\n",
       "    </tr>\n",
       "    <tr>\n",
       "      <th>南天信息(000948)</th>\n",
       "      <td>1</td>\n",
       "    </tr>\n",
       "    <tr>\n",
       "      <th>广济药业(000952)</th>\n",
       "      <td>22</td>\n",
       "    </tr>\n",
       "    <tr>\n",
       "      <th>锡业股份(000960)</th>\n",
       "      <td>1</td>\n",
       "    </tr>\n",
       "    <tr>\n",
       "      <th>长源电力(000966)</th>\n",
       "      <td>22</td>\n",
       "    </tr>\n",
       "    <tr>\n",
       "      <th>高升控股(000971)</th>\n",
       "      <td>22</td>\n",
       "    </tr>\n",
       "    <tr>\n",
       "      <th>华工科技(000988)</th>\n",
       "      <td>22</td>\n",
       "    </tr>\n",
       "    <tr>\n",
       "      <th>中航机电(002013)</th>\n",
       "      <td>22</td>\n",
       "    </tr>\n",
       "    <tr>\n",
       "      <th>...</th>\n",
       "      <th>...</th>\n",
       "      <td>...</td>\n",
       "    </tr>\n",
       "    <tr>\n",
       "      <th rowspan=\"30\" valign=\"top\">2018-04-26 00:00:00+00:00</th>\n",
       "      <th>XD日播时(603196)</th>\n",
       "      <td>0</td>\n",
       "    </tr>\n",
       "    <tr>\n",
       "      <th>保隆科技(603197)</th>\n",
       "      <td>0</td>\n",
       "    </tr>\n",
       "    <tr>\n",
       "      <th>上海洗霸(603200)</th>\n",
       "      <td>0</td>\n",
       "    </tr>\n",
       "    <tr>\n",
       "      <th>菲林格尔(603226)</th>\n",
       "      <td>0</td>\n",
       "    </tr>\n",
       "    <tr>\n",
       "      <th>DR格尔软(603232)</th>\n",
       "      <td>0</td>\n",
       "    </tr>\n",
       "    <tr>\n",
       "      <th>上海天洋(603330)</th>\n",
       "      <td>0</td>\n",
       "    </tr>\n",
       "    <tr>\n",
       "      <th>水星家纺(603365)</th>\n",
       "      <td>0</td>\n",
       "    </tr>\n",
       "    <tr>\n",
       "      <th>亚士创能(603378)</th>\n",
       "      <td>0</td>\n",
       "    </tr>\n",
       "    <tr>\n",
       "      <th>风语筑(603466)</th>\n",
       "      <td>0</td>\n",
       "    </tr>\n",
       "    <tr>\n",
       "      <th>恒为科技(603496)</th>\n",
       "      <td>0</td>\n",
       "    </tr>\n",
       "    <tr>\n",
       "      <th>荣泰健康(603579)</th>\n",
       "      <td>0</td>\n",
       "    </tr>\n",
       "    <tr>\n",
       "      <th>艾艾精工(603580)</th>\n",
       "      <td>0</td>\n",
       "    </tr>\n",
       "    <tr>\n",
       "      <th>徕木股份(603633)</th>\n",
       "      <td>0</td>\n",
       "    </tr>\n",
       "    <tr>\n",
       "      <th>晶华新材(603683)</th>\n",
       "      <td>0</td>\n",
       "    </tr>\n",
       "    <tr>\n",
       "      <th>塞力斯(603716)</th>\n",
       "      <td>22</td>\n",
       "    </tr>\n",
       "    <tr>\n",
       "      <th>海利生物(603718)</th>\n",
       "      <td>0</td>\n",
       "    </tr>\n",
       "    <tr>\n",
       "      <th>鸣志电器(603728)</th>\n",
       "      <td>0</td>\n",
       "    </tr>\n",
       "    <tr>\n",
       "      <th>龙韵股份(603729)</th>\n",
       "      <td>0</td>\n",
       "    </tr>\n",
       "    <tr>\n",
       "      <th>泰晶科技(603738)</th>\n",
       "      <td>22</td>\n",
       "    </tr>\n",
       "    <tr>\n",
       "      <th>来伊份(603777)</th>\n",
       "      <td>0</td>\n",
       "    </tr>\n",
       "    <tr>\n",
       "      <th>华荣股份(603855)</th>\n",
       "      <td>0</td>\n",
       "    </tr>\n",
       "    <tr>\n",
       "      <th>飞科电器(603868)</th>\n",
       "      <td>0</td>\n",
       "    </tr>\n",
       "    <tr>\n",
       "      <th>数据港(603881)</th>\n",
       "      <td>0</td>\n",
       "    </tr>\n",
       "    <tr>\n",
       "      <th>XD元祖股(603886)</th>\n",
       "      <td>0</td>\n",
       "    </tr>\n",
       "    <tr>\n",
       "      <th>城地股份(603887)</th>\n",
       "      <td>0</td>\n",
       "    </tr>\n",
       "    <tr>\n",
       "      <th>天永智能(603895)</th>\n",
       "      <td>0</td>\n",
       "    </tr>\n",
       "    <tr>\n",
       "      <th>晨光文具(603899)</th>\n",
       "      <td>0</td>\n",
       "    </tr>\n",
       "    <tr>\n",
       "      <th>大理药业(603963)</th>\n",
       "      <td>1</td>\n",
       "    </tr>\n",
       "    <tr>\n",
       "      <th>康德莱(603987)</th>\n",
       "      <td>0</td>\n",
       "    </tr>\n",
       "    <tr>\n",
       "      <th>至正股份(603991)</th>\n",
       "      <td>0</td>\n",
       "    </tr>\n",
       "  </tbody>\n",
       "</table>\n",
       "<p>1295 rows × 1 columns</p>\n",
       "</div>"
      ],
      "text/plain": [
       "                                         dqfl\n",
       "2018-04-20 00:00:00+00:00 *ST宜化(000422)    22\n",
       "                          鄂武商Ａ(000501)     22\n",
       "                          长航凤凰(000520)     22\n",
       "                          云南白药(000538)      1\n",
       "                          沙隆达Ａ(000553)     22\n",
       "                          我爱我家(000560)      1\n",
       "                          天茂集团(000627)     22\n",
       "                          湖北广电(000665)     22\n",
       "                          盈方微(000670)      22\n",
       "                          襄阳轴承(000678)     22\n",
       "                          *ST双环(000707)    22\n",
       "                          大冶特钢(000708)     22\n",
       "                          中百集团(000759)     22\n",
       "                          斯太尔(000760)      22\n",
       "                          长江证券(000783)     22\n",
       "                          武汉中商(000785)     22\n",
       "                          云铝股份(000807)      1\n",
       "                          京山轻机(000821)     22\n",
       "                          启迪桑德(000826)     22\n",
       "                          石化机械(000852)     22\n",
       "                          三湘印象(000863)      0\n",
       "                          新洋丰(000902)      22\n",
       "                          福星股份(000926)     22\n",
       "                          南天信息(000948)      1\n",
       "                          广济药业(000952)     22\n",
       "                          锡业股份(000960)      1\n",
       "                          长源电力(000966)     22\n",
       "                          高升控股(000971)     22\n",
       "                          华工科技(000988)     22\n",
       "                          中航机电(002013)     22\n",
       "...                                       ...\n",
       "2018-04-26 00:00:00+00:00 XD日播时(603196)     0\n",
       "                          保隆科技(603197)      0\n",
       "                          上海洗霸(603200)      0\n",
       "                          菲林格尔(603226)      0\n",
       "                          DR格尔软(603232)     0\n",
       "                          上海天洋(603330)      0\n",
       "                          水星家纺(603365)      0\n",
       "                          亚士创能(603378)      0\n",
       "                          风语筑(603466)       0\n",
       "                          恒为科技(603496)      0\n",
       "                          荣泰健康(603579)      0\n",
       "                          艾艾精工(603580)      0\n",
       "                          徕木股份(603633)      0\n",
       "                          晶华新材(603683)      0\n",
       "                          塞力斯(603716)      22\n",
       "                          海利生物(603718)      0\n",
       "                          鸣志电器(603728)      0\n",
       "                          龙韵股份(603729)      0\n",
       "                          泰晶科技(603738)     22\n",
       "                          来伊份(603777)       0\n",
       "                          华荣股份(603855)      0\n",
       "                          飞科电器(603868)      0\n",
       "                          数据港(603881)       0\n",
       "                          XD元祖股(603886)     0\n",
       "                          城地股份(603887)      0\n",
       "                          天永智能(603895)      0\n",
       "                          晨光文具(603899)      0\n",
       "                          大理药业(603963)      1\n",
       "                          康德莱(603987)       0\n",
       "                          至正股份(603991)      0\n",
       "\n",
       "[1295 rows x 1 columns]"
      ]
     },
     "execution_count": 36,
     "metadata": {},
     "output_type": "execute_result"
    }
   ],
   "source": [
    "run_pipeline(make_pipeline(), '2018-4-20', '2018-4-26')"
   ]
  },
  {
   "cell_type": "code",
   "execution_count": 37,
   "metadata": {
    "ExecuteTime": {
     "end_time": "2018-07-01T19:45:38.246717Z",
     "start_time": "2018-07-01T19:45:38.163427Z"
    }
   },
   "outputs": [
    {
     "data": {
      "text/plain": [
       "'上海其它'"
      ]
     },
     "execution_count": 37,
     "metadata": {},
     "output_type": "execute_result"
    }
   ],
   "source": [
    "# 通过查询获取分类编码的含义\n",
    "Fundamentals.region_cname(0)"
   ]
  },
  {
   "cell_type": "code",
   "execution_count": 38,
   "metadata": {
    "ExecuteTime": {
     "end_time": "2018-07-01T19:45:38.311395Z",
     "start_time": "2018-07-01T19:45:38.250772Z"
    }
   },
   "outputs": [
    {
     "data": {
      "text/plain": [
       "'湖北'"
      ]
     },
     "execution_count": 38,
     "metadata": {},
     "output_type": "execute_result"
    }
   ],
   "source": [
    "Fundamentals.region_cname(22)"
   ]
  }
 ],
 "metadata": {
  "kernelspec": {
   "display_name": "zipline23",
   "language": "python",
   "name": "zipline23"
  },
  "language_info": {
   "codemirror_mode": {
    "name": "ipython",
    "version": 3
   },
   "file_extension": ".py",
   "mimetype": "text/x-python",
   "name": "python",
   "nbconvert_exporter": "python",
   "pygments_lexer": "ipython3",
   "version": "3.6.5"
  },
  "toc": {
   "base_numbering": 1,
   "nav_menu": {},
   "number_sections": true,
   "sideBar": true,
   "skip_h1_title": false,
   "title_cell": "Table of Contents",
   "title_sidebar": "Contents",
   "toc_cell": false,
   "toc_position": {
    "height": "calc(100% - 180px)",
    "left": "10px",
    "top": "150px",
    "width": "260px"
   },
   "toc_section_display": true,
   "toc_window_display": true
  }
 },
 "nbformat": 4,
 "nbformat_minor": 2
}
