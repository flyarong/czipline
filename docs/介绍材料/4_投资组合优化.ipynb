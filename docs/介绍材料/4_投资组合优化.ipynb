{
 "cells": [
  {
   "cell_type": "markdown",
   "metadata": {},
   "source": [
    "# alpha"
   ]
  },
  {
   "cell_type": "code",
   "execution_count": 1,
   "metadata": {
    "ExecuteTime": {
     "end_time": "2018-06-29T17:22:25.916536Z",
     "start_time": "2018-06-29T17:22:22.869737Z"
    }
   },
   "outputs": [],
   "source": [
    "import pandas as pd\n",
    "\n",
    "from zipline import optimize as opt\n",
    "\n",
    "from zipline.research import prices"
   ]
  },
  {
   "cell_type": "code",
   "execution_count": 2,
   "metadata": {
    "ExecuteTime": {
     "end_time": "2018-06-29T17:22:26.307672Z",
     "start_time": "2018-06-29T17:22:25.919620Z"
    }
   },
   "outputs": [],
   "source": [
    "# 尽量选择同时包含正负收益的股票列表\n",
    "ps = prices(['000001','000002','000333','600645','600771'],'2018-5-19','2018-5-29')"
   ]
  },
  {
   "cell_type": "code",
   "execution_count": 3,
   "metadata": {
    "ExecuteTime": {
     "end_time": "2018-06-29T17:22:26.320974Z",
     "start_time": "2018-06-29T17:22:26.310661Z"
    }
   },
   "outputs": [],
   "source": [
    "alphas = ps.pct_change(6).iloc[-1]"
   ]
  },
  {
   "cell_type": "markdown",
   "metadata": {},
   "source": [
    "## 修改数据以利更好观察"
   ]
  },
  {
   "cell_type": "code",
   "execution_count": 4,
   "metadata": {
    "ExecuteTime": {
     "end_time": "2018-06-29T17:22:26.328070Z",
     "start_time": "2018-06-29T17:22:26.323667Z"
    }
   },
   "outputs": [],
   "source": [
    "alphas = pd.Series([-0.03,-0.10,-0.,0.03,0.11],index=alphas.index)"
   ]
  },
  {
   "cell_type": "code",
   "execution_count": 5,
   "metadata": {
    "ExecuteTime": {
     "end_time": "2018-06-29T17:22:26.340637Z",
     "start_time": "2018-06-29T17:22:26.333035Z"
    }
   },
   "outputs": [
    {
     "data": {
      "text/plain": [
       "平安银行(000001)   -0.03\n",
       "万 科Ａ(000002)   -0.10\n",
       "美的集团(000333)   -0.00\n",
       "中源协和(600645)    0.03\n",
       "广誉远(600771)     0.11\n",
       "dtype: float64"
      ]
     },
     "execution_count": 5,
     "metadata": {},
     "output_type": "execute_result"
    }
   ],
   "source": [
    "alphas"
   ]
  },
  {
   "cell_type": "code",
   "execution_count": 6,
   "metadata": {
    "ExecuteTime": {
     "end_time": "2018-06-29T17:22:26.347640Z",
     "start_time": "2018-06-29T17:22:26.343745Z"
    }
   },
   "outputs": [],
   "source": [
    "_long, _short = alphas.index[4], alphas.index[1]"
   ]
  },
  {
   "cell_type": "markdown",
   "metadata": {},
   "source": [
    "# 优化"
   ]
  },
  {
   "cell_type": "markdown",
   "metadata": {},
   "source": [
    "## 期初投资组合"
   ]
  },
  {
   "cell_type": "code",
   "execution_count": 7,
   "metadata": {
    "ExecuteTime": {
     "end_time": "2018-06-29T17:22:26.355589Z",
     "start_time": "2018-06-29T17:22:26.352030Z"
    }
   },
   "outputs": [],
   "source": [
    "current_portfolio = pd.Series([-0.2,-0.1,0.0001,0.1,0.2], index=alphas.index)"
   ]
  },
  {
   "cell_type": "code",
   "execution_count": 8,
   "metadata": {
    "ExecuteTime": {
     "end_time": "2018-06-29T17:22:26.365346Z",
     "start_time": "2018-06-29T17:22:26.358887Z"
    }
   },
   "outputs": [
    {
     "data": {
      "text/plain": [
       "平安银行(000001)   -0.2000\n",
       "万 科Ａ(000002)   -0.1000\n",
       "美的集团(000333)    0.0001\n",
       "中源协和(600645)    0.1000\n",
       "广誉远(600771)     0.2000\n",
       "dtype: float64"
      ]
     },
     "execution_count": 8,
     "metadata": {},
     "output_type": "execute_result"
    }
   ],
   "source": [
    "current_portfolio"
   ]
  },
  {
   "cell_type": "markdown",
   "metadata": {},
   "source": [
    "## 最大alpha"
   ]
  },
  {
   "cell_type": "code",
   "execution_count": 9,
   "metadata": {
    "ExecuteTime": {
     "end_time": "2018-06-29T17:22:26.373774Z",
     "start_time": "2018-06-29T17:22:26.367948Z"
    }
   },
   "outputs": [],
   "source": [
    "objective = opt.MaximizeAlpha(alphas)"
   ]
  },
  {
   "cell_type": "code",
   "execution_count": 10,
   "metadata": {
    "ExecuteTime": {
     "end_time": "2018-06-29T17:22:26.382385Z",
     "start_time": "2018-06-29T17:22:26.376198Z"
    }
   },
   "outputs": [],
   "source": [
    "constraints = [\n",
    "    #opt.MaxGrossExposure(3.0),\n",
    "    #opt.NetExposure(-0.2,0.2),\n",
    "    #opt.DollarNeutral(),\n",
    "    opt.Pair(_long, _short, 2),\n",
    "    #opt.Basket(current_portfolio.index[:3],-0.3,-0.1),\n",
    "    #opt.Frozen(current_portfolio.index[2]),\n",
    "    #opt.ReduceOnly(current_portfolio.index[:3]),\n",
    "    #opt.LongOnly(current_portfolio.index[:2]),\n",
    "    opt.NotLessThan(0.1),\n",
    "    opt.NotExceed(0.5),\n",
    "    #opt.FixedWeight(current_portfolio.index[2],0.3),\n",
    "    #opt.Basket(current_portfolio.index[:3],-0.3,-0.1),\n",
    "]"
   ]
  },
  {
   "cell_type": "code",
   "execution_count": 11,
   "metadata": {
    "ExecuteTime": {
     "end_time": "2018-06-29T17:22:26.455673Z",
     "start_time": "2018-06-29T17:22:26.385780Z"
    }
   },
   "outputs": [],
   "source": [
    "result = opt.run_optimization(objective, constraints, current_portfolio)"
   ]
  },
  {
   "cell_type": "markdown",
   "metadata": {},
   "source": [
    "# 不可行约束"
   ]
  },
  {
   "cell_type": "code",
   "execution_count": 12,
   "metadata": {
    "ExecuteTime": {
     "end_time": "2018-06-29T17:22:26.466273Z",
     "start_time": "2018-06-29T17:22:26.461116Z"
    }
   },
   "outputs": [
    {
     "data": {
      "text/plain": [
       "'infeasible'"
      ]
     },
     "execution_count": 12,
     "metadata": {},
     "output_type": "execute_result"
    }
   ],
   "source": [
    "result.prob.status"
   ]
  },
  {
   "cell_type": "code",
   "execution_count": 13,
   "metadata": {
    "ExecuteTime": {
     "end_time": "2018-06-29T17:22:26.475124Z",
     "start_time": "2018-06-29T17:22:26.469775Z"
    }
   },
   "outputs": [
    {
     "name": "stdout",
     "output_type": "stream",
     "text": [
      "没有找到满足所有必需约束的投资组合，尝试优化失败。检查以下投资组合，发现违背约束条件：\n",
      "万 科Ａ(000002)不可能同时满足<Pair(广誉远(600771)，万 科Ａ(000002)，对冲比率：2)>和<NotLessThan(权重>=0.1)>约束\n",
      "万 科Ａ(000002)不可能同时满足<Pair(广誉远(600771)，万 科Ａ(000002)，对冲比率：2)>和<NotExceed(区间[-0.5,+0.5])>约束\n",
      "广誉远(600771)不可能同时满足<Pair(广誉远(600771)，万 科Ａ(000002)，对冲比率：2)>和<NotExceed(区间[-0.5,+0.5])>约束\n",
      "\n"
     ]
    }
   ],
   "source": [
    "result.print_diagnostics()"
   ]
  },
  {
   "cell_type": "code",
   "execution_count": 14,
   "metadata": {
    "ExecuteTime": {
     "end_time": "2018-06-29T17:22:26.480936Z",
     "start_time": "2018-06-29T17:22:26.477894Z"
    }
   },
   "outputs": [],
   "source": [
    "result.new_weights"
   ]
  },
  {
   "cell_type": "markdown",
   "metadata": {},
   "source": [
    "# 无界"
   ]
  },
  {
   "cell_type": "code",
   "execution_count": 15,
   "metadata": {
    "ExecuteTime": {
     "end_time": "2018-06-29T17:22:26.489301Z",
     "start_time": "2018-06-29T17:22:26.483426Z"
    }
   },
   "outputs": [],
   "source": [
    "constraints = [\n",
    "    #opt.MaxGrossExposure(3.0),\n",
    "    #opt.NetExposure(-0.2,0.2),\n",
    "    #opt.DollarNeutral(),\n",
    "    opt.Pair(_long, _short, 2),\n",
    "    #opt.Basket(current_portfolio.index[:3],-0.3,-0.1),\n",
    "    #opt.Frozen(current_portfolio.index[2]),\n",
    "    #opt.ReduceOnly(current_portfolio.index[:3]),\n",
    "    #opt.LongOnly(current_portfolio.index[:2]),\n",
    "    opt.NotLessThan(0.1),\n",
    "    #opt.NotExceed(0.5),\n",
    "    #opt.FixedWeight(current_portfolio.index[2],0.3),\n",
    "    #opt.Basket(current_portfolio.index[:3],-0.3,-0.1),\n",
    "]"
   ]
  },
  {
   "cell_type": "code",
   "execution_count": 16,
   "metadata": {
    "ExecuteTime": {
     "end_time": "2018-06-29T17:22:26.531857Z",
     "start_time": "2018-06-29T17:22:26.492158Z"
    }
   },
   "outputs": [],
   "source": [
    "result = opt.run_optimization(objective, constraints, current_portfolio)"
   ]
  },
  {
   "cell_type": "code",
   "execution_count": 17,
   "metadata": {
    "ExecuteTime": {
     "end_time": "2018-06-29T17:22:26.543384Z",
     "start_time": "2018-06-29T17:22:26.538213Z"
    }
   },
   "outputs": [
    {
     "data": {
      "text/plain": [
       "'unbounded'"
      ]
     },
     "execution_count": 17,
     "metadata": {},
     "output_type": "execute_result"
    }
   ],
   "source": [
    "result.prob.status"
   ]
  },
  {
   "cell_type": "code",
   "execution_count": 18,
   "metadata": {
    "ExecuteTime": {
     "end_time": "2018-06-29T17:22:26.551977Z",
     "start_time": "2018-06-29T17:22:26.547363Z"
    }
   },
   "outputs": [
    {
     "name": "stdout",
     "output_type": "stream",
     "text": [
      "问题无界。如没有限制总权重，求解最大alpha时，目标权重无上界\n"
     ]
    }
   ],
   "source": [
    "result.print_diagnostics()"
   ]
  },
  {
   "cell_type": "markdown",
   "metadata": {
    "ExecuteTime": {
     "end_time": "2018-06-05T00:16:51.392700Z",
     "start_time": "2018-06-05T00:16:51.389983Z"
    }
   },
   "source": [
    "# 修改约束"
   ]
  },
  {
   "cell_type": "code",
   "execution_count": 19,
   "metadata": {
    "ExecuteTime": {
     "end_time": "2018-06-29T17:22:26.566396Z",
     "start_time": "2018-06-29T17:22:26.556091Z"
    }
   },
   "outputs": [],
   "source": [
    "constraints = [\n",
    "    opt.MaxGrossExposure(3.0),\n",
    "    #opt.NetExposure(-0.2,0.2),\n",
    "    #opt.DollarNeutral(),\n",
    "    opt.Pair(_long, _short, 2),\n",
    "    #opt.Basket(current_portfolio.index[:3],-0.3,-0.1),\n",
    "    #opt.Frozen(current_portfolio.index[2]),\n",
    "    #opt.ReduceOnly(current_portfolio.index[:3]),\n",
    "    #opt.LongOnly(current_portfolio.index[:2]),\n",
    "#     opt.NotLessThan(0.1),\n",
    "    #opt.NotExceed(0.5),\n",
    "    #opt.FixedWeight(current_portfolio.index[2],0.3),\n",
    "    #opt.Basket(current_portfolio.index[:3],-0.3,-0.1),\n",
    "]"
   ]
  },
  {
   "cell_type": "code",
   "execution_count": 20,
   "metadata": {
    "ExecuteTime": {
     "end_time": "2018-06-29T17:22:26.617261Z",
     "start_time": "2018-06-29T17:22:26.569782Z"
    }
   },
   "outputs": [],
   "source": [
    "result = opt.run_optimization(objective, constraints, current_portfolio)"
   ]
  },
  {
   "cell_type": "code",
   "execution_count": 21,
   "metadata": {
    "ExecuteTime": {
     "end_time": "2018-06-29T17:22:26.635397Z",
     "start_time": "2018-06-29T17:22:26.620474Z"
    }
   },
   "outputs": [
    {
     "data": {
      "text/plain": [
       "平安银行(000001)    0.0\n",
       "万 科Ａ(000002)   -1.0\n",
       "美的集团(000333)    0.0\n",
       "中源协和(600645)   -0.0\n",
       "广誉远(600771)     2.0\n",
       "dtype: float64"
      ]
     },
     "execution_count": 21,
     "metadata": {},
     "output_type": "execute_result"
    }
   ],
   "source": [
    "result.new_weights"
   ]
  }
 ],
 "metadata": {
  "kernelspec": {
   "display_name": "zipline23",
   "language": "python",
   "name": "zipline23"
  },
  "language_info": {
   "codemirror_mode": {
    "name": "ipython",
    "version": 3
   },
   "file_extension": ".py",
   "mimetype": "text/x-python",
   "name": "python",
   "nbconvert_exporter": "python",
   "pygments_lexer": "ipython3",
   "version": "3.6.5"
  },
  "toc": {
   "base_numbering": 1,
   "nav_menu": {},
   "number_sections": true,
   "sideBar": true,
   "skip_h1_title": false,
   "title_cell": "Table of Contents",
   "title_sidebar": "Contents",
   "toc_cell": false,
   "toc_position": {
    "height": "calc(100% - 180px)",
    "left": "10px",
    "top": "150px",
    "width": "260px"
   },
   "toc_section_display": true,
   "toc_window_display": false
  }
 },
 "nbformat": 4,
 "nbformat_minor": 2
}
